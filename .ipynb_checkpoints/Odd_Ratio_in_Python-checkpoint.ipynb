{
 "cells": [
  {
   "cell_type": "markdown",
   "metadata": {},
   "source": [
    "# How to compute odd ratio with Python? "
   ]
  },
  {
   "cell_type": "code",
   "execution_count": 53,
   "metadata": {},
   "outputs": [],
   "source": [
    "import numpy as np\n",
    "\n",
    "from patsy import dmatrix , build_design_matrices\n",
    "import statsmodels.api as sm\n",
    "import statsmodels.formula.api as smf"
   ]
  },
  {
   "cell_type": "markdown",
   "metadata": {},
   "source": [
    "## 2nd Method : Logistic Regression "
   ]
  },
  {
   "cell_type": "code",
   "execution_count": 22,
   "metadata": {},
   "outputs": [
    {
     "name": "stderr",
     "output_type": "stream",
     "text": [
      "/Users/sophiayazzourh/opt/anaconda3/lib/python3.8/site-packages/sklearn/utils/validation.py:73: DataConversionWarning: A column-vector y was passed when a 1d array was expected. Please change the shape of y to (n_samples, ), for example using ravel().\n",
      "  return f(**kwargs)\n"
     ]
    }
   ],
   "source": [
    "from sklearn.linear_model import LogisticRegression\n",
    "df=pd.get_dummies(df,drop_first=True)\n",
    "clf = LogisticRegression(penalty='none')\n",
    "clf.fit(df[['c_m']],df[['l']].values)\n",
    "odds_ratio=np.exp(clf.coef_)"
   ]
  },
  {
   "cell_type": "code",
   "execution_count": 23,
   "metadata": {},
   "outputs": [
    {
     "data": {
      "text/html": [
       "<div>\n",
       "<style scoped>\n",
       "    .dataframe tbody tr th:only-of-type {\n",
       "        vertical-align: middle;\n",
       "    }\n",
       "\n",
       "    .dataframe tbody tr th {\n",
       "        vertical-align: top;\n",
       "    }\n",
       "\n",
       "    .dataframe thead th {\n",
       "        text-align: right;\n",
       "    }\n",
       "</style>\n",
       "<table border=\"1\" class=\"dataframe\">\n",
       "  <thead>\n",
       "    <tr style=\"text-align: right;\">\n",
       "      <th></th>\n",
       "      <th>l</th>\n",
       "      <th>c_m</th>\n",
       "    </tr>\n",
       "  </thead>\n",
       "  <tbody>\n",
       "    <tr>\n",
       "      <th>0</th>\n",
       "      <td>1</td>\n",
       "      <td>1</td>\n",
       "    </tr>\n",
       "    <tr>\n",
       "      <th>1</th>\n",
       "      <td>1</td>\n",
       "      <td>1</td>\n",
       "    </tr>\n",
       "    <tr>\n",
       "      <th>2</th>\n",
       "      <td>1</td>\n",
       "      <td>1</td>\n",
       "    </tr>\n",
       "    <tr>\n",
       "      <th>3</th>\n",
       "      <td>0</td>\n",
       "      <td>1</td>\n",
       "    </tr>\n",
       "    <tr>\n",
       "      <th>4</th>\n",
       "      <td>0</td>\n",
       "      <td>0</td>\n",
       "    </tr>\n",
       "    <tr>\n",
       "      <th>5</th>\n",
       "      <td>0</td>\n",
       "      <td>0</td>\n",
       "    </tr>\n",
       "    <tr>\n",
       "      <th>6</th>\n",
       "      <td>0</td>\n",
       "      <td>0</td>\n",
       "    </tr>\n",
       "    <tr>\n",
       "      <th>7</th>\n",
       "      <td>1</td>\n",
       "      <td>0</td>\n",
       "    </tr>\n",
       "  </tbody>\n",
       "</table>\n",
       "</div>"
      ],
      "text/plain": [
       "   l  c_m\n",
       "0  1    1\n",
       "1  1    1\n",
       "2  1    1\n",
       "3  0    1\n",
       "4  0    0\n",
       "5  0    0\n",
       "6  0    0\n",
       "7  1    0"
      ]
     },
     "execution_count": 23,
     "metadata": {},
     "output_type": "execute_result"
    }
   ],
   "source": [
    "df"
   ]
  },
  {
   "cell_type": "code",
   "execution_count": 26,
   "metadata": {},
   "outputs": [
    {
     "data": {
      "text/plain": [
       "array([-1.09862055])"
      ]
     },
     "execution_count": 26,
     "metadata": {},
     "output_type": "execute_result"
    }
   ],
   "source": [
    "clf.intercept_"
   ]
  },
  {
   "cell_type": "code",
   "execution_count": 24,
   "metadata": {},
   "outputs": [
    {
     "data": {
      "text/plain": [
       "array([[2.19727007]])"
      ]
     },
     "execution_count": 24,
     "metadata": {},
     "output_type": "execute_result"
    }
   ],
   "source": [
    "clf.coef_"
   ]
  },
  {
   "cell_type": "code",
   "execution_count": 25,
   "metadata": {},
   "outputs": [
    {
     "data": {
      "text/html": [
       "<div>\n",
       "<style scoped>\n",
       "    .dataframe tbody tr th:only-of-type {\n",
       "        vertical-align: middle;\n",
       "    }\n",
       "\n",
       "    .dataframe tbody tr th {\n",
       "        vertical-align: top;\n",
       "    }\n",
       "\n",
       "    .dataframe thead th {\n",
       "        text-align: right;\n",
       "    }\n",
       "</style>\n",
       "<table border=\"1\" class=\"dataframe\">\n",
       "  <thead>\n",
       "    <tr style=\"text-align: right;\">\n",
       "      <th></th>\n",
       "      <th>l</th>\n",
       "      <th>c_m</th>\n",
       "    </tr>\n",
       "  </thead>\n",
       "  <tbody>\n",
       "    <tr>\n",
       "      <th>0</th>\n",
       "      <td>1</td>\n",
       "      <td>1</td>\n",
       "    </tr>\n",
       "    <tr>\n",
       "      <th>1</th>\n",
       "      <td>1</td>\n",
       "      <td>1</td>\n",
       "    </tr>\n",
       "    <tr>\n",
       "      <th>2</th>\n",
       "      <td>1</td>\n",
       "      <td>1</td>\n",
       "    </tr>\n",
       "    <tr>\n",
       "      <th>3</th>\n",
       "      <td>0</td>\n",
       "      <td>1</td>\n",
       "    </tr>\n",
       "    <tr>\n",
       "      <th>4</th>\n",
       "      <td>0</td>\n",
       "      <td>0</td>\n",
       "    </tr>\n",
       "    <tr>\n",
       "      <th>5</th>\n",
       "      <td>0</td>\n",
       "      <td>0</td>\n",
       "    </tr>\n",
       "    <tr>\n",
       "      <th>6</th>\n",
       "      <td>0</td>\n",
       "      <td>0</td>\n",
       "    </tr>\n",
       "    <tr>\n",
       "      <th>7</th>\n",
       "      <td>1</td>\n",
       "      <td>0</td>\n",
       "    </tr>\n",
       "  </tbody>\n",
       "</table>\n",
       "</div>"
      ],
      "text/plain": [
       "   l  c_m\n",
       "0  1    1\n",
       "1  1    1\n",
       "2  1    1\n",
       "3  0    1\n",
       "4  0    0\n",
       "5  0    0\n",
       "6  0    0\n",
       "7  1    0"
      ]
     },
     "execution_count": 25,
     "metadata": {},
     "output_type": "execute_result"
    }
   ],
   "source": [
    "df"
   ]
  },
  {
   "cell_type": "code",
   "execution_count": 30,
   "metadata": {},
   "outputs": [
    {
     "data": {
      "text/plain": [
       "array([[9.0004094]])"
      ]
     },
     "execution_count": 30,
     "metadata": {},
     "output_type": "execute_result"
    }
   ],
   "source": [
    "odds_ratio"
   ]
  },
  {
   "cell_type": "markdown",
   "metadata": {},
   "source": [
    "## 3rd Method "
   ]
  },
  {
   "cell_type": "code",
   "execution_count": 31,
   "metadata": {},
   "outputs": [
    {
     "name": "stdout",
     "output_type": "stream",
     "text": [
      "[[9.0004094]]\n"
     ]
    }
   ],
   "source": [
    "odds_of_yis_1_for_female = np.exp(clf.intercept_+clf.coef_*1) #logit for female\n",
    "odds_of_yis_1_for_male = np.exp(clf.intercept_+clf.coef_*0) # logit for male\n",
    "odds_ratio_2 = odds_of_yis_1_for_female/odds_of_yis_1_for_male\n",
    "print(odds_ratio_2)"
   ]
  },
  {
   "cell_type": "code",
   "execution_count": 32,
   "metadata": {},
   "outputs": [
    {
     "data": {
      "text/plain": [
       "array([[3.00011167]])"
      ]
     },
     "execution_count": 32,
     "metadata": {},
     "output_type": "execute_result"
    }
   ],
   "source": [
    "odds_of_yis_1_for_female"
   ]
  },
  {
   "cell_type": "code",
   "execution_count": 33,
   "metadata": {},
   "outputs": [
    {
     "data": {
      "text/plain": [
       "array([[0.33333058]])"
      ]
     },
     "execution_count": 33,
     "metadata": {},
     "output_type": "execute_result"
    }
   ],
   "source": [
    "odds_of_yis_1_for_male"
   ]
  },
  {
   "cell_type": "markdown",
   "metadata": {},
   "source": [
    "= >> ATTENTION AU MULTIVARIEE "
   ]
  },
  {
   "cell_type": "markdown",
   "metadata": {},
   "source": [
    "# ON APPLIQUE  Sur les données "
   ]
  },
  {
   "cell_type": "code",
   "execution_count": 184,
   "metadata": {},
   "outputs": [
    {
     "data": {
      "text/plain": [
       "1.67"
      ]
     },
     "execution_count": 184,
     "metadata": {},
     "output_type": "execute_result"
    }
   ],
   "source": [
    "np.percentile(data['Fibrinogène rdb'],20)"
   ]
  },
  {
   "cell_type": "code",
   "execution_count": 185,
   "metadata": {},
   "outputs": [
    {
     "data": {
      "text/plain": [
       "1.9060000000000001"
      ]
     },
     "execution_count": 185,
     "metadata": {},
     "output_type": "execute_result"
    }
   ],
   "source": [
    "np.percentile(data['Fibrinogène rdb'],40)"
   ]
  },
  {
   "cell_type": "code",
   "execution_count": 186,
   "metadata": {},
   "outputs": [
    {
     "data": {
      "text/plain": [
       "2.18"
      ]
     },
     "execution_count": 186,
     "metadata": {},
     "output_type": "execute_result"
    }
   ],
   "source": [
    "np.percentile(data['Fibrinogène rdb'],60)"
   ]
  },
  {
   "cell_type": "code",
   "execution_count": 187,
   "metadata": {},
   "outputs": [
    {
     "data": {
      "text/plain": [
       "2.5160000000000013"
      ]
     },
     "execution_count": 187,
     "metadata": {},
     "output_type": "execute_result"
    }
   ],
   "source": [
    "np.percentile(data['Fibrinogène rdb'],80)"
   ]
  },
  {
   "cell_type": "code",
   "execution_count": 188,
   "metadata": {},
   "outputs": [
    {
     "name": "stdout",
     "output_type": "stream",
     "text": [
      "435\n"
     ]
    },
    {
     "name": "stderr",
     "output_type": "stream",
     "text": [
      "<ipython-input-188-9fce1085c688>:4: SettingWithCopyWarning: \n",
      "A value is trying to be set on a copy of a slice from a DataFrame\n",
      "\n",
      "See the caveats in the documentation: https://pandas.pydata.org/pandas-docs/stable/user_guide/indexing.html#returning-a-view-versus-a-copy\n",
      "  data[\"transfusion CG\"][np.where(data[\"transfusion CG\"] > 0)[0]] = 1\n",
      "/Users/sophiayazzourh/opt/anaconda3/lib/python3.8/site-packages/sklearn/linear_model/_logistic.py:762: ConvergenceWarning: lbfgs failed to converge (status=1):\n",
      "STOP: TOTAL NO. of ITERATIONS REACHED LIMIT.\n",
      "\n",
      "Increase the number of iterations (max_iter) or scale the data as shown in:\n",
      "    https://scikit-learn.org/stable/modules/preprocessing.html\n",
      "Please also refer to the documentation for alternative solver options:\n",
      "    https://scikit-learn.org/stable/modules/linear_model.html#logistic-regression\n",
      "  n_iter_i = _check_optimize_result(\n"
     ]
    }
   ],
   "source": [
    "## Data\n",
    "data = pd.read_excel(\"./Base_PBM_Facteurs_Confusion.xlsx\")\n",
    "### Data cleaning \n",
    "data[\"transfusion CG\"][np.where(data[\"transfusion CG\"] > 0)[0]] = 1\n",
    "data.dropna(inplace=True)\n",
    "data.set_index(np.arange(len(data)))\n",
    "print(len(data))\n",
    "data.head()\n",
    "\n",
    "## Spline\n",
    "## Cubic spline (B_Spline) process on fibrinogene rdb\n",
    "transformed_fibri = dmatrix(\"bs(train, knots=(1.67, 1.9, 2.18, 2.51), degree=3, include_intercept=False)\", {\"train\": data['Fibrinogène rdb']},return_type='dataframe')\n",
    "Facteurs_Confusion_Spline = pd.concat([data.copy(),transformed_fibri], axis = 1)\n",
    "\n",
    "## Supp no-needed columns\n",
    "del Facteurs_Confusion_Spline['fibrinogene']\n",
    "del Facteurs_Confusion_Spline['transfusion CG']\n",
    "del Facteurs_Confusion_Spline['Fibrinogène rdb']\n",
    "del Facteurs_Confusion_Spline['Intercept']\n",
    "X = Facteurs_Confusion_Spline\n",
    "y = data[\"transfusion CG\"]\n",
    "## Model \n",
    "from sklearn.linear_model import LogisticRegression\n",
    "logitS = LogisticRegression().fit(X,y)"
   ]
  },
  {
   "cell_type": "code",
   "execution_count": 189,
   "metadata": {},
   "outputs": [],
   "source": [
    "### Récupération des coeff "
   ]
  },
  {
   "cell_type": "code",
   "execution_count": 190,
   "metadata": {},
   "outputs": [
    {
     "data": {
      "text/plain": [
       "array([[ 3.55865611e-02, -6.88908897e-02,  4.35962516e-01,\n",
       "         1.61937057e-01,  5.28318411e-01, -2.69173961e-01,\n",
       "         3.84524491e-01, -1.01964723e-01, -4.68043562e-01,\n",
       "         3.06177146e-02,  7.26788861e-01,  1.45385271e-01,\n",
       "         3.14549504e-01,  6.48768457e-02, -3.91128608e-01,\n",
       "         1.69408500e-04,  1.30402370e-02,  2.66492132e-01,\n",
       "         2.90373532e-01,  3.57505757e-01,  2.37275516e-01,\n",
       "        -4.48340705e-01, -3.10857558e-01, -1.44736845e-01,\n",
       "         6.44270706e-02,  1.54802584e-01]])"
      ]
     },
     "execution_count": 190,
     "metadata": {},
     "output_type": "execute_result"
    }
   ],
   "source": [
    "logitS.coef_"
   ]
  },
  {
   "cell_type": "code",
   "execution_count": 191,
   "metadata": {},
   "outputs": [
    {
     "data": {
      "text/plain": [
       "array([0.17914284])"
      ]
     },
     "execution_count": 191,
     "metadata": {},
     "output_type": "execute_result"
    }
   ],
   "source": [
    "logitS.intercept_"
   ]
  },
  {
   "cell_type": "code",
   "execution_count": 192,
   "metadata": {},
   "outputs": [
    {
     "data": {
      "text/plain": [
       "True"
      ]
     },
     "execution_count": 192,
     "metadata": {},
     "output_type": "execute_result"
    }
   ],
   "source": [
    "len(logitS.coef_[0]) == len(X.columns)"
   ]
  },
  {
   "cell_type": "code",
   "execution_count": 193,
   "metadata": {},
   "outputs": [
    {
     "data": {
      "text/plain": [
       "Index(['age', 'poids', 'taille', 'imc', 'redux', 'hta', 'diabete', 'avk',\n",
       "       'aod', 'plavix', 'kardegic', 'autres aap', 'betabloquant',\n",
       "       'diuretiques', 'hb', 'ferritinemie', 'coeff de sat',\n",
       "       'type intervention', 'duree rea',\n",
       "       'bs(train, knots=(1.67, 1.9, 2.18, 2.51), degree=3, include_intercept=False)[0]',\n",
       "       'bs(train, knots=(1.67, 1.9, 2.18, 2.51), degree=3, include_intercept=False)[1]',\n",
       "       'bs(train, knots=(1.67, 1.9, 2.18, 2.51), degree=3, include_intercept=False)[2]',\n",
       "       'bs(train, knots=(1.67, 1.9, 2.18, 2.51), degree=3, include_intercept=False)[3]',\n",
       "       'bs(train, knots=(1.67, 1.9, 2.18, 2.51), degree=3, include_intercept=False)[4]',\n",
       "       'bs(train, knots=(1.67, 1.9, 2.18, 2.51), degree=3, include_intercept=False)[5]',\n",
       "       'bs(train, knots=(1.67, 1.9, 2.18, 2.51), degree=3, include_intercept=False)[6]'],\n",
       "      dtype='object')"
      ]
     },
     "execution_count": 193,
     "metadata": {},
     "output_type": "execute_result"
    }
   ],
   "source": [
    "X.columns"
   ]
  },
  {
   "cell_type": "code",
   "execution_count": 194,
   "metadata": {},
   "outputs": [
    {
     "data": {
      "text/plain": [
       "count    435.000000\n",
       "mean       2.133080\n",
       "std        0.614638\n",
       "min        0.850000\n",
       "25%        1.740000\n",
       "50%        2.030000\n",
       "75%        2.430000\n",
       "max        4.700000\n",
       "Name: Fibrinogène rdb, dtype: float64"
      ]
     },
     "execution_count": 194,
     "metadata": {},
     "output_type": "execute_result"
    }
   ],
   "source": [
    "data['Fibrinogène rdb'].describe()"
   ]
  },
  {
   "cell_type": "code",
   "execution_count": 195,
   "metadata": {},
   "outputs": [
    {
     "data": {
      "text/plain": [
       "1.175"
      ]
     },
     "execution_count": 195,
     "metadata": {},
     "output_type": "execute_result"
    }
   ],
   "source": [
    "(0.85 + 1.5)/2"
   ]
  },
  {
   "cell_type": "code",
   "execution_count": 196,
   "metadata": {},
   "outputs": [
    {
     "data": {
      "text/plain": [
       "3.85"
      ]
     },
     "execution_count": 196,
     "metadata": {},
     "output_type": "execute_result"
    }
   ],
   "source": [
    "(4.7 + 3)/2"
   ]
  },
  {
   "cell_type": "code",
   "execution_count": 197,
   "metadata": {},
   "outputs": [
    {
     "data": {
      "text/plain": [
       "0      2.27\n",
       "1      1.30\n",
       "2      2.43\n",
       "3      1.78\n",
       "4      3.23\n",
       "       ... \n",
       "468    1.43\n",
       "470    2.06\n",
       "471    1.57\n",
       "473    1.99\n",
       "474    3.03\n",
       "Name: Fibrinogène rdb, Length: 435, dtype: float64"
      ]
     },
     "execution_count": 197,
     "metadata": {},
     "output_type": "execute_result"
    }
   ],
   "source": [
    "data['Fibrinogène rdb']"
   ]
  },
  {
   "cell_type": "code",
   "execution_count": 198,
   "metadata": {},
   "outputs": [
    {
     "data": {
      "text/plain": [
       "{'train': 0      2.27\n",
       " 1      1.30\n",
       " 2      2.43\n",
       " 3      1.78\n",
       " 4      3.23\n",
       "        ... \n",
       " 468    1.43\n",
       " 470    2.06\n",
       " 471    1.57\n",
       " 473    1.99\n",
       " 474    3.03\n",
       " Name: Fibrinogène rdb, Length: 435, dtype: float64}"
      ]
     },
     "execution_count": 198,
     "metadata": {},
     "output_type": "execute_result"
    }
   ],
   "source": [
    "{\"train\": data['Fibrinogène rdb']}"
   ]
  },
  {
   "cell_type": "code",
   "execution_count": 199,
   "metadata": {},
   "outputs": [
    {
     "data": {
      "text/plain": [
       "{'train': 0    1.18\n",
       " 1    1.75\n",
       " 2    2.25\n",
       " 3    2.75\n",
       " 4    3.85\n",
       " Name: mid, dtype: float64}"
      ]
     },
     "execution_count": 199,
     "metadata": {},
     "output_type": "execute_result"
    }
   ],
   "source": [
    "middle_classes = pd.DataFrame([1.18 , 1.75 , 2.25, 2.75, 3.85], columns = ['mid'])\n",
    "{\"train\": middle_classes['mid'] }"
   ]
  },
  {
   "cell_type": "code",
   "execution_count": 200,
   "metadata": {},
   "outputs": [],
   "source": [
    "#### Quel classes choisir? \n",
    "### Elles sont forcément liées au taux de fibrinogène \n",
    "### On reprends celle de l'article czr elles sont basées sur des connaissances métier \n",
    "### Nos classes sont donc : \n",
    "# inférieur à 1.5 , 1.5-2 , 2-2.5, 2.5-3, supérieur à 3\n",
    "### On calcul l'odd de chaque classe à partir du mileu de chaque classe \n",
    "### Milieu de classes : 1.18 , 1.75 , 2.25, 2.75, 3.85 \n",
    "### On doit récupérer les valeurs des coefficients des splines en ces points \n",
    "middle_classes = pd.DataFrame([1.18 , 1.75 , 2.25, 2.75, 3.85], columns = ['mid'])\n",
    "new_data = {\"train\": middle_classes['mid'] }\n",
    "build = build_design_matrices([transformed_fibri.design_info], new_data)[0]\n",
    "bspline_val = np.asarray(build)"
   ]
  },
  {
   "cell_type": "code",
   "execution_count": 201,
   "metadata": {},
   "outputs": [
    {
     "data": {
      "text/plain": [
       "DesignMatrix with shape (5, 8)\n",
       "  Columns:\n",
       "    ['Intercept',\n",
       "     'bs(train, knots=(1.67, 1.9, 2.18, 2.51), degree=3, include_intercept=False)[0]',\n",
       "     'bs(train, knots=(1.67, 1.9, 2.18, 2.51), degree=3, include_intercept=False)[1]',\n",
       "     'bs(train, knots=(1.67, 1.9, 2.18, 2.51), degree=3, include_intercept=False)[2]',\n",
       "     'bs(train, knots=(1.67, 1.9, 2.18, 2.51), degree=3, include_intercept=False)[3]',\n",
       "     'bs(train, knots=(1.67, 1.9, 2.18, 2.51), degree=3, include_intercept=False)[4]',\n",
       "     'bs(train, knots=(1.67, 1.9, 2.18, 2.51), degree=3, include_intercept=False)[5]',\n",
       "     'bs(train, knots=(1.67, 1.9, 2.18, 2.51), degree=3, include_intercept=False)[6]']\n",
       "  Terms:\n",
       "    'Intercept' (column 0)\n",
       "    'bs(train, knots=(1.67, 1.9, 2.18, 2.51), degree=3, include_intercept=False)' (columns 1:8)\n",
       "  (to view full data, use np.asarray(this_obj))"
      ]
     },
     "execution_count": 201,
     "metadata": {},
     "output_type": "execute_result"
    }
   ],
   "source": [
    "build"
   ]
  },
  {
   "cell_type": "code",
   "execution_count": 202,
   "metadata": {},
   "outputs": [
    {
     "data": {
      "text/plain": [
       "(5, 8)"
      ]
     },
     "execution_count": 202,
     "metadata": {},
     "output_type": "execute_result"
    }
   ],
   "source": [
    "bspline_val.shape"
   ]
  },
  {
   "cell_type": "code",
   "execution_count": 203,
   "metadata": {},
   "outputs": [
    {
     "data": {
      "text/plain": [
       "array([1.        , 0.49783289, 0.2574081 , 0.03138246, 0.        ,\n",
       "       0.        , 0.        , 0.        ])"
      ]
     },
     "execution_count": 203,
     "metadata": {},
     "output_type": "execute_result"
    }
   ],
   "source": [
    "bspline_val[0]"
   ]
  },
  {
   "cell_type": "code",
   "execution_count": 204,
   "metadata": {},
   "outputs": [
    {
     "data": {
      "text/plain": [
       "2.0000000000000004"
      ]
     },
     "execution_count": 204,
     "metadata": {},
     "output_type": "execute_result"
    }
   ],
   "source": [
    "np.sum(bspline_val[1])"
   ]
  },
  {
   "cell_type": "code",
   "execution_count": 205,
   "metadata": {},
   "outputs": [
    {
     "data": {
      "text/plain": [
       "2.0"
      ]
     },
     "execution_count": 205,
     "metadata": {},
     "output_type": "execute_result"
    }
   ],
   "source": [
    "np.sum(bspline_val[2])"
   ]
  },
  {
   "cell_type": "code",
   "execution_count": 206,
   "metadata": {},
   "outputs": [
    {
     "data": {
      "text/plain": [
       "2.0"
      ]
     },
     "execution_count": 206,
     "metadata": {},
     "output_type": "execute_result"
    }
   ],
   "source": [
    "np.sum(bspline_val[3])"
   ]
  },
  {
   "cell_type": "code",
   "execution_count": 207,
   "metadata": {},
   "outputs": [
    {
     "data": {
      "text/plain": [
       "2.0"
      ]
     },
     "execution_count": 207,
     "metadata": {},
     "output_type": "execute_result"
    }
   ],
   "source": [
    "np.sum(bspline_val[4])"
   ]
  },
  {
   "cell_type": "code",
   "execution_count": 208,
   "metadata": {},
   "outputs": [
    {
     "name": "stdout",
     "output_type": "stream",
     "text": [
      "5.969262902947406\n",
      "7.389056098930653\n",
      "7.38905609893065\n",
      "7.38905609893065\n",
      "7.38905609893065\n"
     ]
    }
   ],
   "source": [
    "odd_class1 = np.exp(np.sum(bspline_val[0]))\n",
    "print(odd_class1)\n",
    "odd_class2 = np.exp(np.sum(bspline_val[1]))\n",
    "print(odd_class2)\n",
    "odd_class3 = np.exp(np.sum(bspline_val[2]))\n",
    "print(odd_class3)\n",
    "odd_class4 = np.exp(np.sum(bspline_val[3]))\n",
    "print(odd_class4)\n",
    "odd_class5 = np.exp(np.sum(bspline_val[4]))\n",
    "print(odd_class5)"
   ]
  },
  {
   "cell_type": "code",
   "execution_count": 209,
   "metadata": {},
   "outputs": [
    {
     "name": "stdout",
     "output_type": "stream",
     "text": [
      "[[9.0004094]]\n"
     ]
    }
   ],
   "source": [
    "odds_of_yis_1_for_female = np.exp(clf.intercept_+clf.coef_*1) #logit for female\n",
    "odds_of_yis_1_for_male = np.exp(clf.intercept_+clf.coef_*0) # logit for male\n",
    "odds_ratio_2 = odds_of_yis_1_for_female/odds_of_yis_1_for_male\n",
    "print(odds_ratio_2)"
   ]
  }
 ],
 "metadata": {
  "kernelspec": {
   "display_name": "Python 3",
   "language": "python",
   "name": "python3"
  },
  "language_info": {
   "codemirror_mode": {
    "name": "ipython",
    "version": 3
   },
   "file_extension": ".py",
   "mimetype": "text/x-python",
   "name": "python",
   "nbconvert_exporter": "python",
   "pygments_lexer": "ipython3",
   "version": "3.8.3"
  }
 },
 "nbformat": 4,
 "nbformat_minor": 4
}
