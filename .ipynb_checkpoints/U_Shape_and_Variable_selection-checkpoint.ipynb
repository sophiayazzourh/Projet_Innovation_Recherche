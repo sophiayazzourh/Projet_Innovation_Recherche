{
 "cells": [
  {
   "cell_type": "markdown",
   "metadata": {},
   "source": [
    "# Libraries and data"
   ]
  },
  {
   "cell_type": "code",
   "execution_count": 3,
   "metadata": {},
   "outputs": [],
   "source": [
    "## Libraries \n",
    "import numpy as np\n",
    "import pandas as pd\n",
    "pd.options.mode.chained_assignment = None  # default='warn'\n",
    "import matplotlib.pyplot as plt\n",
    "\n",
    "### Warning \n",
    "import warnings\n",
    "warnings.filterwarnings(\"ignore\")"
   ]
  },
  {
   "cell_type": "code",
   "execution_count": 4,
   "metadata": {},
   "outputs": [
    {
     "name": "stdout",
     "output_type": "stream",
     "text": [
      "435\n"
     ]
    },
    {
     "data": {
      "text/html": [
       "<div>\n",
       "<style scoped>\n",
       "    .dataframe tbody tr th:only-of-type {\n",
       "        vertical-align: middle;\n",
       "    }\n",
       "\n",
       "    .dataframe tbody tr th {\n",
       "        vertical-align: top;\n",
       "    }\n",
       "\n",
       "    .dataframe thead th {\n",
       "        text-align: right;\n",
       "    }\n",
       "</style>\n",
       "<table border=\"1\" class=\"dataframe\">\n",
       "  <thead>\n",
       "    <tr style=\"text-align: right;\">\n",
       "      <th></th>\n",
       "      <th>age</th>\n",
       "      <th>poids</th>\n",
       "      <th>taille</th>\n",
       "      <th>imc</th>\n",
       "      <th>redux</th>\n",
       "      <th>hta</th>\n",
       "      <th>diabete</th>\n",
       "      <th>avk</th>\n",
       "      <th>aod</th>\n",
       "      <th>plavix</th>\n",
       "      <th>...</th>\n",
       "      <th>betabloquant</th>\n",
       "      <th>diuretiques</th>\n",
       "      <th>hb</th>\n",
       "      <th>ferritinemie</th>\n",
       "      <th>coeff de sat</th>\n",
       "      <th>type intervention</th>\n",
       "      <th>duree rea</th>\n",
       "      <th>fibrinogene</th>\n",
       "      <th>Fibrinogène rdb</th>\n",
       "      <th>transfusion CG</th>\n",
       "    </tr>\n",
       "  </thead>\n",
       "  <tbody>\n",
       "    <tr>\n",
       "      <th>0</th>\n",
       "      <td>69.0</td>\n",
       "      <td>68.0</td>\n",
       "      <td>1.63</td>\n",
       "      <td>25.593</td>\n",
       "      <td>0.0</td>\n",
       "      <td>1.0</td>\n",
       "      <td>0.0</td>\n",
       "      <td>0.0</td>\n",
       "      <td>0.0</td>\n",
       "      <td>0.0</td>\n",
       "      <td>...</td>\n",
       "      <td>0.0</td>\n",
       "      <td>0.0</td>\n",
       "      <td>14.6</td>\n",
       "      <td>56.0</td>\n",
       "      <td>14.0</td>\n",
       "      <td>1</td>\n",
       "      <td>1.0</td>\n",
       "      <td>3.64</td>\n",
       "      <td>2.27</td>\n",
       "      <td>0.0</td>\n",
       "    </tr>\n",
       "    <tr>\n",
       "      <th>1</th>\n",
       "      <td>65.0</td>\n",
       "      <td>71.0</td>\n",
       "      <td>1.72</td>\n",
       "      <td>23.999</td>\n",
       "      <td>0.0</td>\n",
       "      <td>0.0</td>\n",
       "      <td>0.0</td>\n",
       "      <td>0.0</td>\n",
       "      <td>0.0</td>\n",
       "      <td>1.0</td>\n",
       "      <td>...</td>\n",
       "      <td>1.0</td>\n",
       "      <td>0.0</td>\n",
       "      <td>14.0</td>\n",
       "      <td>199.0</td>\n",
       "      <td>20.0</td>\n",
       "      <td>2</td>\n",
       "      <td>2.0</td>\n",
       "      <td>1.91</td>\n",
       "      <td>1.30</td>\n",
       "      <td>0.0</td>\n",
       "    </tr>\n",
       "    <tr>\n",
       "      <th>2</th>\n",
       "      <td>79.0</td>\n",
       "      <td>79.0</td>\n",
       "      <td>1.60</td>\n",
       "      <td>30.859</td>\n",
       "      <td>0.0</td>\n",
       "      <td>0.0</td>\n",
       "      <td>0.0</td>\n",
       "      <td>1.0</td>\n",
       "      <td>0.0</td>\n",
       "      <td>1.0</td>\n",
       "      <td>...</td>\n",
       "      <td>0.0</td>\n",
       "      <td>1.0</td>\n",
       "      <td>12.9</td>\n",
       "      <td>51.0</td>\n",
       "      <td>26.0</td>\n",
       "      <td>5</td>\n",
       "      <td>2.0</td>\n",
       "      <td>3.57</td>\n",
       "      <td>2.43</td>\n",
       "      <td>1.0</td>\n",
       "    </tr>\n",
       "    <tr>\n",
       "      <th>3</th>\n",
       "      <td>80.0</td>\n",
       "      <td>69.0</td>\n",
       "      <td>1.69</td>\n",
       "      <td>24.158</td>\n",
       "      <td>0.0</td>\n",
       "      <td>1.0</td>\n",
       "      <td>0.0</td>\n",
       "      <td>0.0</td>\n",
       "      <td>0.0</td>\n",
       "      <td>1.0</td>\n",
       "      <td>...</td>\n",
       "      <td>0.0</td>\n",
       "      <td>0.0</td>\n",
       "      <td>14.6</td>\n",
       "      <td>387.0</td>\n",
       "      <td>21.0</td>\n",
       "      <td>1</td>\n",
       "      <td>1.0</td>\n",
       "      <td>2.43</td>\n",
       "      <td>1.78</td>\n",
       "      <td>0.0</td>\n",
       "    </tr>\n",
       "    <tr>\n",
       "      <th>4</th>\n",
       "      <td>72.0</td>\n",
       "      <td>80.0</td>\n",
       "      <td>1.70</td>\n",
       "      <td>27.681</td>\n",
       "      <td>0.0</td>\n",
       "      <td>1.0</td>\n",
       "      <td>0.0</td>\n",
       "      <td>1.0</td>\n",
       "      <td>0.0</td>\n",
       "      <td>0.0</td>\n",
       "      <td>...</td>\n",
       "      <td>1.0</td>\n",
       "      <td>0.0</td>\n",
       "      <td>11.6</td>\n",
       "      <td>24.0</td>\n",
       "      <td>6.0</td>\n",
       "      <td>5</td>\n",
       "      <td>2.0</td>\n",
       "      <td>4.15</td>\n",
       "      <td>3.23</td>\n",
       "      <td>1.0</td>\n",
       "    </tr>\n",
       "  </tbody>\n",
       "</table>\n",
       "<p>5 rows × 22 columns</p>\n",
       "</div>"
      ],
      "text/plain": [
       "    age  poids  taille     imc  redux  hta  diabete  avk  aod  plavix  ...  \\\n",
       "0  69.0   68.0    1.63  25.593    0.0  1.0      0.0  0.0  0.0     0.0  ...   \n",
       "1  65.0   71.0    1.72  23.999    0.0  0.0      0.0  0.0  0.0     1.0  ...   \n",
       "2  79.0   79.0    1.60  30.859    0.0  0.0      0.0  1.0  0.0     1.0  ...   \n",
       "3  80.0   69.0    1.69  24.158    0.0  1.0      0.0  0.0  0.0     1.0  ...   \n",
       "4  72.0   80.0    1.70  27.681    0.0  1.0      0.0  1.0  0.0     0.0  ...   \n",
       "\n",
       "   betabloquant  diuretiques    hb  ferritinemie  coeff de sat  \\\n",
       "0           0.0          0.0  14.6          56.0          14.0   \n",
       "1           1.0          0.0  14.0         199.0          20.0   \n",
       "2           0.0          1.0  12.9          51.0          26.0   \n",
       "3           0.0          0.0  14.6         387.0          21.0   \n",
       "4           1.0          0.0  11.6          24.0           6.0   \n",
       "\n",
       "   type intervention  duree rea fibrinogene  Fibrinogène rdb  transfusion CG  \n",
       "0                  1        1.0        3.64             2.27             0.0  \n",
       "1                  2        2.0        1.91             1.30             0.0  \n",
       "2                  5        2.0        3.57             2.43             1.0  \n",
       "3                  1        1.0        2.43             1.78             0.0  \n",
       "4                  5        2.0        4.15             3.23             1.0  \n",
       "\n",
       "[5 rows x 22 columns]"
      ]
     },
     "execution_count": 4,
     "metadata": {},
     "output_type": "execute_result"
    }
   ],
   "source": [
    "## Data\n",
    "data = pd.read_excel(\"./Base_PBM_Facteurs_Confusion.xlsx\")\n",
    "### Data cleaning \n",
    "data[\"transfusion CG\"][np.where(data[\"transfusion CG\"] > 0)[0]] = 1\n",
    "data.dropna(inplace=True)\n",
    "data.set_index(np.arange(len(data)))\n",
    "print(len(data))\n",
    "data.head()"
   ]
  },
  {
   "cell_type": "code",
   "execution_count": 5,
   "metadata": {},
   "outputs": [
    {
     "name": "stdout",
     "output_type": "stream",
     "text": [
      "Index(['age', 'poids', 'taille', 'imc', 'redux', 'hta', 'diabete', 'avk',\n",
      "       'aod', 'plavix', 'kardegic', 'autres aap', 'betabloquant',\n",
      "       'diuretiques', 'hb', 'ferritinemie', 'coeff de sat',\n",
      "       'type intervention', 'duree rea', 'fibrinogene', 'Fibrinogène rdb',\n",
      "       'transfusion CG'],\n",
      "      dtype='object')\n"
     ]
    },
    {
     "data": {
      "text/plain": [
       "22"
      ]
     },
     "execution_count": 5,
     "metadata": {},
     "output_type": "execute_result"
    }
   ],
   "source": [
    "print(data.columns)\n",
    "len(data.columns)"
   ]
  },
  {
   "cell_type": "markdown",
   "metadata": {},
   "source": [
    "# Facteurs de confusion "
   ]
  },
  {
   "cell_type": "code",
   "execution_count": 13,
   "metadata": {},
   "outputs": [],
   "source": [
    "## Exactraction \n",
    "Facteurs_Confusion = data.iloc[:,:-3]\n",
    "X = Facteurs_Confusion \n",
    "y = data[\"transfusion CG\"]\n",
    "## Model \n",
    "from sklearn.linear_model import LogisticRegression\n",
    "logitS = LogisticRegression()"
   ]
  },
  {
   "cell_type": "markdown",
   "metadata": {},
   "source": [
    "### Librairie 1 "
   ]
  },
  {
   "cell_type": "code",
   "execution_count": 7,
   "metadata": {},
   "outputs": [],
   "source": [
    "from mlxtend.feature_selection import SequentialFeatureSelector as SFS"
   ]
  },
  {
   "cell_type": "code",
   "execution_count": 34,
   "metadata": {},
   "outputs": [
    {
     "name": "stdout",
     "output_type": "stream",
     "text": [
      "\n",
      "Sequential Backward Selection :\n",
      "(14,)\n",
      "CV Score:\n",
      "-0.1464992668621697\n",
      "('hb',)\n"
     ]
    }
   ],
   "source": [
    "## Backward \n",
    "# Sequential Backward Selection AVEC R2\n",
    "sbs = SFS(logitS, \n",
    "          forward=False, \n",
    "          floating=False, \n",
    "          scoring='r2' )\n",
    "sbs = sbs.fit(X, y)\n",
    "\n",
    "print('\\nSequential Backward Selection :')\n",
    "print(sbs.k_feature_idx_)\n",
    "print('CV Score:')\n",
    "print(sbs.k_score_)\n",
    "print(sbs.k_feature_names_)"
   ]
  },
  {
   "cell_type": "code",
   "execution_count": 35,
   "metadata": {},
   "outputs": [],
   "source": [
    "#sbs.subsets_"
   ]
  },
  {
   "cell_type": "code",
   "execution_count": 36,
   "metadata": {},
   "outputs": [
    {
     "name": "stdout",
     "output_type": "stream",
     "text": [
      "\n",
      "Sequential Backward Selection :\n",
      "(14,)\n",
      "CV Score:\n",
      "-0.26436781609195403\n",
      "('hb',)\n"
     ]
    }
   ],
   "source": [
    "## Backward \n",
    "# Sequential Backward Selection AVEC NEG MEAN SQUARED ERROR\n",
    "sbs = SFS(logitS, \n",
    "          forward=False,\n",
    "          scoring='neg_mean_squared_error' )\n",
    "sbs = sbs.fit(X, y)\n",
    "\n",
    "print('\\nSequential Backward Selection :')\n",
    "print(sbs.k_feature_idx_)\n",
    "print('CV Score:')\n",
    "print(sbs.k_score_)\n",
    "print(sbs.k_feature_names_)"
   ]
  },
  {
   "cell_type": "code",
   "execution_count": 38,
   "metadata": {},
   "outputs": [
    {
     "name": "stdout",
     "output_type": "stream",
     "text": [
      "\n",
      "Sequential Backward Selection :\n",
      "(14,)\n",
      "CV Score:\n",
      "0.7356321839080461\n",
      "('hb',)\n"
     ]
    }
   ],
   "source": [
    "## Backward \n",
    "# Sequential Backward Selection AVEC ACCURACY\n",
    "sbs = SFS(logitS, \n",
    "          forward=False,\n",
    "          scoring='accuracy' )\n",
    "sbs = sbs.fit(X, y)\n",
    "\n",
    "print('\\nSequential Backward Selection :')\n",
    "print(sbs.k_feature_idx_)\n",
    "print('CV Score:')\n",
    "print(sbs.k_score_)\n",
    "print(sbs.k_feature_names_)"
   ]
  },
  {
   "cell_type": "code",
   "execution_count": 39,
   "metadata": {},
   "outputs": [
    {
     "name": "stdout",
     "output_type": "stream",
     "text": [
      "\n",
      "Sequential Backward Selection :\n",
      "(14,)\n",
      "CV Score:\n",
      "-0.1464992668621697\n",
      "('hb',)\n"
     ]
    }
   ],
   "source": [
    "## Forward\n",
    "# Sequential Forward Selection AVEC R2\n",
    "sbs = SFS(logitS,\n",
    "          scoring='r2' )\n",
    "sbs = sbs.fit(X, y)\n",
    "\n",
    "print('\\nSequential Backward Selection :')\n",
    "print(sbs.k_feature_idx_)\n",
    "print('CV Score:')\n",
    "print(sbs.k_score_)\n",
    "print(sbs.k_feature_names_)"
   ]
  },
  {
   "cell_type": "code",
   "execution_count": 40,
   "metadata": {},
   "outputs": [
    {
     "name": "stdout",
     "output_type": "stream",
     "text": [
      "\n",
      "Sequential Backward Selection :\n",
      "(14,)\n",
      "CV Score:\n",
      "-0.1464992668621697\n",
      "('hb',)\n"
     ]
    }
   ],
   "source": [
    "### STEPWISE\n",
    "sbs = SFS(logitS,\n",
    "          floating=True,\n",
    "          scoring='r2' )\n",
    "sbs = sbs.fit(X, y)\n",
    "\n",
    "print('\\nSequential Backward Selection :')\n",
    "print(sbs.k_feature_idx_)\n",
    "print('CV Score:')\n",
    "print(sbs.k_score_)\n",
    "print(sbs.k_feature_names_)"
   ]
  },
  {
   "cell_type": "markdown",
   "metadata": {},
   "source": [
    "### Librairie 2 : sklearn"
   ]
  },
  {
   "cell_type": "markdown",
   "metadata": {},
   "source": [
    "https://scikit-learn.org/stable/modules/feature_selection.html\n",
    "    \n",
    "L1-based feature selection\n",
    "Linear models penalized with the L1 norm have sparse solutions: many of their estimated coefficients are zero. When the goal is to reduce the dimensionality of the data to use with another classifier, they can be used along with feature_selection.SelectFromModel to select the non-zero coefficients. In particular, sparse estimators useful for this purpose are the linear_model.Lasso for regression, and of linear_model.LogisticRegression and svm.LinearSVC for classification."
   ]
  },
  {
   "cell_type": "code",
   "execution_count": 66,
   "metadata": {},
   "outputs": [],
   "source": [
    "from sklearn.feature_selection import SelectFromModel\n",
    "logitS = LogisticRegression().fit(X,y)\n",
    "model = SelectFromModel(logitS, prefit=True)\n",
    "X_new = model.transform(X)"
   ]
  },
  {
   "cell_type": "code",
   "execution_count": 67,
   "metadata": {},
   "outputs": [
    {
     "data": {
      "text/plain": [
       "(435, 10)"
      ]
     },
     "execution_count": 67,
     "metadata": {},
     "output_type": "execute_result"
    }
   ],
   "source": [
    "X_new.shape"
   ]
  },
  {
   "cell_type": "code",
   "execution_count": 80,
   "metadata": {},
   "outputs": [
    {
     "name": "stdout",
     "output_type": "stream",
     "text": [
      "Features selected by SelectFromModel: ['taille' 'redux' 'hta' 'diabete' 'aod' 'kardegic' 'betabloquant' 'hb'\n",
      " 'type intervention' 'duree rea']\n"
     ]
    }
   ],
   "source": [
    "feature_names = np.array(X.columns)\n",
    "print(\"Features selected by SelectFromModel: \"\n",
    "      f\"{feature_names[model.get_support()]}\")"
   ]
  },
  {
   "cell_type": "markdown",
   "metadata": {},
   "source": [
    "### Solution 3 avec Statmodel "
   ]
  },
  {
   "cell_type": "code",
   "execution_count": 47,
   "metadata": {},
   "outputs": [],
   "source": [
    "import statsmodels.api as sm"
   ]
  },
  {
   "cell_type": "code",
   "execution_count": 53,
   "metadata": {},
   "outputs": [
    {
     "data": {
      "text/plain": [
       "const                7.535997e-06\n",
       "age                  1.147134e-01\n",
       "poids                7.109377e-05\n",
       "taille               2.889068e-01\n",
       "imc                  3.035827e-02\n",
       "redux                3.511797e-02\n",
       "hta                  7.175406e-01\n",
       "diabete              2.796287e-01\n",
       "avk                  3.287015e-01\n",
       "aod                  7.513816e-02\n",
       "plavix               7.863064e-01\n",
       "kardegic             8.692195e-02\n",
       "autres aap           1.631040e-01\n",
       "betabloquant         4.260628e-01\n",
       "diuretiques          6.587388e-01\n",
       "hb                   7.095641e-08\n",
       "ferritinemie         7.605855e-01\n",
       "coeff de sat         5.773964e-01\n",
       "type intervention    2.649257e-05\n",
       "duree rea            2.872290e-06\n",
       "dtype: float64"
      ]
     },
     "execution_count": 53,
     "metadata": {},
     "output_type": "execute_result"
    }
   ],
   "source": [
    "#Adding constant column of ones, mandatory for sm.OLS model\n",
    "X_1 = sm.add_constant(X)\n",
    "#Fitting sm.OLS model\n",
    "model = sm.OLS(y.astype(float),X_1.astype(float)).fit()\n",
    "model.pvalues"
   ]
  },
  {
   "cell_type": "code",
   "execution_count": 54,
   "metadata": {},
   "outputs": [
    {
     "name": "stdout",
     "output_type": "stream",
     "text": [
      "['poids', 'imc', 'kardegic', 'hb', 'type intervention', 'duree rea']\n"
     ]
    }
   ],
   "source": [
    "#Backward Elimination\n",
    "cols = list(X.columns)\n",
    "pmax = 1\n",
    "while (len(cols)>0):\n",
    "    p=[]\n",
    "    X_1 = X[cols]\n",
    "    X_1 = sm.add_constant(X_1)\n",
    "    model = sm.OLS(y.astype(float),X_1.astype(float)).fit()\n",
    "    p = pd.Series(model.pvalues.values[1:],index = cols)      \n",
    "    pmax = max(p)\n",
    "    feature_with_p_max = p.idxmax()\n",
    "    if(pmax>0.05):\n",
    "        cols.remove(feature_with_p_max)\n",
    "    else:\n",
    "        break\n",
    "selected_features_BE = cols\n",
    "print(selected_features_BE)"
   ]
  },
  {
   "cell_type": "code",
   "execution_count": null,
   "metadata": {},
   "outputs": [],
   "source": []
  }
 ],
 "metadata": {
  "kernelspec": {
   "display_name": "Python 3",
   "language": "python",
   "name": "python3"
  },
  "language_info": {
   "codemirror_mode": {
    "name": "ipython",
    "version": 3
   },
   "file_extension": ".py",
   "mimetype": "text/x-python",
   "name": "python",
   "nbconvert_exporter": "python",
   "pygments_lexer": "ipython3",
   "version": "3.8.3"
  }
 },
 "nbformat": 4,
 "nbformat_minor": 4
}
