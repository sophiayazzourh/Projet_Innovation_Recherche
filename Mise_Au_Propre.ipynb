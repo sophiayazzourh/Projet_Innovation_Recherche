{
 "cells": [
  {
   "cell_type": "markdown",
   "metadata": {},
   "source": [
    "# Projet Recherche et Innovation \n",
    "\n",
    "Aimée Simcic-Mori & Sophia Yazzourh \n",
    "tuteur : Nicolas Savy \n",
    "\n",
    "Sujet : U-shape curve in logistic regression with a quantitativeexplanatory variable"
   ]
  },
  {
   "cell_type": "markdown",
   "metadata": {},
   "source": [
    "## 0. Importation des librairies"
   ]
  },
  {
   "cell_type": "code",
   "execution_count": 77,
   "metadata": {},
   "outputs": [],
   "source": [
    "# Usuelles\n",
    "import numpy as np\n",
    "import pandas as pd \n",
    "import matplotlib.pyplot as plt\n",
    "#RMS \n",
    "from sklearn.metrics import mean_squared_error\n",
    "from math import sqrt\n",
    "# Splines\n",
    "from patsy import dmatrix , build_design_matrices\n",
    "# Modèles statistiques\n",
    "import statsmodels.api as sm\n",
    "import statsmodels.formula.api as smf\n",
    "# Modèle sélection \n",
    "from sklearn.feature_selection import SelectFromModel"
   ]
  },
  {
   "cell_type": "code",
   "execution_count": 26,
   "metadata": {},
   "outputs": [],
   "source": [
    "### Supression de warnings inutiles dû à la transformation forcée de certaines variables \n",
    "import sys\n",
    "import warnings\n",
    "\n",
    "if not sys.warnoptions:\n",
    "    warnings.simplefilter(\"ignore\")"
   ]
  },
  {
   "cell_type": "markdown",
   "metadata": {},
   "source": [
    "## I. Les données "
   ]
  },
  {
   "cell_type": "markdown",
   "metadata": {},
   "source": [
    "### I.1 Ouverture et Préparation des données "
   ]
  },
  {
   "cell_type": "code",
   "execution_count": 27,
   "metadata": {},
   "outputs": [],
   "source": [
    "### Data importation\n",
    "data = pd.read_excel(\"./Base_PBM_Facteurs_Confusion.xlsx\")"
   ]
  },
  {
   "cell_type": "markdown",
   "metadata": {},
   "source": [
    "Notre variables response Y correspond à la column \"transfusion CG\". On ne s'intéresse pas au type de transfusion mais seulement si elle a eu lieu ou non. On transformera alors cette variable en variable binaire tel que 0 corresspond à \"pas de transfusion\" tandis que 1 corresspond à \"transfusion\". "
   ]
  },
  {
   "cell_type": "code",
   "execution_count": 28,
   "metadata": {},
   "outputs": [
    {
     "name": "stdout",
     "output_type": "stream",
     "text": [
      "Longueur des données : 435\n",
      "Nombre de columns : 22\n"
     ]
    },
    {
     "data": {
      "text/html": [
       "<div>\n",
       "<style scoped>\n",
       "    .dataframe tbody tr th:only-of-type {\n",
       "        vertical-align: middle;\n",
       "    }\n",
       "\n",
       "    .dataframe tbody tr th {\n",
       "        vertical-align: top;\n",
       "    }\n",
       "\n",
       "    .dataframe thead th {\n",
       "        text-align: right;\n",
       "    }\n",
       "</style>\n",
       "<table border=\"1\" class=\"dataframe\">\n",
       "  <thead>\n",
       "    <tr style=\"text-align: right;\">\n",
       "      <th></th>\n",
       "      <th>age</th>\n",
       "      <th>poids</th>\n",
       "      <th>taille</th>\n",
       "      <th>imc</th>\n",
       "      <th>redux</th>\n",
       "      <th>hta</th>\n",
       "      <th>diabete</th>\n",
       "      <th>avk</th>\n",
       "      <th>aod</th>\n",
       "      <th>plavix</th>\n",
       "      <th>...</th>\n",
       "      <th>betabloquant</th>\n",
       "      <th>diuretiques</th>\n",
       "      <th>hb</th>\n",
       "      <th>ferritinemie</th>\n",
       "      <th>coeff de sat</th>\n",
       "      <th>type intervention</th>\n",
       "      <th>duree rea</th>\n",
       "      <th>fibrinogene</th>\n",
       "      <th>Fibrinogène rdb</th>\n",
       "      <th>transfusion CG</th>\n",
       "    </tr>\n",
       "  </thead>\n",
       "  <tbody>\n",
       "    <tr>\n",
       "      <th>0</th>\n",
       "      <td>69.0</td>\n",
       "      <td>68.0</td>\n",
       "      <td>1.63</td>\n",
       "      <td>25.593</td>\n",
       "      <td>0.0</td>\n",
       "      <td>1.0</td>\n",
       "      <td>0.0</td>\n",
       "      <td>0.0</td>\n",
       "      <td>0.0</td>\n",
       "      <td>0.0</td>\n",
       "      <td>...</td>\n",
       "      <td>0.0</td>\n",
       "      <td>0.0</td>\n",
       "      <td>14.6</td>\n",
       "      <td>56.0</td>\n",
       "      <td>14.0</td>\n",
       "      <td>1</td>\n",
       "      <td>1.0</td>\n",
       "      <td>3.64</td>\n",
       "      <td>2.27</td>\n",
       "      <td>0.0</td>\n",
       "    </tr>\n",
       "    <tr>\n",
       "      <th>1</th>\n",
       "      <td>65.0</td>\n",
       "      <td>71.0</td>\n",
       "      <td>1.72</td>\n",
       "      <td>23.999</td>\n",
       "      <td>0.0</td>\n",
       "      <td>0.0</td>\n",
       "      <td>0.0</td>\n",
       "      <td>0.0</td>\n",
       "      <td>0.0</td>\n",
       "      <td>1.0</td>\n",
       "      <td>...</td>\n",
       "      <td>1.0</td>\n",
       "      <td>0.0</td>\n",
       "      <td>14.0</td>\n",
       "      <td>199.0</td>\n",
       "      <td>20.0</td>\n",
       "      <td>2</td>\n",
       "      <td>2.0</td>\n",
       "      <td>1.91</td>\n",
       "      <td>1.30</td>\n",
       "      <td>0.0</td>\n",
       "    </tr>\n",
       "    <tr>\n",
       "      <th>2</th>\n",
       "      <td>79.0</td>\n",
       "      <td>79.0</td>\n",
       "      <td>1.60</td>\n",
       "      <td>30.859</td>\n",
       "      <td>0.0</td>\n",
       "      <td>0.0</td>\n",
       "      <td>0.0</td>\n",
       "      <td>1.0</td>\n",
       "      <td>0.0</td>\n",
       "      <td>1.0</td>\n",
       "      <td>...</td>\n",
       "      <td>0.0</td>\n",
       "      <td>1.0</td>\n",
       "      <td>12.9</td>\n",
       "      <td>51.0</td>\n",
       "      <td>26.0</td>\n",
       "      <td>5</td>\n",
       "      <td>2.0</td>\n",
       "      <td>3.57</td>\n",
       "      <td>2.43</td>\n",
       "      <td>1.0</td>\n",
       "    </tr>\n",
       "    <tr>\n",
       "      <th>3</th>\n",
       "      <td>80.0</td>\n",
       "      <td>69.0</td>\n",
       "      <td>1.69</td>\n",
       "      <td>24.158</td>\n",
       "      <td>0.0</td>\n",
       "      <td>1.0</td>\n",
       "      <td>0.0</td>\n",
       "      <td>0.0</td>\n",
       "      <td>0.0</td>\n",
       "      <td>1.0</td>\n",
       "      <td>...</td>\n",
       "      <td>0.0</td>\n",
       "      <td>0.0</td>\n",
       "      <td>14.6</td>\n",
       "      <td>387.0</td>\n",
       "      <td>21.0</td>\n",
       "      <td>1</td>\n",
       "      <td>1.0</td>\n",
       "      <td>2.43</td>\n",
       "      <td>1.78</td>\n",
       "      <td>0.0</td>\n",
       "    </tr>\n",
       "    <tr>\n",
       "      <th>4</th>\n",
       "      <td>72.0</td>\n",
       "      <td>80.0</td>\n",
       "      <td>1.70</td>\n",
       "      <td>27.681</td>\n",
       "      <td>0.0</td>\n",
       "      <td>1.0</td>\n",
       "      <td>0.0</td>\n",
       "      <td>1.0</td>\n",
       "      <td>0.0</td>\n",
       "      <td>0.0</td>\n",
       "      <td>...</td>\n",
       "      <td>1.0</td>\n",
       "      <td>0.0</td>\n",
       "      <td>11.6</td>\n",
       "      <td>24.0</td>\n",
       "      <td>6.0</td>\n",
       "      <td>5</td>\n",
       "      <td>2.0</td>\n",
       "      <td>4.15</td>\n",
       "      <td>3.23</td>\n",
       "      <td>1.0</td>\n",
       "    </tr>\n",
       "  </tbody>\n",
       "</table>\n",
       "<p>5 rows × 22 columns</p>\n",
       "</div>"
      ],
      "text/plain": [
       "    age  poids  taille     imc  redux  hta  diabete  avk  aod  plavix  ...  \\\n",
       "0  69.0   68.0    1.63  25.593    0.0  1.0      0.0  0.0  0.0     0.0  ...   \n",
       "1  65.0   71.0    1.72  23.999    0.0  0.0      0.0  0.0  0.0     1.0  ...   \n",
       "2  79.0   79.0    1.60  30.859    0.0  0.0      0.0  1.0  0.0     1.0  ...   \n",
       "3  80.0   69.0    1.69  24.158    0.0  1.0      0.0  0.0  0.0     1.0  ...   \n",
       "4  72.0   80.0    1.70  27.681    0.0  1.0      0.0  1.0  0.0     0.0  ...   \n",
       "\n",
       "   betabloquant  diuretiques    hb  ferritinemie  coeff de sat  \\\n",
       "0           0.0          0.0  14.6          56.0          14.0   \n",
       "1           1.0          0.0  14.0         199.0          20.0   \n",
       "2           0.0          1.0  12.9          51.0          26.0   \n",
       "3           0.0          0.0  14.6         387.0          21.0   \n",
       "4           1.0          0.0  11.6          24.0           6.0   \n",
       "\n",
       "   type intervention  duree rea fibrinogene  Fibrinogène rdb  transfusion CG  \n",
       "0                  1        1.0        3.64             2.27             0.0  \n",
       "1                  2        2.0        1.91             1.30             0.0  \n",
       "2                  5        2.0        3.57             2.43             1.0  \n",
       "3                  1        1.0        2.43             1.78             0.0  \n",
       "4                  5        2.0        4.15             3.23             1.0  \n",
       "\n",
       "[5 rows x 22 columns]"
      ]
     },
     "execution_count": 28,
     "metadata": {},
     "output_type": "execute_result"
    }
   ],
   "source": [
    "### Data cleaning\n",
    "# Binary transformation of the Y response variable\n",
    "data[\"transfusion CG\"][np.where(data[\"transfusion CG\"] > 0)[0]] = 1\n",
    "# Supression of missing data\n",
    "data.dropna(inplace=True)\n",
    "# Re indexation\n",
    "data.set_index(np.arange(len(data)))\n",
    "# Display data informations\n",
    "print(\"Longueur des données : \" + str(len(data)))\n",
    "print(\"Nombre de columns : \" + str(len(data.columns)))\n",
    "data.head()"
   ]
  },
  {
   "cell_type": "markdown",
   "metadata": {},
   "source": [
    "Pour chaque individu nous avons une variables réponse \"transfusion CG\" et 21 variables explicatives. \n",
    "\n",
    "On notera qu'on ne travaillera qu'avec soit \"fibrinogène\" ou soit \"fibrinigène rdb\". Afin que notre travail corresponde et se place dans le même contexte que l'article \"Preoperative plasma fibrinogen level and transfusion in cardiac surgery: a biphasic correlation\" de Hélène Charbonneaua, Marie Pasquieb et Nicolas Mayeur, on utilisera la variable \"fibrinogène rdb\". \n",
    "\n",
    "Les variables réponses se répartissent selon les caractéristiques suivantes : \n",
    "\n",
    "- binaires : redux, hta, diabete, avk, aod, plavix, kardegic, autres aap, betabloquant, diuretiques, \n",
    "- continues : imc, hb, ferritinemie, coeff de sat, duree rea, Fibrinogène rdb, fibrinogene\n",
    "- catégorielles : type intervention"
   ]
  },
  {
   "cell_type": "code",
   "execution_count": 29,
   "metadata": {},
   "outputs": [
    {
     "data": {
      "text/html": [
       "<div>\n",
       "<style scoped>\n",
       "    .dataframe tbody tr th:only-of-type {\n",
       "        vertical-align: middle;\n",
       "    }\n",
       "\n",
       "    .dataframe tbody tr th {\n",
       "        vertical-align: top;\n",
       "    }\n",
       "\n",
       "    .dataframe thead th {\n",
       "        text-align: right;\n",
       "    }\n",
       "</style>\n",
       "<table border=\"1\" class=\"dataframe\">\n",
       "  <thead>\n",
       "    <tr style=\"text-align: right;\">\n",
       "      <th></th>\n",
       "      <th>age</th>\n",
       "      <th>poids</th>\n",
       "      <th>taille</th>\n",
       "      <th>imc</th>\n",
       "      <th>redux</th>\n",
       "      <th>hta</th>\n",
       "      <th>diabete</th>\n",
       "      <th>avk</th>\n",
       "      <th>aod</th>\n",
       "      <th>plavix</th>\n",
       "      <th>...</th>\n",
       "      <th>autres aap</th>\n",
       "      <th>betabloquant</th>\n",
       "      <th>diuretiques</th>\n",
       "      <th>hb</th>\n",
       "      <th>ferritinemie</th>\n",
       "      <th>coeff de sat</th>\n",
       "      <th>duree rea</th>\n",
       "      <th>fibrinogene</th>\n",
       "      <th>Fibrinogène rdb</th>\n",
       "      <th>transfusion CG</th>\n",
       "    </tr>\n",
       "  </thead>\n",
       "  <tbody>\n",
       "    <tr>\n",
       "      <th>count</th>\n",
       "      <td>435.000000</td>\n",
       "      <td>435.000000</td>\n",
       "      <td>435.000000</td>\n",
       "      <td>435.000000</td>\n",
       "      <td>435.000000</td>\n",
       "      <td>435.000000</td>\n",
       "      <td>435.000000</td>\n",
       "      <td>435.000000</td>\n",
       "      <td>435.000000</td>\n",
       "      <td>435.000000</td>\n",
       "      <td>...</td>\n",
       "      <td>435.000000</td>\n",
       "      <td>435.000000</td>\n",
       "      <td>435.000000</td>\n",
       "      <td>435.000000</td>\n",
       "      <td>435.000000</td>\n",
       "      <td>435.000000</td>\n",
       "      <td>435.000000</td>\n",
       "      <td>435.000000</td>\n",
       "      <td>435.000000</td>\n",
       "      <td>435.00000</td>\n",
       "    </tr>\n",
       "    <tr>\n",
       "      <th>mean</th>\n",
       "      <td>68.011494</td>\n",
       "      <td>77.536782</td>\n",
       "      <td>2.030575</td>\n",
       "      <td>27.086400</td>\n",
       "      <td>0.062069</td>\n",
       "      <td>0.652874</td>\n",
       "      <td>0.213793</td>\n",
       "      <td>0.085057</td>\n",
       "      <td>0.103448</td>\n",
       "      <td>0.085057</td>\n",
       "      <td>...</td>\n",
       "      <td>0.013793</td>\n",
       "      <td>0.508046</td>\n",
       "      <td>0.344828</td>\n",
       "      <td>13.956322</td>\n",
       "      <td>189.662069</td>\n",
       "      <td>21.439080</td>\n",
       "      <td>3.328736</td>\n",
       "      <td>3.172828</td>\n",
       "      <td>2.133080</td>\n",
       "      <td>0.36092</td>\n",
       "    </tr>\n",
       "    <tr>\n",
       "      <th>std</th>\n",
       "      <td>10.250204</td>\n",
       "      <td>15.539967</td>\n",
       "      <td>7.111554</td>\n",
       "      <td>4.557788</td>\n",
       "      <td>0.241559</td>\n",
       "      <td>0.476605</td>\n",
       "      <td>0.410455</td>\n",
       "      <td>0.279288</td>\n",
       "      <td>0.304894</td>\n",
       "      <td>0.279288</td>\n",
       "      <td>...</td>\n",
       "      <td>0.116766</td>\n",
       "      <td>0.500511</td>\n",
       "      <td>0.475859</td>\n",
       "      <td>1.413016</td>\n",
       "      <td>163.805207</td>\n",
       "      <td>7.412646</td>\n",
       "      <td>2.883287</td>\n",
       "      <td>0.760864</td>\n",
       "      <td>0.614638</td>\n",
       "      <td>0.48082</td>\n",
       "    </tr>\n",
       "    <tr>\n",
       "      <th>min</th>\n",
       "      <td>22.000000</td>\n",
       "      <td>45.000000</td>\n",
       "      <td>1.470000</td>\n",
       "      <td>19.077000</td>\n",
       "      <td>0.000000</td>\n",
       "      <td>0.000000</td>\n",
       "      <td>0.000000</td>\n",
       "      <td>0.000000</td>\n",
       "      <td>0.000000</td>\n",
       "      <td>0.000000</td>\n",
       "      <td>...</td>\n",
       "      <td>0.000000</td>\n",
       "      <td>0.000000</td>\n",
       "      <td>0.000000</td>\n",
       "      <td>8.100000</td>\n",
       "      <td>7.000000</td>\n",
       "      <td>3.000000</td>\n",
       "      <td>1.000000</td>\n",
       "      <td>1.700000</td>\n",
       "      <td>0.850000</td>\n",
       "      <td>0.00000</td>\n",
       "    </tr>\n",
       "    <tr>\n",
       "      <th>25%</th>\n",
       "      <td>64.000000</td>\n",
       "      <td>67.000000</td>\n",
       "      <td>1.625000</td>\n",
       "      <td>23.735500</td>\n",
       "      <td>0.000000</td>\n",
       "      <td>0.000000</td>\n",
       "      <td>0.000000</td>\n",
       "      <td>0.000000</td>\n",
       "      <td>0.000000</td>\n",
       "      <td>0.000000</td>\n",
       "      <td>...</td>\n",
       "      <td>0.000000</td>\n",
       "      <td>0.000000</td>\n",
       "      <td>0.000000</td>\n",
       "      <td>13.000000</td>\n",
       "      <td>73.000000</td>\n",
       "      <td>16.000000</td>\n",
       "      <td>2.000000</td>\n",
       "      <td>2.655000</td>\n",
       "      <td>1.740000</td>\n",
       "      <td>0.00000</td>\n",
       "    </tr>\n",
       "    <tr>\n",
       "      <th>50%</th>\n",
       "      <td>70.000000</td>\n",
       "      <td>77.000000</td>\n",
       "      <td>1.700000</td>\n",
       "      <td>26.346000</td>\n",
       "      <td>0.000000</td>\n",
       "      <td>1.000000</td>\n",
       "      <td>0.000000</td>\n",
       "      <td>0.000000</td>\n",
       "      <td>0.000000</td>\n",
       "      <td>0.000000</td>\n",
       "      <td>...</td>\n",
       "      <td>0.000000</td>\n",
       "      <td>1.000000</td>\n",
       "      <td>0.000000</td>\n",
       "      <td>13.900000</td>\n",
       "      <td>140.000000</td>\n",
       "      <td>21.000000</td>\n",
       "      <td>2.000000</td>\n",
       "      <td>3.070000</td>\n",
       "      <td>2.030000</td>\n",
       "      <td>0.00000</td>\n",
       "    </tr>\n",
       "    <tr>\n",
       "      <th>75%</th>\n",
       "      <td>75.000000</td>\n",
       "      <td>86.000000</td>\n",
       "      <td>1.750000</td>\n",
       "      <td>29.408500</td>\n",
       "      <td>0.000000</td>\n",
       "      <td>1.000000</td>\n",
       "      <td>0.000000</td>\n",
       "      <td>0.000000</td>\n",
       "      <td>0.000000</td>\n",
       "      <td>0.000000</td>\n",
       "      <td>...</td>\n",
       "      <td>0.000000</td>\n",
       "      <td>1.000000</td>\n",
       "      <td>1.000000</td>\n",
       "      <td>14.900000</td>\n",
       "      <td>258.000000</td>\n",
       "      <td>26.000000</td>\n",
       "      <td>4.000000</td>\n",
       "      <td>3.620000</td>\n",
       "      <td>2.430000</td>\n",
       "      <td>1.00000</td>\n",
       "    </tr>\n",
       "    <tr>\n",
       "      <th>max</th>\n",
       "      <td>84.000000</td>\n",
       "      <td>153.000000</td>\n",
       "      <td>150.000000</td>\n",
       "      <td>49.950000</td>\n",
       "      <td>1.000000</td>\n",
       "      <td>1.000000</td>\n",
       "      <td>1.000000</td>\n",
       "      <td>1.000000</td>\n",
       "      <td>1.000000</td>\n",
       "      <td>1.000000</td>\n",
       "      <td>...</td>\n",
       "      <td>1.000000</td>\n",
       "      <td>1.000000</td>\n",
       "      <td>1.000000</td>\n",
       "      <td>18.700000</td>\n",
       "      <td>962.000000</td>\n",
       "      <td>48.000000</td>\n",
       "      <td>35.000000</td>\n",
       "      <td>7.080000</td>\n",
       "      <td>4.700000</td>\n",
       "      <td>1.00000</td>\n",
       "    </tr>\n",
       "  </tbody>\n",
       "</table>\n",
       "<p>8 rows × 21 columns</p>\n",
       "</div>"
      ],
      "text/plain": [
       "              age       poids      taille         imc       redux         hta  \\\n",
       "count  435.000000  435.000000  435.000000  435.000000  435.000000  435.000000   \n",
       "mean    68.011494   77.536782    2.030575   27.086400    0.062069    0.652874   \n",
       "std     10.250204   15.539967    7.111554    4.557788    0.241559    0.476605   \n",
       "min     22.000000   45.000000    1.470000   19.077000    0.000000    0.000000   \n",
       "25%     64.000000   67.000000    1.625000   23.735500    0.000000    0.000000   \n",
       "50%     70.000000   77.000000    1.700000   26.346000    0.000000    1.000000   \n",
       "75%     75.000000   86.000000    1.750000   29.408500    0.000000    1.000000   \n",
       "max     84.000000  153.000000  150.000000   49.950000    1.000000    1.000000   \n",
       "\n",
       "          diabete         avk         aod      plavix  ...  autres aap  \\\n",
       "count  435.000000  435.000000  435.000000  435.000000  ...  435.000000   \n",
       "mean     0.213793    0.085057    0.103448    0.085057  ...    0.013793   \n",
       "std      0.410455    0.279288    0.304894    0.279288  ...    0.116766   \n",
       "min      0.000000    0.000000    0.000000    0.000000  ...    0.000000   \n",
       "25%      0.000000    0.000000    0.000000    0.000000  ...    0.000000   \n",
       "50%      0.000000    0.000000    0.000000    0.000000  ...    0.000000   \n",
       "75%      0.000000    0.000000    0.000000    0.000000  ...    0.000000   \n",
       "max      1.000000    1.000000    1.000000    1.000000  ...    1.000000   \n",
       "\n",
       "       betabloquant  diuretiques          hb  ferritinemie  coeff de sat  \\\n",
       "count    435.000000   435.000000  435.000000    435.000000    435.000000   \n",
       "mean       0.508046     0.344828   13.956322    189.662069     21.439080   \n",
       "std        0.500511     0.475859    1.413016    163.805207      7.412646   \n",
       "min        0.000000     0.000000    8.100000      7.000000      3.000000   \n",
       "25%        0.000000     0.000000   13.000000     73.000000     16.000000   \n",
       "50%        1.000000     0.000000   13.900000    140.000000     21.000000   \n",
       "75%        1.000000     1.000000   14.900000    258.000000     26.000000   \n",
       "max        1.000000     1.000000   18.700000    962.000000     48.000000   \n",
       "\n",
       "        duree rea  fibrinogene  Fibrinogène rdb  transfusion CG  \n",
       "count  435.000000   435.000000       435.000000       435.00000  \n",
       "mean     3.328736     3.172828         2.133080         0.36092  \n",
       "std      2.883287     0.760864         0.614638         0.48082  \n",
       "min      1.000000     1.700000         0.850000         0.00000  \n",
       "25%      2.000000     2.655000         1.740000         0.00000  \n",
       "50%      2.000000     3.070000         2.030000         0.00000  \n",
       "75%      4.000000     3.620000         2.430000         1.00000  \n",
       "max     35.000000     7.080000         4.700000         1.00000  \n",
       "\n",
       "[8 rows x 21 columns]"
      ]
     },
     "execution_count": 29,
     "metadata": {},
     "output_type": "execute_result"
    }
   ],
   "source": [
    "data.describe()"
   ]
  },
  {
   "cell_type": "markdown",
   "metadata": {},
   "source": [
    "On remarquera que certaines valeurs on put être mal notées dans la base données. Par exemple la taille maximale est de 150.000 or elle aurait surment dût être de 1.50. "
   ]
  },
  {
   "cell_type": "markdown",
   "metadata": {},
   "source": [
    "### I.2 Première étude de la varible d'intérêt \"Fibrinogène rdb\""
   ]
  },
  {
   "cell_type": "code",
   "execution_count": 30,
   "metadata": {},
   "outputs": [
    {
     "data": {
      "text/plain": [
       "[<matplotlib.lines.Line2D at 0x7fec003bcfd0>]"
      ]
     },
     "execution_count": 30,
     "metadata": {},
     "output_type": "execute_result"
    },
    {
     "data": {
      "image/png": "[encoded data removed]",
      "text/plain": [
       "<Figure size 432x288 with 1 Axes>"
      ]
     },
     "metadata": {
      "needs_background": "light"
     },
     "output_type": "display_data"
    }
   ],
   "source": [
    "plt.plot(data[\"Fibrinogène rdb\"])"
   ]
  },
  {
   "cell_type": "code",
   "execution_count": 31,
   "metadata": {},
   "outputs": [
    {
     "data": {
      "text/plain": [
       "<matplotlib.collections.PathCollection at 0x7fec004c1eb0>"
      ]
     },
     "execution_count": 31,
     "metadata": {},
     "output_type": "execute_result"
    },
    {
     "data": {
      "image/png": "[encoded data removed]",
      "text/plain": [
       "<Figure size 432x288 with 1 Axes>"
      ]
     },
     "metadata": {
      "needs_background": "light"
     },
     "output_type": "display_data"
    }
   ],
   "source": [
    "plt.scatter(data[\"fibrinogene\"], data[\"transfusion CG\"])"
   ]
  },
  {
   "cell_type": "markdown",
   "metadata": {},
   "source": [
    "## II. Transformation de la variable explicative fibrinogène"
   ]
  },
  {
   "cell_type": "markdown",
   "metadata": {},
   "source": [
    "Dans cette partie, nous allons transformée par splines d'interpolation la variable d'intérêt \"Fibrinogène rdb\" afin d'éviter un passage par catégorisation et obtenir un modèle plus généraliste. "
   ]
  },
  {
   "cell_type": "markdown",
   "metadata": {},
   "source": [
    "### II.1 Les types de splines "
   ]
  },
  {
   "cell_type": "markdown",
   "metadata": {},
   "source": [
    "#### II.1.1 Les B-Splines "
   ]
  },
  {
   "cell_type": "markdown",
   "metadata": {},
   "source": [
    "Petit texte sur les B splines "
   ]
  },
  {
   "cell_type": "code",
   "execution_count": 32,
   "metadata": {},
   "outputs": [
    {
     "name": "stdout",
     "output_type": "stream",
     "text": [
      "Optimization terminated successfully.\n",
      "         Current function value: 0.624916\n",
      "         Iterations 8\n",
      "0.4664164359818998\n"
     ]
    },
    {
     "data": {
      "image/png": "[encoded data removed]",
      "text/plain": [
       "<Figure size 1440x720 with 1 Axes>"
      ]
     },
     "metadata": {
      "needs_background": "light"
     },
     "output_type": "display_data"
    }
   ],
   "source": [
    "x = data[\"Fibrinogène rdb\"] \n",
    "y = data[\"transfusion CG\"]\n",
    "\n",
    "# Generating cubic spline with 3 knots\n",
    "transformed_x = dmatrix(\"bs(train, knots=(1.5, 2, 2.5, 3, 3.5), degree=3, include_intercept=False)\", {\"train\": x},return_type='dataframe')\n",
    "\n",
    "# Fitting Generalised linear model on transformed dataset\n",
    "fit1 = sm.Logit(y, transformed_x).fit()\n",
    "\n",
    "# Predictions on both splines\n",
    "pred1 = fit1.predict(dmatrix(\"bs(valid, knots=(1.5, 2, 2.5, 3, 3.5), include_intercept=False)\", {\"valid\": x}, return_type='dataframe'))\n",
    "\n",
    "# Calculating RMSE values\n",
    "rms1 = sqrt(mean_squared_error(y, pred1))\n",
    "print(rms1)\n",
    "\n",
    "# We will plot the graph \n",
    "xp = np.linspace(x.min(),x.max(),453)\n",
    "\n",
    "# Make some predictions\n",
    "pred1 = fit1.predict(dmatrix(\"bs(xp, knots=(1.5, 2, 2.5, 3, 3.5), include_intercept=False)\", {\"xp\": xp}, return_type='dataframe'))\n",
    "\n",
    "# Plot the splines and error bands\n",
    "plt.figure(figsize=(20,10))\n",
    "plt.scatter(x, y, facecolor='None', edgecolor='k', alpha=0.1)\n",
    "plt.plot(xp, pred1, label='Specifying degree =3 with 3 knots quantile division')\n",
    "#plt.plot(xp, pred2, color='r', label='Specifying degree =3 with 4 knots function division')\n",
    "plt.legend(prop={'size': 14})\n",
    "plt.xlabel('Fibrinogène rdb')\n",
    "plt.ylabel('transfusion CG')\n",
    "plt.show()"
   ]
  },
  {
   "cell_type": "markdown",
   "metadata": {},
   "source": [
    "#### II.1.2 Les Natural Cubic Splines "
   ]
  },
  {
   "cell_type": "markdown",
   "metadata": {},
   "source": [
    "Petit texte sur les Natural Cubic Spline et leur différence avec les B Splines "
   ]
  },
  {
   "cell_type": "code",
   "execution_count": 33,
   "metadata": {},
   "outputs": [
    {
     "name": "stdout",
     "output_type": "stream",
     "text": [
      "Warning: Maximum number of iterations has been exceeded.\n",
      "         Current function value: 0.628021\n",
      "         Iterations: 35\n",
      "0.4673884439290566\n"
     ]
    },
    {
     "data": {
      "image/png": "[encoded data removed]",
      "text/plain": [
       "<Figure size 1440x720 with 1 Axes>"
      ]
     },
     "metadata": {
      "needs_background": "light"
     },
     "output_type": "display_data"
    }
   ],
   "source": [
    "x = data[\"Fibrinogène rdb\"] \n",
    "y = data[\"transfusion CG\"]\n",
    "\n",
    "# Generating natural cubic spline\n",
    "transformed_x3 = dmatrix(\"cr(train, df = 3)\", {\"train\": x}, return_type='dataframe')\n",
    "fit3 = sm.Logit(y, transformed_x3 ).fit()\n",
    "\n",
    "# Prediction \n",
    "pred3 = fit3.predict(dmatrix(\"cr(train, df = 3)\", {\"train\": x}, return_type='dataframe'))\n",
    "# Calculating RMSE value\n",
    "rms = sqrt(mean_squared_error(y, pred3))\n",
    "print(rms)\n",
    "\n",
    "# We will plot the graph for 300 observations \n",
    "xp = np.linspace(x.min(),x.max(),453)\n",
    "pred3 = fit3.predict(dmatrix(\"cr(xp, df = 3)\", {\"xp\": xp}, return_type='dataframe'))\n",
    "\n",
    "# Plot the spline\n",
    "plt.figure(figsize=(20,10))\n",
    "plt.scatter(x, y, facecolor='None', edgecolor='k', alpha=0.1)\n",
    "plt.plot(xp, pred3, color='g', label='Natural spline')\n",
    "plt.legend(prop={'size': 14})\n",
    "plt.xlabel('Fibrinogène rdb')\n",
    "plt.ylabel('transfusion CG')\n",
    "plt.show()"
   ]
  },
  {
   "cell_type": "markdown",
   "metadata": {},
   "source": [
    "On choisira les B Splines car elle collent au modèles que l'on veut reproduire, se trouvant dans l'article "
   ]
  },
  {
   "cell_type": "markdown",
   "metadata": {},
   "source": [
    "### II.2 Sélection de la position des noeuds par accuracy du modèle "
   ]
  },
  {
   "cell_type": "markdown",
   "metadata": {},
   "source": [
    "Voir Jean I, page 45 pour l'amélioration de la position des noeuds "
   ]
  },
  {
   "cell_type": "code",
   "execution_count": null,
   "metadata": {},
   "outputs": [],
   "source": []
  },
  {
   "cell_type": "markdown",
   "metadata": {},
   "source": [
    "## III. Modéles de Regression Logistique avant la sélection de variables"
   ]
  },
  {
   "cell_type": "markdown",
   "metadata": {},
   "source": [
    "### III.1 Modèle de Régression Logisique Logistique sans la transformation en Spline seulement avec la variable explicative \"Fibrinogène rdb\""
   ]
  },
  {
   "cell_type": "code",
   "execution_count": 34,
   "metadata": {},
   "outputs": [
    {
     "name": "stdout",
     "output_type": "stream",
     "text": [
      "Optimization terminated successfully.\n",
      "         Current function value: 0.653862\n",
      "         Iterations 4\n"
     ]
    },
    {
     "data": {
      "text/html": [
       "<table class=\"simpletable\">\n",
       "<caption>Logit Regression Results</caption>\n",
       "<tr>\n",
       "  <th>Dep. Variable:</th>    <td>transfusion CG</td>  <th>  No. Observations:  </th>  <td>   435</td>  \n",
       "</tr>\n",
       "<tr>\n",
       "  <th>Model:</th>                 <td>Logit</td>      <th>  Df Residuals:      </th>  <td>   433</td>  \n",
       "</tr>\n",
       "<tr>\n",
       "  <th>Method:</th>                 <td>MLE</td>       <th>  Df Model:          </th>  <td>     1</td>  \n",
       "</tr>\n",
       "<tr>\n",
       "  <th>Date:</th>            <td>Tue, 05 Jan 2021</td> <th>  Pseudo R-squ.:     </th> <td>0.0001274</td>\n",
       "</tr>\n",
       "<tr>\n",
       "  <th>Time:</th>                <td>08:57:57</td>     <th>  Log-Likelihood:    </th> <td> -284.43</td> \n",
       "</tr>\n",
       "<tr>\n",
       "  <th>converged:</th>             <td>True</td>       <th>  LL-Null:           </th> <td> -284.47</td> \n",
       "</tr>\n",
       "<tr>\n",
       "  <th>Covariance Type:</th>     <td>nonrobust</td>    <th>  LLR p-value:       </th>  <td>0.7877</td>  \n",
       "</tr>\n",
       "</table>\n",
       "<table class=\"simpletable\">\n",
       "<tr>\n",
       "         <td></td>            <th>coef</th>     <th>std err</th>      <th>z</th>      <th>P>|z|</th>  <th>[0.025</th>    <th>0.975]</th>  \n",
       "</tr>\n",
       "<tr>\n",
       "  <th>const</th>           <td>   -0.4778</td> <td>    0.362</td> <td>   -1.321</td> <td> 0.186</td> <td>   -1.187</td> <td>    0.231</td>\n",
       "</tr>\n",
       "<tr>\n",
       "  <th>Fibrinogène rdb</th> <td>   -0.0439</td> <td>    0.163</td> <td>   -0.269</td> <td> 0.788</td> <td>   -0.364</td> <td>    0.276</td>\n",
       "</tr>\n",
       "</table>"
      ],
      "text/plain": [
       "<class 'statsmodels.iolib.summary.Summary'>\n",
       "\"\"\"\n",
       "                           Logit Regression Results                           \n",
       "==============================================================================\n",
       "Dep. Variable:         transfusion CG   No. Observations:                  435\n",
       "Model:                          Logit   Df Residuals:                      433\n",
       "Method:                           MLE   Df Model:                            1\n",
       "Date:                Tue, 05 Jan 2021   Pseudo R-squ.:               0.0001274\n",
       "Time:                        08:57:57   Log-Likelihood:                -284.43\n",
       "converged:                       True   LL-Null:                       -284.47\n",
       "Covariance Type:            nonrobust   LLR p-value:                    0.7877\n",
       "===================================================================================\n",
       "                      coef    std err          z      P>|z|      [0.025      0.975]\n",
       "-----------------------------------------------------------------------------------\n",
       "const              -0.4778      0.362     -1.321      0.186      -1.187       0.231\n",
       "Fibrinogène rdb    -0.0439      0.163     -0.269      0.788      -0.364       0.276\n",
       "===================================================================================\n",
       "\"\"\""
      ]
     },
     "execution_count": 34,
     "metadata": {},
     "output_type": "execute_result"
    }
   ],
   "source": [
    "x = data[\"Fibrinogène rdb\"] \n",
    "y = data[\"transfusion CG\"]\n",
    "x_stat = sm.add_constant(x)\n",
    "\n",
    "model_simple = sm.Logit(y, x_stat).fit()\n",
    "\n",
    "\n",
    "model_simple.summary()"
   ]
  },
  {
   "cell_type": "code",
   "execution_count": 35,
   "metadata": {},
   "outputs": [
    {
     "data": {
      "text/plain": [
       "<matplotlib.collections.PathCollection at 0x7fec00b21ac0>"
      ]
     },
     "execution_count": 35,
     "metadata": {},
     "output_type": "execute_result"
    },
    {
     "data": {
      "image/png": "[encoded data removed]",
      "text/plain": [
       "<Figure size 432x288 with 1 Axes>"
      ]
     },
     "metadata": {
      "needs_background": "light"
     },
     "output_type": "display_data"
    }
   ],
   "source": [
    "alpha = -1.8400\n",
    "beta = 0.4042\n",
    "logitP = alpha + beta*x\n",
    "plt.scatter(x, logitP)"
   ]
  },
  {
   "cell_type": "markdown",
   "metadata": {},
   "source": [
    "On ne retrouve pas notre U_shape.\n",
    "\n",
    "\n",
    "=>> Rajouter commentaires + étude des résidus"
   ]
  },
  {
   "cell_type": "code",
   "execution_count": 87,
   "metadata": {},
   "outputs": [],
   "source": [
    "# Etude des résidus "
   ]
  },
  {
   "cell_type": "markdown",
   "metadata": {},
   "source": [
    "### III.2 Modèle complet de Régression Logisique Logistique sans transformation "
   ]
  },
  {
   "cell_type": "code",
   "execution_count": null,
   "metadata": {},
   "outputs": [],
   "source": []
  },
  {
   "cell_type": "markdown",
   "metadata": {},
   "source": [
    "### III.3 Modèle complet de Régression Logisique Logistique avec la transformation en B Spline "
   ]
  },
  {
   "cell_type": "code",
   "execution_count": 230,
   "metadata": {},
   "outputs": [],
   "source": [
    "## Spline\n",
    "## Cubic spline (B_Spline) process on fibrinogene rdb\n",
    "transformed_fibriB = dmatrix(\"bs(train, knots=(1.67, 1.9, 2.18, 2.51), degree=3, include_intercept=False)\", {\"train\": data['Fibrinogène rdb']},return_type='dataframe')\n",
    "Facteurs_Confusion_Spline = pd.concat([data.copy(),transformed_fibriB], axis = 1)\n",
    "\n",
    "## Supp no-needed columns\n",
    "del Facteurs_Confusion_Spline['fibrinogene']\n",
    "del Facteurs_Confusion_Spline['transfusion CG']\n",
    "del Facteurs_Confusion_Spline['Fibrinogène rdb']\n",
    "del Facteurs_Confusion_Spline['Intercept']\n",
    "X = Facteurs_Confusion_Spline\n",
    "y = data[\"transfusion CG\"]\n",
    "## Model \n",
    "from sklearn.linear_model import LogisticRegression\n",
    "logitS = LogisticRegression().fit(X,y)"
   ]
  },
  {
   "cell_type": "markdown",
   "metadata": {},
   "source": []
  },
  {
   "cell_type": "markdown",
   "metadata": {},
   "source": [
    "### III.4 Modèle complet de Régression Logisique Logistique avec la transformation en Natural Cubic Spline "
   ]
  },
  {
   "cell_type": "code",
   "execution_count": 229,
   "metadata": {},
   "outputs": [],
   "source": [
    "## Spline\n",
    "## Natural Cubic spline process on fibrinogene rdb\n",
    "transformed_fibriN = dmatrix(\"cr(train, df = 3)\", {\"train\": x}, return_type='dataframe')\n",
    "Facteurs_Confusion_SplineN = pd.concat([data.copy(),transformed_fibriN], axis = 1)\n",
    "\n",
    "## Supp no-needed columns\n",
    "del Facteurs_Confusion_SplineN['fibrinogene']\n",
    "del Facteurs_Confusion_SplineN['transfusion CG']\n",
    "del Facteurs_Confusion_SplineN['Fibrinogène rdb']\n",
    "del Facteurs_Confusion_SplineN['Intercept']\n",
    "X_N = Facteurs_Confusion_SplineN\n",
    "y = data[\"transfusion CG\"]\n",
    "## Model \n",
    "from sklearn.linear_model import LogisticRegression\n",
    "logitN = LogisticRegression().fit(X,y)"
   ]
  },
  {
   "cell_type": "markdown",
   "metadata": {},
   "source": [
    "## IV. Sélection de variables "
   ]
  },
  {
   "cell_type": "markdown",
   "metadata": {},
   "source": [
    "### IV.1 AIC & BIC sur R"
   ]
  },
  {
   "cell_type": "markdown",
   "metadata": {},
   "source": [
    "Rajouter texte sur les résultats obtenus sur R "
   ]
  },
  {
   "cell_type": "markdown",
   "metadata": {},
   "source": [
    "### IV.2. Sélection par critère LASSO "
   ]
  },
  {
   "cell_type": "markdown",
   "metadata": {},
   "source": [
    "https://scikit-learn.org/stable/modules/feature_selection.html\n",
    "\n",
    "L1-based feature selection Linear models penalized with the L1 norm have sparse solutions: many of their estimated coefficients are zero. When the goal is to reduce the dimensionality of the data to use with another classifier, they can be used along with feature_selection.SelectFromModel to select the non-zero coefficients. In particular, sparse estimators useful for this purpose are the linear_model.Lasso for regression, and of linear_model.LogisticRegression and svm.LinearSVC for classification."
   ]
  },
  {
   "cell_type": "code",
   "execution_count": 81,
   "metadata": {},
   "outputs": [
    {
     "name": "stdout",
     "output_type": "stream",
     "text": [
      "Variables conservées par la sélection LASSO: ['taille' 'redux' 'hta' 'diabete' 'aod' 'kardegic' 'betabloquant' 'hb'\n",
      " 'type intervention' 'duree rea'\n",
      " 'bs(train, knots=(1.67, 1.9, 2.18, 2.51), degree=3, include_intercept=False)[0]'\n",
      " 'bs(train, knots=(1.67, 1.9, 2.18, 2.51), degree=3, include_intercept=False)[2]'\n",
      " 'bs(train, knots=(1.67, 1.9, 2.18, 2.51), degree=3, include_intercept=False)[3]']\n"
     ]
    }
   ],
   "source": [
    "model = SelectFromModel(logitS, prefit=True)\n",
    "X_new = model.transform(X)\n",
    "feature_names = np.array(X.columns)\n",
    "print(\"Variables conservées par la sélection LASSO: \"\n",
    "      f\"{feature_names[model.get_support()]}\")"
   ]
  },
  {
   "cell_type": "markdown",
   "metadata": {},
   "source": [
    "### IV.3. Sélection backward basée sur la p_valeur"
   ]
  },
  {
   "cell_type": "code",
   "execution_count": 79,
   "metadata": {},
   "outputs": [
    {
     "data": {
      "text/plain": [
       "const                                                                             4.120983e-06\n",
       "age                                                                               8.534585e-02\n",
       "poids                                                                             4.837643e-04\n",
       "taille                                                                            2.194787e-01\n",
       "imc                                                                               4.556134e-02\n",
       "redux                                                                             2.295708e-02\n",
       "hta                                                                               6.694327e-01\n",
       "diabete                                                                           2.090101e-01\n",
       "avk                                                                               4.191688e-01\n",
       "aod                                                                               7.112430e-02\n",
       "plavix                                                                            7.808632e-01\n",
       "kardegic                                                                          1.410413e-01\n",
       "autres aap                                                                        2.221937e-01\n",
       "betabloquant                                                                      9.660195e-01\n",
       "diuretiques                                                                       5.180189e-01\n",
       "hb                                                                                1.867954e-07\n",
       "ferritinemie                                                                      8.513258e-01\n",
       "coeff de sat                                                                      6.656235e-01\n",
       "type intervention                                                                 2.685615e-05\n",
       "duree rea                                                                         1.317669e-06\n",
       "bs(train, knots=(1.67, 1.9, 2.18, 2.51), degree=3, include_intercept=False)[0]    5.257151e-01\n",
       "bs(train, knots=(1.67, 1.9, 2.18, 2.51), degree=3, include_intercept=False)[1]    1.899798e-01\n",
       "bs(train, knots=(1.67, 1.9, 2.18, 2.51), degree=3, include_intercept=False)[2]    1.597268e-02\n",
       "bs(train, knots=(1.67, 1.9, 2.18, 2.51), degree=3, include_intercept=False)[3]    1.154897e-01\n",
       "bs(train, knots=(1.67, 1.9, 2.18, 2.51), degree=3, include_intercept=False)[4]    2.680835e-02\n",
       "bs(train, knots=(1.67, 1.9, 2.18, 2.51), degree=3, include_intercept=False)[5]    5.207679e-01\n",
       "bs(train, knots=(1.67, 1.9, 2.18, 2.51), degree=3, include_intercept=False)[6]    9.386381e-01\n",
       "dtype: float64"
      ]
     },
     "execution_count": 79,
     "metadata": {},
     "output_type": "execute_result"
    }
   ],
   "source": [
    "#Adding constant column of ones, mandatory for sm.OLS model\n",
    "X_1 = sm.add_constant(X)\n",
    "#Fitting sm.OLS model\n",
    "model = sm.OLS(y.astype(float),X_1.astype(float)).fit()\n",
    "model.pvalues"
   ]
  },
  {
   "cell_type": "code",
   "execution_count": 86,
   "metadata": {},
   "outputs": [
    {
     "name": "stdout",
     "output_type": "stream",
     "text": [
      "Variables conservées par la sélection backward basée sur la pvaleur : ['poids', 'imc', 'kardegic', 'hb', 'type intervention', 'duree rea', 'bs(train, knots=(1.67, 1.9, 2.18, 2.51), degree=3, include_intercept=False)[2]', 'bs(train, knots=(1.67, 1.9, 2.18, 2.51), degree=3, include_intercept=False)[4]']\n"
     ]
    }
   ],
   "source": [
    "#Backward Elimination\n",
    "cols = list(X.columns)\n",
    "pmax = 1\n",
    "while (len(cols)>0):\n",
    "    p=[]\n",
    "    X_1 = X[cols]\n",
    "    X_1 = sm.add_constant(X_1)\n",
    "    model = sm.OLS(y.astype(float),X_1.astype(float)).fit()\n",
    "    p = pd.Series(model.pvalues.values[1:],index = cols)      \n",
    "    pmax = max(p)\n",
    "    feature_with_p_max = p.idxmax()\n",
    "    if(pmax>0.05):\n",
    "        cols.remove(feature_with_p_max)\n",
    "    else:\n",
    "        break\n",
    "selected_features_BE = cols\n",
    "print(\"Variables conservées par la sélection backward basée sur la pvaleur : \" + str(selected_features_BE))"
   ]
  },
  {
   "cell_type": "markdown",
   "metadata": {},
   "source": [
    "### IV.4. The final model\n",
    "\n",
    "In order to select the variables of the model, we use a concatenation of the results of the 4 methods. \n",
    "\n",
    "Finally, we keep : \n",
    "\n",
    "- all coefficients of spline transformation \n",
    "- hb\n",
    "- aod\n",
    "- kardegic\n",
    "- poids\n",
    "- type intervention \n",
    "- duree rea "
   ]
  },
  {
   "cell_type": "code",
   "execution_count": 194,
   "metadata": {},
   "outputs": [
    {
     "data": {
      "text/html": [
       "<div>\n",
       "<style scoped>\n",
       "    .dataframe tbody tr th:only-of-type {\n",
       "        vertical-align: middle;\n",
       "    }\n",
       "\n",
       "    .dataframe tbody tr th {\n",
       "        vertical-align: top;\n",
       "    }\n",
       "\n",
       "    .dataframe thead th {\n",
       "        text-align: right;\n",
       "    }\n",
       "</style>\n",
       "<table border=\"1\" class=\"dataframe\">\n",
       "  <thead>\n",
       "    <tr style=\"text-align: right;\">\n",
       "      <th></th>\n",
       "      <th>hb</th>\n",
       "      <th>aod</th>\n",
       "      <th>kardegic</th>\n",
       "      <th>poids</th>\n",
       "      <th>type intervention</th>\n",
       "      <th>duree rea</th>\n",
       "      <th>bs(train, knots=(1.67, 1.9, 2.18, 2.51), degree=3, include_intercept=False)[0]</th>\n",
       "      <th>bs(train, knots=(1.67, 1.9, 2.18, 2.51), degree=3, include_intercept=False)[1]</th>\n",
       "      <th>bs(train, knots=(1.67, 1.9, 2.18, 2.51), degree=3, include_intercept=False)[2]</th>\n",
       "      <th>bs(train, knots=(1.67, 1.9, 2.18, 2.51), degree=3, include_intercept=False)[3]</th>\n",
       "      <th>bs(train, knots=(1.67, 1.9, 2.18, 2.51), degree=3, include_intercept=False)[4]</th>\n",
       "      <th>bs(train, knots=(1.67, 1.9, 2.18, 2.51), degree=3, include_intercept=False)[5]</th>\n",
       "      <th>bs(train, knots=(1.67, 1.9, 2.18, 2.51), degree=3, include_intercept=False)[6]</th>\n",
       "    </tr>\n",
       "  </thead>\n",
       "  <tbody>\n",
       "    <tr>\n",
       "      <th>0</th>\n",
       "      <td>14.6</td>\n",
       "      <td>0.0</td>\n",
       "      <td>1.0</td>\n",
       "      <td>68.0</td>\n",
       "      <td>1</td>\n",
       "      <td>1.0</td>\n",
       "      <td>0.000000</td>\n",
       "      <td>0.000000</td>\n",
       "      <td>0.081754</td>\n",
       "      <td>0.815461</td>\n",
       "      <td>0.102437</td>\n",
       "      <td>0.000348</td>\n",
       "      <td>0.000000</td>\n",
       "    </tr>\n",
       "    <tr>\n",
       "      <th>1</th>\n",
       "      <td>14.0</td>\n",
       "      <td>0.0</td>\n",
       "      <td>1.0</td>\n",
       "      <td>71.0</td>\n",
       "      <td>2</td>\n",
       "      <td>2.0</td>\n",
       "      <td>0.432422</td>\n",
       "      <td>0.396134</td>\n",
       "      <td>0.079576</td>\n",
       "      <td>0.000000</td>\n",
       "      <td>0.000000</td>\n",
       "      <td>0.000000</td>\n",
       "      <td>0.000000</td>\n",
       "    </tr>\n",
       "    <tr>\n",
       "      <th>2</th>\n",
       "      <td>12.9</td>\n",
       "      <td>0.0</td>\n",
       "      <td>1.0</td>\n",
       "      <td>79.0</td>\n",
       "      <td>5</td>\n",
       "      <td>2.0</td>\n",
       "      <td>0.000000</td>\n",
       "      <td>0.000000</td>\n",
       "      <td>0.003028</td>\n",
       "      <td>0.752774</td>\n",
       "      <td>0.236742</td>\n",
       "      <td>0.007456</td>\n",
       "      <td>0.000000</td>\n",
       "    </tr>\n",
       "    <tr>\n",
       "      <th>3</th>\n",
       "      <td>14.6</td>\n",
       "      <td>0.0</td>\n",
       "      <td>1.0</td>\n",
       "      <td>69.0</td>\n",
       "      <td>1</td>\n",
       "      <td>1.0</td>\n",
       "      <td>0.006815</td>\n",
       "      <td>0.304608</td>\n",
       "      <td>0.675069</td>\n",
       "      <td>0.013508</td>\n",
       "      <td>0.000000</td>\n",
       "      <td>0.000000</td>\n",
       "      <td>0.000000</td>\n",
       "    </tr>\n",
       "    <tr>\n",
       "      <th>4</th>\n",
       "      <td>11.6</td>\n",
       "      <td>0.0</td>\n",
       "      <td>0.0</td>\n",
       "      <td>80.0</td>\n",
       "      <td>5</td>\n",
       "      <td>2.0</td>\n",
       "      <td>0.000000</td>\n",
       "      <td>0.000000</td>\n",
       "      <td>0.000000</td>\n",
       "      <td>0.205565</td>\n",
       "      <td>0.477864</td>\n",
       "      <td>0.281035</td>\n",
       "      <td>0.035536</td>\n",
       "    </tr>\n",
       "  </tbody>\n",
       "</table>\n",
       "</div>"
      ],
      "text/plain": [
       "     hb  aod  kardegic  poids type intervention  duree rea  \\\n",
       "0  14.6  0.0       1.0   68.0                 1        1.0   \n",
       "1  14.0  0.0       1.0   71.0                 2        2.0   \n",
       "2  12.9  0.0       1.0   79.0                 5        2.0   \n",
       "3  14.6  0.0       1.0   69.0                 1        1.0   \n",
       "4  11.6  0.0       0.0   80.0                 5        2.0   \n",
       "\n",
       "   bs(train, knots=(1.67, 1.9, 2.18, 2.51), degree=3, include_intercept=False)[0]  \\\n",
       "0                                           0.000000                                \n",
       "1                                           0.432422                                \n",
       "2                                           0.000000                                \n",
       "3                                           0.006815                                \n",
       "4                                           0.000000                                \n",
       "\n",
       "   bs(train, knots=(1.67, 1.9, 2.18, 2.51), degree=3, include_intercept=False)[1]  \\\n",
       "0                                           0.000000                                \n",
       "1                                           0.396134                                \n",
       "2                                           0.000000                                \n",
       "3                                           0.304608                                \n",
       "4                                           0.000000                                \n",
       "\n",
       "   bs(train, knots=(1.67, 1.9, 2.18, 2.51), degree=3, include_intercept=False)[2]  \\\n",
       "0                                           0.081754                                \n",
       "1                                           0.079576                                \n",
       "2                                           0.003028                                \n",
       "3                                           0.675069                                \n",
       "4                                           0.000000                                \n",
       "\n",
       "   bs(train, knots=(1.67, 1.9, 2.18, 2.51), degree=3, include_intercept=False)[3]  \\\n",
       "0                                           0.815461                                \n",
       "1                                           0.000000                                \n",
       "2                                           0.752774                                \n",
       "3                                           0.013508                                \n",
       "4                                           0.205565                                \n",
       "\n",
       "   bs(train, knots=(1.67, 1.9, 2.18, 2.51), degree=3, include_intercept=False)[4]  \\\n",
       "0                                           0.102437                                \n",
       "1                                           0.000000                                \n",
       "2                                           0.236742                                \n",
       "3                                           0.000000                                \n",
       "4                                           0.477864                                \n",
       "\n",
       "   bs(train, knots=(1.67, 1.9, 2.18, 2.51), degree=3, include_intercept=False)[5]  \\\n",
       "0                                           0.000348                                \n",
       "1                                           0.000000                                \n",
       "2                                           0.007456                                \n",
       "3                                           0.000000                                \n",
       "4                                           0.281035                                \n",
       "\n",
       "   bs(train, knots=(1.67, 1.9, 2.18, 2.51), degree=3, include_intercept=False)[6]  \n",
       "0                                           0.000000                               \n",
       "1                                           0.000000                               \n",
       "2                                           0.000000                               \n",
       "3                                           0.000000                               \n",
       "4                                           0.035536                               "
      ]
     },
     "execution_count": 194,
     "metadata": {},
     "output_type": "execute_result"
    }
   ],
   "source": [
    "X_Select = X[['hb','aod','kardegic','poids','type intervention', 'duree rea']]\n",
    "X_Select = pd.concat([X_Select, X[[X.columns[19:][i] for i in range(transformed_fibriB.shape[1]-1)]]], axis = 1)\n",
    "X_Select.head()"
   ]
  },
  {
   "cell_type": "markdown",
   "metadata": {},
   "source": [
    "## V. Interpréation des résultats"
   ]
  },
  {
   "cell_type": "markdown",
   "metadata": {},
   "source": [
    "### V.1 Test d'association entre la variable d'intérêt \"Fibrinogène rdb\" et la variable réponse \"transfusion CG\""
   ]
  },
  {
   "cell_type": "markdown",
   "metadata": {},
   "source": [
    "Rajouter text à partir des résultats obtenus sur R. "
   ]
  },
  {
   "cell_type": "markdown",
   "metadata": {},
   "source": [
    "### V.2 Choix des classes pour l'expression des odd ratios "
   ]
  },
  {
   "cell_type": "code",
   "execution_count": 160,
   "metadata": {},
   "outputs": [],
   "source": [
    "#### Quel classes choisir? \n",
    "### Elles sont forcément liées au taux de fibrinogène \n",
    "### On reprends celle de l'article czr elles sont basées sur des connaissances métier \n",
    "### Nos classes sont donc : \n",
    "# inférieur à 1.5 , 1.5-2 , 2-2.5, 2.5-3, supérieur à 3\n",
    "### On calcul l'odd de chaque classe à partir du mileu de chaque classe \n",
    "### Milieu de classes : 1.18 , 1.75 , 2.25, 2.75, 3.85 \n",
    "### (0.85 (min) + 1.5)/2 \n",
    "### (4.7 (max) + 3)/2"
   ]
  },
  {
   "cell_type": "code",
   "execution_count": 234,
   "metadata": {},
   "outputs": [],
   "source": [
    "### On doit récupérer les valeurs des coefficients des B splines en ces points \n",
    "middle_classes = pd.DataFrame([1.18 , 1.75 , 2.25, 2.75, 3.85], columns = ['mid'])\n",
    "new_data = {\"train\": middle_classes['mid'] }\n",
    "build = build_design_matrices([transformed_fibriB.design_info], new_data)[0]\n",
    "bspline_val = np.asarray(build)"
   ]
  },
  {
   "cell_type": "code",
   "execution_count": 233,
   "metadata": {},
   "outputs": [],
   "source": [
    "### On doit récupérer les valeurs des coefficients des Natural cubic splines en ces points \n",
    "middle_classes = pd.DataFrame([1.18 , 1.75 , 2.25, 2.75, 3.85], columns = ['mid'])\n",
    "new_data = {\"train\": middle_classes['mid'] }\n",
    "build = build_design_matrices([transformed_fibriN.design_info], new_data)[0]\n",
    "Nspline_val = np.asarray(build)"
   ]
  },
  {
   "cell_type": "markdown",
   "metadata": {},
   "source": [
    "### V.3 Présentation des résultats sous forme d'odd ratios "
   ]
  },
  {
   "cell_type": "code",
   "execution_count": 175,
   "metadata": {},
   "outputs": [],
   "source": [
    "nb_classes = 5\n",
    "### Création du tableau de résultats \n",
    "Res = pd.DataFrame(index = range(nb_classes), columns = ['Categorization','BSpline Ajusted','Bspline Non_Adjusted', 'Natural Cubic Adjusted', 'Natural Cubic Non_Adjusted' ])"
   ]
  },
  {
   "cell_type": "markdown",
   "metadata": {},
   "source": [
    "###### V3.1. B Spline Pre processing & Adjusted Model "
   ]
  },
  {
   "cell_type": "code",
   "execution_count": 140,
   "metadata": {},
   "outputs": [],
   "source": [
    "MBSA = LogisticRegression().fit(X_Select,y)"
   ]
  },
  {
   "cell_type": "code",
   "execution_count": 216,
   "metadata": {},
   "outputs": [
    {
     "name": "stdout",
     "output_type": "stream",
     "text": [
      "Les coeff modèle LR spline : [-0.5506746  -0.42996153  0.55344994 -0.02806753  0.25378118  0.32442628\n",
      "  1.25498457  0.64570498 -0.66901377  0.42758384 -1.18873925  0.77643307\n",
      "  1.68524867]\n",
      "Intercept modèle LR spline : 7.076726931900998\n",
      "Importance des coefficients : ['bs(train, knots=(1.67, 1.9, 2.18, 2.51), degree=3, include_intercept=False)[4]', 'bs(train, knots=(1.67, 1.9, 2.18, 2.51), degree=3, include_intercept=False)[2]', 'hb', 'aod', 'poids', 'type intervention', 'duree rea', 'bs(train, knots=(1.67, 1.9, 2.18, 2.51), degree=3, include_intercept=False)[3]', 'kardegic', 'bs(train, knots=(1.67, 1.9, 2.18, 2.51), degree=3, include_intercept=False)[1]', 'bs(train, knots=(1.67, 1.9, 2.18, 2.51), degree=3, include_intercept=False)[5]', 'bs(train, knots=(1.67, 1.9, 2.18, 2.51), degree=3, include_intercept=False)[0]', 'bs(train, knots=(1.67, 1.9, 2.18, 2.51), degree=3, include_intercept=False)[6]']\n"
     ]
    }
   ],
   "source": [
    "#### Adjusted Model \n",
    "MBSA = LogisticRegression().fit(X_Select,y)\n",
    "liste_coef = np.concatenate([MBSA.intercept_,MBSA.coef_[0][6:]])\n",
    "\n",
    "### Récupération des coeff \n",
    "print(\"Les coeff modèle LR spline : \" + str(MBSA.coef_[0]))\n",
    "print(\"Intercept modèle LR spline : \" + str(MBSA.intercept_[0]))\n",
    "print(\"Importance des coefficients : \" + str([X_Select.columns[np.argsort(MBSA.coef_[0])][i] for i in range(len(MBSA.coef_[0]))]))"
   ]
  },
  {
   "cell_type": "code",
   "execution_count": 73,
   "metadata": {
    "scrolled": true
   },
   "outputs": [
    {
     "name": "stdout",
     "output_type": "stream",
     "text": [
      "1.4979950286018933\n",
      "0.9860118666894295\n",
      "0.8769347722613055\n",
      "0.9718729571972687\n",
      "1.2157807205547668\n"
     ]
    }
   ],
   "source": [
    "# Calcul de la probalité de \"succès\" de chaque classe \n",
    "odd_class1 = np.exp(np.sum(liste_coef*bspline_val[0]))\n",
    "print(odd_class1)\n",
    "odd_class2 = np.exp(np.sum(liste_coef*bspline_val[1]))\n",
    "print(odd_class2)\n",
    "odd_class3 = np.exp(np.sum(liste_coef*bspline_val[2]))\n",
    "print(odd_class3)\n",
    "odd_class4 = np.exp(np.sum(liste_coef*bspline_val[3]))\n",
    "print(odd_class4)\n",
    "odd_class5 = np.exp(np.sum(liste_coef*bspline_val[4]))\n",
    "print(odd_class5)"
   ]
  },
  {
   "cell_type": "markdown",
   "metadata": {},
   "source": [
    "La classe ayant la probabilité de succès la plus faible est la classe 3, elle sera ainsi notre classe de référence. "
   ]
  },
  {
   "cell_type": "code",
   "execution_count": 177,
   "metadata": {},
   "outputs": [],
   "source": [
    "column = 'BSpline Ajusted'\n",
    "Res[column][0] = odd_class1/odd_class3\n",
    "Res[column][1] = odd_class2/odd_class3\n",
    "Res[column][2] = odd_class3/odd_class3\n",
    "Res[column][3] = odd_class4/odd_class3\n",
    "Res[column][4] = odd_class5/odd_class3"
   ]
  },
  {
   "cell_type": "markdown",
   "metadata": {},
   "source": [
    "###### V3.2. B Spline Pre processing & Non Adjusted Model \n"
   ]
  },
  {
   "cell_type": "code",
   "execution_count": 243,
   "metadata": {},
   "outputs": [
    {
     "name": "stdout",
     "output_type": "stream",
     "text": [
      "Les coeff modèle LR spline : [ 0.41798939  0.02743092 -1.29138916 -0.71427468 -1.0972663   0.36384686\n",
      "  0.82284043]\n",
      "Intercept modèle LR spline : 0.09612455389723085\n",
      "Importance des coefficients : ['bs(train, knots=(1.67, 1.9, 2.18, 2.51), degree=3, include_intercept=False)[2]', 'bs(train, knots=(1.67, 1.9, 2.18, 2.51), degree=3, include_intercept=False)[4]', 'bs(train, knots=(1.67, 1.9, 2.18, 2.51), degree=3, include_intercept=False)[3]', 'bs(train, knots=(1.67, 1.9, 2.18, 2.51), degree=3, include_intercept=False)[1]', 'bs(train, knots=(1.67, 1.9, 2.18, 2.51), degree=3, include_intercept=False)[5]', 'bs(train, knots=(1.67, 1.9, 2.18, 2.51), degree=3, include_intercept=False)[0]', 'bs(train, knots=(1.67, 1.9, 2.18, 2.51), degree=3, include_intercept=False)[6]']\n"
     ]
    }
   ],
   "source": [
    "#### Non Adjusted Model : the variables keeped are only B Spline transformation\n",
    "X_Bspline = transformed_fibriB[transformed_fibriB.columns[1:]]\n",
    "MBS = LogisticRegression().fit(X_Bspline,y)\n",
    "liste_coef = np.concatenate([MBS.intercept_,MBS.coef_[0]])\n",
    "\n",
    "### Récupération des coeff \n",
    "print(\"Les coeff modèle LR spline : \" + str(MBS.coef_[0]))\n",
    "print(\"Intercept modèle LR spline : \" + str(MBS.intercept_[0]))\n",
    "print(\"Importance des coefficients : \" + str([X_Bspline.columns[np.argsort(MBS.coef_[0])][i] for i in range(len(MBS.coef_[0]))]))"
   ]
  },
  {
   "cell_type": "code",
   "execution_count": 221,
   "metadata": {},
   "outputs": [
    {
     "name": "stdout",
     "output_type": "stream",
     "text": [
      "1.3109438697360967\n",
      "0.4961881818332964\n",
      "0.49082389483491673\n",
      "0.49638527248783276\n",
      "1.1563286991692634\n"
     ]
    }
   ],
   "source": [
    "# Calcul de la probalité de \"succès\" de chaque classe \n",
    "odd_class1 = np.exp(np.sum(liste_coef*bspline_val[0]))\n",
    "print(odd_class1)\n",
    "odd_class2 = np.exp(np.sum(liste_coef*bspline_val[1]))\n",
    "print(odd_class2)\n",
    "odd_class3 = np.exp(np.sum(liste_coef*bspline_val[2]))\n",
    "print(odd_class3)\n",
    "odd_class4 = np.exp(np.sum(liste_coef*bspline_val[3]))\n",
    "print(odd_class4)\n",
    "odd_class5 = np.exp(np.sum(liste_coef*bspline_val[4]))\n",
    "print(odd_class5)"
   ]
  },
  {
   "cell_type": "code",
   "execution_count": 222,
   "metadata": {},
   "outputs": [],
   "source": [
    "column = 'Bspline Non_Adjusted'\n",
    "Res[column][0] = odd_class1/odd_class3\n",
    "Res[column][1] = odd_class2/odd_class3\n",
    "Res[column][2] = odd_class3/odd_class3\n",
    "Res[column][3] = odd_class4/odd_class3\n",
    "Res[column][4] = odd_class5/odd_class3"
   ]
  },
  {
   "cell_type": "markdown",
   "metadata": {},
   "source": [
    "###### V3.3. Natural Cubic Spline Pre processing & Adjusted Model "
   ]
  },
  {
   "cell_type": "markdown",
   "metadata": {},
   "source": [
    "###### V3.4. Natural Cubic Spline Pre processing & Non Adjusted Model "
   ]
  },
  {
   "cell_type": "code",
   "execution_count": 244,
   "metadata": {},
   "outputs": [
    {
     "name": "stdout",
     "output_type": "stream",
     "text": [
      "Les coeff modèle LR spline : [ 0.27952645 -1.35587671  1.07622532]\n",
      "Intercept modèle LR spline : 0.521833215547291\n",
      "Importance des coefficients : ['cr(train, df=3)[1]', 'cr(train, df=3)[0]', 'cr(train, df=3)[2]']\n"
     ]
    }
   ],
   "source": [
    "#### Non Adjusted Model : the variables keeped are only B Spline transformation\n",
    "X_Nspline = transformed_fibriN[transformed_fibriN.columns[1:]]\n",
    "MN = LogisticRegression().fit(X_Nspline,y)\n",
    "liste_coef = np.concatenate([MN.intercept_,MN.coef_[0]])\n",
    "\n",
    "### Récupération des coeff \n",
    "print(\"Les coeff modèle LR spline : \" + str(MN.coef_[0]))\n",
    "print(\"Intercept modèle LR spline : \" + str(MN.intercept_[0]))\n",
    "print(\"Importance des coefficients : \" + str([X_Nspline.columns[np.argsort(MN.coef_[0])][i] for i in range(len(MN.coef_[0]))]))"
   ]
  },
  {
   "cell_type": "code",
   "execution_count": 245,
   "metadata": {},
   "outputs": [
    {
     "name": "stdout",
     "output_type": "stream",
     "text": [
      "1.2940670889488126\n",
      "0.5862501157853793\n",
      "0.405867894363778\n",
      "0.41795984114577966\n",
      "1.2558242322478625\n"
     ]
    }
   ],
   "source": [
    "# Calcul de la probalité de \"succès\" de chaque classe \n",
    "odd_class1 = np.exp(np.sum(liste_coef*Nspline_val[0]))\n",
    "print(odd_class1)\n",
    "odd_class2 = np.exp(np.sum(liste_coef*Nspline_val[1]))\n",
    "print(odd_class2)\n",
    "odd_class3 = np.exp(np.sum(liste_coef*Nspline_val[2]))\n",
    "print(odd_class3)\n",
    "odd_class4 = np.exp(np.sum(liste_coef*Nspline_val[3]))\n",
    "print(odd_class4)\n",
    "odd_class5 = np.exp(np.sum(liste_coef*Nspline_val[4]))\n",
    "print(odd_class5)"
   ]
  },
  {
   "cell_type": "code",
   "execution_count": 246,
   "metadata": {},
   "outputs": [],
   "source": [
    "column = 'Natural Cubic Non_Adjusted'\n",
    "Res[column][0] = odd_class1/odd_class3\n",
    "Res[column][1] = odd_class2/odd_class3\n",
    "Res[column][2] = odd_class3/odd_class3\n",
    "Res[column][3] = odd_class4/odd_class3\n",
    "Res[column][4] = odd_class5/odd_class3"
   ]
  },
  {
   "cell_type": "markdown",
   "metadata": {},
   "source": [
    "###### V3.5. Categorization Pre processing  & Adjusted Model "
   ]
  },
  {
   "cell_type": "markdown",
   "metadata": {},
   "source": [
    "##### V3.6. Categorization Pre processing  & Non Adjusted Model "
   ]
  },
  {
   "cell_type": "markdown",
   "metadata": {},
   "source": [
    "##### V3.7. Table of Results"
   ]
  },
  {
   "cell_type": "code",
   "execution_count": 247,
   "metadata": {},
   "outputs": [
    {
     "data": {
      "text/html": [
       "<div>\n",
       "<style scoped>\n",
       "    .dataframe tbody tr th:only-of-type {\n",
       "        vertical-align: middle;\n",
       "    }\n",
       "\n",
       "    .dataframe tbody tr th {\n",
       "        vertical-align: top;\n",
       "    }\n",
       "\n",
       "    .dataframe thead th {\n",
       "        text-align: right;\n",
       "    }\n",
       "</style>\n",
       "<table border=\"1\" class=\"dataframe\">\n",
       "  <thead>\n",
       "    <tr style=\"text-align: right;\">\n",
       "      <th></th>\n",
       "      <th>Categorization</th>\n",
       "      <th>BSpline Ajusted</th>\n",
       "      <th>Bspline Non_Adjusted</th>\n",
       "      <th>Natural Cubic Adjusted</th>\n",
       "      <th>Natural Cubic Non_Adjusted</th>\n",
       "    </tr>\n",
       "  </thead>\n",
       "  <tbody>\n",
       "    <tr>\n",
       "      <th>0</th>\n",
       "      <td>NaN</td>\n",
       "      <td>1.70822</td>\n",
       "      <td>2.6709</td>\n",
       "      <td>NaN</td>\n",
       "      <td>3.18839</td>\n",
       "    </tr>\n",
       "    <tr>\n",
       "      <th>1</th>\n",
       "      <td>NaN</td>\n",
       "      <td>1.12438</td>\n",
       "      <td>1.01093</td>\n",
       "      <td>NaN</td>\n",
       "      <td>1.44444</td>\n",
       "    </tr>\n",
       "    <tr>\n",
       "      <th>2</th>\n",
       "      <td>NaN</td>\n",
       "      <td>1</td>\n",
       "      <td>1</td>\n",
       "      <td>NaN</td>\n",
       "      <td>1</td>\n",
       "    </tr>\n",
       "    <tr>\n",
       "      <th>3</th>\n",
       "      <td>NaN</td>\n",
       "      <td>1.10826</td>\n",
       "      <td>1.01133</td>\n",
       "      <td>NaN</td>\n",
       "      <td>1.02979</td>\n",
       "    </tr>\n",
       "    <tr>\n",
       "      <th>4</th>\n",
       "      <td>NaN</td>\n",
       "      <td>1.3864</td>\n",
       "      <td>2.35589</td>\n",
       "      <td>NaN</td>\n",
       "      <td>3.09417</td>\n",
       "    </tr>\n",
       "  </tbody>\n",
       "</table>\n",
       "</div>"
      ],
      "text/plain": [
       "  Categorization BSpline Ajusted Bspline Non_Adjusted Natural Cubic Adjusted  \\\n",
       "0            NaN         1.70822               2.6709                    NaN   \n",
       "1            NaN         1.12438              1.01093                    NaN   \n",
       "2            NaN               1                    1                    NaN   \n",
       "3            NaN         1.10826              1.01133                    NaN   \n",
       "4            NaN          1.3864              2.35589                    NaN   \n",
       "\n",
       "  Natural Cubic Non_Adjusted  \n",
       "0                    3.18839  \n",
       "1                    1.44444  \n",
       "2                          1  \n",
       "3                    1.02979  \n",
       "4                    3.09417  "
      ]
     },
     "execution_count": 247,
     "metadata": {},
     "output_type": "execute_result"
    }
   ],
   "source": [
    "Res"
   ]
  },
  {
   "cell_type": "code",
   "execution_count": null,
   "metadata": {},
   "outputs": [],
   "source": []
  }
 ],
 "metadata": {
  "kernelspec": {
   "display_name": "Python 3",
   "language": "python",
   "name": "python3"
  },
  "language_info": {
   "codemirror_mode": {
    "name": "ipython",
    "version": 3
   },
   "file_extension": ".py",
   "mimetype": "text/x-python",
   "name": "python",
   "nbconvert_exporter": "python",
   "pygments_lexer": "ipython3",
   "version": "3.8.3"
  }
 },
 "nbformat": 4,
 "nbformat_minor": 4
}
