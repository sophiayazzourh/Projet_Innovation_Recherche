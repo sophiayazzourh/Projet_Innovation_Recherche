{
 "cells": [
  {
   "cell_type": "markdown",
   "metadata": {},
   "source": [
    "# Research and Innovation Project \n",
    "\n",
    "Aimée Simcic-Mori & Sophia Yazzourh \n",
    "\n",
    "Tutor : Nicolas Savy \n",
    "\n",
    "Subjet : U-shape curve in logistic regression with a quantitativeexplanatory variable"
   ]
  },
  {
   "cell_type": "markdown",
   "metadata": {},
   "source": [
    "## 0. Loading Libraries"
   ]
  },
  {
   "cell_type": "code",
   "execution_count": 1,
   "metadata": {},
   "outputs": [],
   "source": [
    "# Data science\n",
    "import numpy as np\n",
    "import pandas as pd \n",
    "import matplotlib.pyplot as plt\n",
    "# RMS \n",
    "from sklearn.metrics import mean_squared_error\n",
    "from math import sqrt\n",
    "# Splines\n",
    "from patsy import dmatrix , build_design_matrices\n",
    "# Statical Model\n",
    "import statsmodels.api as sm\n",
    "import statsmodels.formula.api as smf\n",
    "# Model Selection\n",
    "from sklearn.feature_selection import SelectFromModel\n",
    "# Accuracy\n",
    "from sklearn.metrics import accuracy_score"
   ]
  },
  {
   "cell_type": "code",
   "execution_count": 2,
   "metadata": {},
   "outputs": [],
   "source": [
    "### Suppression of unnecessary warnings due to the forced transformation of certain variables\n",
    "import sys\n",
    "import warnings\n",
    "\n",
    "if not sys.warnoptions:\n",
    "    warnings.simplefilter(\"ignore\")"
   ]
  },
  {
   "cell_type": "markdown",
   "metadata": {},
   "source": [
    "## I. Data"
   ]
  },
  {
   "cell_type": "markdown",
   "metadata": {},
   "source": [
    "### I.1 Importation & Preperation"
   ]
  },
  {
   "cell_type": "code",
   "execution_count": 3,
   "metadata": {},
   "outputs": [],
   "source": [
    "### Data importation\n",
    "data = pd.read_excel(\"./Base_PBM_Facteurs_Confusion.xlsx\")"
   ]
  },
  {
   "cell_type": "markdown",
   "metadata": {},
   "source": [
    "Our respond is represented by the column \"transfusion CG\". We will not be interested by the transfusion type but only if it happened or not. We will transform the variable into a binary one with 0 : \"no transfusion\" and 1 : \"transfusion\". "
   ]
  },
  {
   "cell_type": "code",
   "execution_count": 4,
   "metadata": {},
   "outputs": [
    {
     "name": "stdout",
     "output_type": "stream",
     "text": [
      "Data length : 435\n",
      "Number of columns: 22\n"
     ]
    },
    {
     "data": {
      "text/html": [
       "<div>\n",
       "<style scoped>\n",
       "    .dataframe tbody tr th:only-of-type {\n",
       "        vertical-align: middle;\n",
       "    }\n",
       "\n",
       "    .dataframe tbody tr th {\n",
       "        vertical-align: top;\n",
       "    }\n",
       "\n",
       "    .dataframe thead th {\n",
       "        text-align: right;\n",
       "    }\n",
       "</style>\n",
       "<table border=\"1\" class=\"dataframe\">\n",
       "  <thead>\n",
       "    <tr style=\"text-align: right;\">\n",
       "      <th></th>\n",
       "      <th>age</th>\n",
       "      <th>poids</th>\n",
       "      <th>taille</th>\n",
       "      <th>imc</th>\n",
       "      <th>redux</th>\n",
       "      <th>hta</th>\n",
       "      <th>diabete</th>\n",
       "      <th>avk</th>\n",
       "      <th>aod</th>\n",
       "      <th>plavix</th>\n",
       "      <th>...</th>\n",
       "      <th>betabloquant</th>\n",
       "      <th>diuretiques</th>\n",
       "      <th>hb</th>\n",
       "      <th>ferritinemie</th>\n",
       "      <th>coeff de sat</th>\n",
       "      <th>type intervention</th>\n",
       "      <th>duree rea</th>\n",
       "      <th>fibrinogene</th>\n",
       "      <th>Fibrinogène rdb</th>\n",
       "      <th>transfusion CG</th>\n",
       "    </tr>\n",
       "  </thead>\n",
       "  <tbody>\n",
       "    <tr>\n",
       "      <th>0</th>\n",
       "      <td>69.0</td>\n",
       "      <td>68.0</td>\n",
       "      <td>1.63</td>\n",
       "      <td>25.593</td>\n",
       "      <td>0.0</td>\n",
       "      <td>1.0</td>\n",
       "      <td>0.0</td>\n",
       "      <td>0.0</td>\n",
       "      <td>0.0</td>\n",
       "      <td>0.0</td>\n",
       "      <td>...</td>\n",
       "      <td>0.0</td>\n",
       "      <td>0.0</td>\n",
       "      <td>14.6</td>\n",
       "      <td>56.0</td>\n",
       "      <td>14.0</td>\n",
       "      <td>1</td>\n",
       "      <td>1.0</td>\n",
       "      <td>3.64</td>\n",
       "      <td>2.27</td>\n",
       "      <td>0.0</td>\n",
       "    </tr>\n",
       "    <tr>\n",
       "      <th>1</th>\n",
       "      <td>65.0</td>\n",
       "      <td>71.0</td>\n",
       "      <td>1.72</td>\n",
       "      <td>23.999</td>\n",
       "      <td>0.0</td>\n",
       "      <td>0.0</td>\n",
       "      <td>0.0</td>\n",
       "      <td>0.0</td>\n",
       "      <td>0.0</td>\n",
       "      <td>1.0</td>\n",
       "      <td>...</td>\n",
       "      <td>1.0</td>\n",
       "      <td>0.0</td>\n",
       "      <td>14.0</td>\n",
       "      <td>199.0</td>\n",
       "      <td>20.0</td>\n",
       "      <td>2</td>\n",
       "      <td>2.0</td>\n",
       "      <td>1.91</td>\n",
       "      <td>1.30</td>\n",
       "      <td>0.0</td>\n",
       "    </tr>\n",
       "    <tr>\n",
       "      <th>2</th>\n",
       "      <td>79.0</td>\n",
       "      <td>79.0</td>\n",
       "      <td>1.60</td>\n",
       "      <td>30.859</td>\n",
       "      <td>0.0</td>\n",
       "      <td>0.0</td>\n",
       "      <td>0.0</td>\n",
       "      <td>1.0</td>\n",
       "      <td>0.0</td>\n",
       "      <td>1.0</td>\n",
       "      <td>...</td>\n",
       "      <td>0.0</td>\n",
       "      <td>1.0</td>\n",
       "      <td>12.9</td>\n",
       "      <td>51.0</td>\n",
       "      <td>26.0</td>\n",
       "      <td>5</td>\n",
       "      <td>2.0</td>\n",
       "      <td>3.57</td>\n",
       "      <td>2.43</td>\n",
       "      <td>1.0</td>\n",
       "    </tr>\n",
       "    <tr>\n",
       "      <th>3</th>\n",
       "      <td>80.0</td>\n",
       "      <td>69.0</td>\n",
       "      <td>1.69</td>\n",
       "      <td>24.158</td>\n",
       "      <td>0.0</td>\n",
       "      <td>1.0</td>\n",
       "      <td>0.0</td>\n",
       "      <td>0.0</td>\n",
       "      <td>0.0</td>\n",
       "      <td>1.0</td>\n",
       "      <td>...</td>\n",
       "      <td>0.0</td>\n",
       "      <td>0.0</td>\n",
       "      <td>14.6</td>\n",
       "      <td>387.0</td>\n",
       "      <td>21.0</td>\n",
       "      <td>1</td>\n",
       "      <td>1.0</td>\n",
       "      <td>2.43</td>\n",
       "      <td>1.78</td>\n",
       "      <td>0.0</td>\n",
       "    </tr>\n",
       "    <tr>\n",
       "      <th>4</th>\n",
       "      <td>72.0</td>\n",
       "      <td>80.0</td>\n",
       "      <td>1.70</td>\n",
       "      <td>27.681</td>\n",
       "      <td>0.0</td>\n",
       "      <td>1.0</td>\n",
       "      <td>0.0</td>\n",
       "      <td>1.0</td>\n",
       "      <td>0.0</td>\n",
       "      <td>0.0</td>\n",
       "      <td>...</td>\n",
       "      <td>1.0</td>\n",
       "      <td>0.0</td>\n",
       "      <td>11.6</td>\n",
       "      <td>24.0</td>\n",
       "      <td>6.0</td>\n",
       "      <td>5</td>\n",
       "      <td>2.0</td>\n",
       "      <td>4.15</td>\n",
       "      <td>3.23</td>\n",
       "      <td>1.0</td>\n",
       "    </tr>\n",
       "  </tbody>\n",
       "</table>\n",
       "<p>5 rows × 22 columns</p>\n",
       "</div>"
      ],
      "text/plain": [
       "    age  poids  taille     imc  redux  hta  diabete  avk  aod  plavix  ...  \\\n",
       "0  69.0   68.0    1.63  25.593    0.0  1.0      0.0  0.0  0.0     0.0  ...   \n",
       "1  65.0   71.0    1.72  23.999    0.0  0.0      0.0  0.0  0.0     1.0  ...   \n",
       "2  79.0   79.0    1.60  30.859    0.0  0.0      0.0  1.0  0.0     1.0  ...   \n",
       "3  80.0   69.0    1.69  24.158    0.0  1.0      0.0  0.0  0.0     1.0  ...   \n",
       "4  72.0   80.0    1.70  27.681    0.0  1.0      0.0  1.0  0.0     0.0  ...   \n",
       "\n",
       "   betabloquant  diuretiques    hb  ferritinemie  coeff de sat  \\\n",
       "0           0.0          0.0  14.6          56.0          14.0   \n",
       "1           1.0          0.0  14.0         199.0          20.0   \n",
       "2           0.0          1.0  12.9          51.0          26.0   \n",
       "3           0.0          0.0  14.6         387.0          21.0   \n",
       "4           1.0          0.0  11.6          24.0           6.0   \n",
       "\n",
       "   type intervention  duree rea fibrinogene  Fibrinogène rdb  transfusion CG  \n",
       "0                  1        1.0        3.64             2.27             0.0  \n",
       "1                  2        2.0        1.91             1.30             0.0  \n",
       "2                  5        2.0        3.57             2.43             1.0  \n",
       "3                  1        1.0        2.43             1.78             0.0  \n",
       "4                  5        2.0        4.15             3.23             1.0  \n",
       "\n",
       "[5 rows x 22 columns]"
      ]
     },
     "execution_count": 4,
     "metadata": {},
     "output_type": "execute_result"
    }
   ],
   "source": [
    "### Data cleaning\n",
    "# Binary transformation of the Y response variable\n",
    "data[\"transfusion CG\"][np.where(data[\"transfusion CG\"] > 0)[0]] = 1\n",
    "# Supression of missing data\n",
    "data.dropna(inplace=True)\n",
    "# Re indexation\n",
    "data.set_index(np.arange(len(data)))\n",
    "# Display data informations\n",
    "print(\"Data length : \" + str(len(data)))\n",
    "print(\"Number of columns: \" + str(len(data.columns)))\n",
    "data.head()"
   ]
  },
  {
   "cell_type": "markdown",
   "metadata": {},
   "source": [
    "For each individual, we have a respond \"transfusion CG\" and 21 explicative variables.\n",
    "\n",
    "\n",
    "The variables indicating the rate of firbrinogen are those which interest us the most and which mainly concerns our study. So we have the choice between \"fibrinogène\" ou soit \"fibrinigène rdb\". \n",
    "In order for our work to correspond and be placed in the same context as the article \"Preoperative plasma fibrinogen level and transfusion in cardiac surgery: a biphasic correlation\" by Hélène Charbonneaua, Marie Pasquieb and Nicolas Mayeur, we will use the variable \"fibrinogen rdb\".\n",
    "\n",
    "\n",
    "The explicative variables are distributed according to the following characteristics:\n",
    "\n",
    "- binary : redux, hta, diabete, avk, aod, plavix, kardegic, autres aap, betabloquant, diuretiques, \n",
    "- continuous : imc, hb, ferritinemie, coeff de sat, duree rea, Fibrinogène rdb, fibrinogene\n",
    "- categorial : type intervention"
   ]
  },
  {
   "cell_type": "code",
   "execution_count": 5,
   "metadata": {},
   "outputs": [
    {
     "data": {
      "text/html": [
       "<div>\n",
       "<style scoped>\n",
       "    .dataframe tbody tr th:only-of-type {\n",
       "        vertical-align: middle;\n",
       "    }\n",
       "\n",
       "    .dataframe tbody tr th {\n",
       "        vertical-align: top;\n",
       "    }\n",
       "\n",
       "    .dataframe thead th {\n",
       "        text-align: right;\n",
       "    }\n",
       "</style>\n",
       "<table border=\"1\" class=\"dataframe\">\n",
       "  <thead>\n",
       "    <tr style=\"text-align: right;\">\n",
       "      <th></th>\n",
       "      <th>age</th>\n",
       "      <th>poids</th>\n",
       "      <th>taille</th>\n",
       "      <th>imc</th>\n",
       "      <th>redux</th>\n",
       "      <th>hta</th>\n",
       "      <th>diabete</th>\n",
       "      <th>avk</th>\n",
       "      <th>aod</th>\n",
       "      <th>plavix</th>\n",
       "      <th>...</th>\n",
       "      <th>autres aap</th>\n",
       "      <th>betabloquant</th>\n",
       "      <th>diuretiques</th>\n",
       "      <th>hb</th>\n",
       "      <th>ferritinemie</th>\n",
       "      <th>coeff de sat</th>\n",
       "      <th>duree rea</th>\n",
       "      <th>fibrinogene</th>\n",
       "      <th>Fibrinogène rdb</th>\n",
       "      <th>transfusion CG</th>\n",
       "    </tr>\n",
       "  </thead>\n",
       "  <tbody>\n",
       "    <tr>\n",
       "      <th>count</th>\n",
       "      <td>435.000000</td>\n",
       "      <td>435.000000</td>\n",
       "      <td>435.000000</td>\n",
       "      <td>435.000000</td>\n",
       "      <td>435.000000</td>\n",
       "      <td>435.000000</td>\n",
       "      <td>435.000000</td>\n",
       "      <td>435.000000</td>\n",
       "      <td>435.000000</td>\n",
       "      <td>435.000000</td>\n",
       "      <td>...</td>\n",
       "      <td>435.000000</td>\n",
       "      <td>435.000000</td>\n",
       "      <td>435.000000</td>\n",
       "      <td>435.000000</td>\n",
       "      <td>435.000000</td>\n",
       "      <td>435.000000</td>\n",
       "      <td>435.000000</td>\n",
       "      <td>435.000000</td>\n",
       "      <td>435.000000</td>\n",
       "      <td>435.00000</td>\n",
       "    </tr>\n",
       "    <tr>\n",
       "      <th>mean</th>\n",
       "      <td>68.011494</td>\n",
       "      <td>77.536782</td>\n",
       "      <td>2.030575</td>\n",
       "      <td>27.086400</td>\n",
       "      <td>0.062069</td>\n",
       "      <td>0.652874</td>\n",
       "      <td>0.213793</td>\n",
       "      <td>0.085057</td>\n",
       "      <td>0.103448</td>\n",
       "      <td>0.085057</td>\n",
       "      <td>...</td>\n",
       "      <td>0.013793</td>\n",
       "      <td>0.508046</td>\n",
       "      <td>0.344828</td>\n",
       "      <td>13.956322</td>\n",
       "      <td>189.662069</td>\n",
       "      <td>21.439080</td>\n",
       "      <td>3.328736</td>\n",
       "      <td>3.172828</td>\n",
       "      <td>2.133080</td>\n",
       "      <td>0.36092</td>\n",
       "    </tr>\n",
       "    <tr>\n",
       "      <th>std</th>\n",
       "      <td>10.250204</td>\n",
       "      <td>15.539967</td>\n",
       "      <td>7.111554</td>\n",
       "      <td>4.557788</td>\n",
       "      <td>0.241559</td>\n",
       "      <td>0.476605</td>\n",
       "      <td>0.410455</td>\n",
       "      <td>0.279288</td>\n",
       "      <td>0.304894</td>\n",
       "      <td>0.279288</td>\n",
       "      <td>...</td>\n",
       "      <td>0.116766</td>\n",
       "      <td>0.500511</td>\n",
       "      <td>0.475859</td>\n",
       "      <td>1.413016</td>\n",
       "      <td>163.805207</td>\n",
       "      <td>7.412646</td>\n",
       "      <td>2.883287</td>\n",
       "      <td>0.760864</td>\n",
       "      <td>0.614638</td>\n",
       "      <td>0.48082</td>\n",
       "    </tr>\n",
       "    <tr>\n",
       "      <th>min</th>\n",
       "      <td>22.000000</td>\n",
       "      <td>45.000000</td>\n",
       "      <td>1.470000</td>\n",
       "      <td>19.077000</td>\n",
       "      <td>0.000000</td>\n",
       "      <td>0.000000</td>\n",
       "      <td>0.000000</td>\n",
       "      <td>0.000000</td>\n",
       "      <td>0.000000</td>\n",
       "      <td>0.000000</td>\n",
       "      <td>...</td>\n",
       "      <td>0.000000</td>\n",
       "      <td>0.000000</td>\n",
       "      <td>0.000000</td>\n",
       "      <td>8.100000</td>\n",
       "      <td>7.000000</td>\n",
       "      <td>3.000000</td>\n",
       "      <td>1.000000</td>\n",
       "      <td>1.700000</td>\n",
       "      <td>0.850000</td>\n",
       "      <td>0.00000</td>\n",
       "    </tr>\n",
       "    <tr>\n",
       "      <th>25%</th>\n",
       "      <td>64.000000</td>\n",
       "      <td>67.000000</td>\n",
       "      <td>1.625000</td>\n",
       "      <td>23.735500</td>\n",
       "      <td>0.000000</td>\n",
       "      <td>0.000000</td>\n",
       "      <td>0.000000</td>\n",
       "      <td>0.000000</td>\n",
       "      <td>0.000000</td>\n",
       "      <td>0.000000</td>\n",
       "      <td>...</td>\n",
       "      <td>0.000000</td>\n",
       "      <td>0.000000</td>\n",
       "      <td>0.000000</td>\n",
       "      <td>13.000000</td>\n",
       "      <td>73.000000</td>\n",
       "      <td>16.000000</td>\n",
       "      <td>2.000000</td>\n",
       "      <td>2.655000</td>\n",
       "      <td>1.740000</td>\n",
       "      <td>0.00000</td>\n",
       "    </tr>\n",
       "    <tr>\n",
       "      <th>50%</th>\n",
       "      <td>70.000000</td>\n",
       "      <td>77.000000</td>\n",
       "      <td>1.700000</td>\n",
       "      <td>26.346000</td>\n",
       "      <td>0.000000</td>\n",
       "      <td>1.000000</td>\n",
       "      <td>0.000000</td>\n",
       "      <td>0.000000</td>\n",
       "      <td>0.000000</td>\n",
       "      <td>0.000000</td>\n",
       "      <td>...</td>\n",
       "      <td>0.000000</td>\n",
       "      <td>1.000000</td>\n",
       "      <td>0.000000</td>\n",
       "      <td>13.900000</td>\n",
       "      <td>140.000000</td>\n",
       "      <td>21.000000</td>\n",
       "      <td>2.000000</td>\n",
       "      <td>3.070000</td>\n",
       "      <td>2.030000</td>\n",
       "      <td>0.00000</td>\n",
       "    </tr>\n",
       "    <tr>\n",
       "      <th>75%</th>\n",
       "      <td>75.000000</td>\n",
       "      <td>86.000000</td>\n",
       "      <td>1.750000</td>\n",
       "      <td>29.408500</td>\n",
       "      <td>0.000000</td>\n",
       "      <td>1.000000</td>\n",
       "      <td>0.000000</td>\n",
       "      <td>0.000000</td>\n",
       "      <td>0.000000</td>\n",
       "      <td>0.000000</td>\n",
       "      <td>...</td>\n",
       "      <td>0.000000</td>\n",
       "      <td>1.000000</td>\n",
       "      <td>1.000000</td>\n",
       "      <td>14.900000</td>\n",
       "      <td>258.000000</td>\n",
       "      <td>26.000000</td>\n",
       "      <td>4.000000</td>\n",
       "      <td>3.620000</td>\n",
       "      <td>2.430000</td>\n",
       "      <td>1.00000</td>\n",
       "    </tr>\n",
       "    <tr>\n",
       "      <th>max</th>\n",
       "      <td>84.000000</td>\n",
       "      <td>153.000000</td>\n",
       "      <td>150.000000</td>\n",
       "      <td>49.950000</td>\n",
       "      <td>1.000000</td>\n",
       "      <td>1.000000</td>\n",
       "      <td>1.000000</td>\n",
       "      <td>1.000000</td>\n",
       "      <td>1.000000</td>\n",
       "      <td>1.000000</td>\n",
       "      <td>...</td>\n",
       "      <td>1.000000</td>\n",
       "      <td>1.000000</td>\n",
       "      <td>1.000000</td>\n",
       "      <td>18.700000</td>\n",
       "      <td>962.000000</td>\n",
       "      <td>48.000000</td>\n",
       "      <td>35.000000</td>\n",
       "      <td>7.080000</td>\n",
       "      <td>4.700000</td>\n",
       "      <td>1.00000</td>\n",
       "    </tr>\n",
       "  </tbody>\n",
       "</table>\n",
       "<p>8 rows × 21 columns</p>\n",
       "</div>"
      ],
      "text/plain": [
       "              age       poids      taille         imc       redux         hta  \\\n",
       "count  435.000000  435.000000  435.000000  435.000000  435.000000  435.000000   \n",
       "mean    68.011494   77.536782    2.030575   27.086400    0.062069    0.652874   \n",
       "std     10.250204   15.539967    7.111554    4.557788    0.241559    0.476605   \n",
       "min     22.000000   45.000000    1.470000   19.077000    0.000000    0.000000   \n",
       "25%     64.000000   67.000000    1.625000   23.735500    0.000000    0.000000   \n",
       "50%     70.000000   77.000000    1.700000   26.346000    0.000000    1.000000   \n",
       "75%     75.000000   86.000000    1.750000   29.408500    0.000000    1.000000   \n",
       "max     84.000000  153.000000  150.000000   49.950000    1.000000    1.000000   \n",
       "\n",
       "          diabete         avk         aod      plavix  ...  autres aap  \\\n",
       "count  435.000000  435.000000  435.000000  435.000000  ...  435.000000   \n",
       "mean     0.213793    0.085057    0.103448    0.085057  ...    0.013793   \n",
       "std      0.410455    0.279288    0.304894    0.279288  ...    0.116766   \n",
       "min      0.000000    0.000000    0.000000    0.000000  ...    0.000000   \n",
       "25%      0.000000    0.000000    0.000000    0.000000  ...    0.000000   \n",
       "50%      0.000000    0.000000    0.000000    0.000000  ...    0.000000   \n",
       "75%      0.000000    0.000000    0.000000    0.000000  ...    0.000000   \n",
       "max      1.000000    1.000000    1.000000    1.000000  ...    1.000000   \n",
       "\n",
       "       betabloquant  diuretiques          hb  ferritinemie  coeff de sat  \\\n",
       "count    435.000000   435.000000  435.000000    435.000000    435.000000   \n",
       "mean       0.508046     0.344828   13.956322    189.662069     21.439080   \n",
       "std        0.500511     0.475859    1.413016    163.805207      7.412646   \n",
       "min        0.000000     0.000000    8.100000      7.000000      3.000000   \n",
       "25%        0.000000     0.000000   13.000000     73.000000     16.000000   \n",
       "50%        1.000000     0.000000   13.900000    140.000000     21.000000   \n",
       "75%        1.000000     1.000000   14.900000    258.000000     26.000000   \n",
       "max        1.000000     1.000000   18.700000    962.000000     48.000000   \n",
       "\n",
       "        duree rea  fibrinogene  Fibrinogène rdb  transfusion CG  \n",
       "count  435.000000   435.000000       435.000000       435.00000  \n",
       "mean     3.328736     3.172828         2.133080         0.36092  \n",
       "std      2.883287     0.760864         0.614638         0.48082  \n",
       "min      1.000000     1.700000         0.850000         0.00000  \n",
       "25%      2.000000     2.655000         1.740000         0.00000  \n",
       "50%      2.000000     3.070000         2.030000         0.00000  \n",
       "75%      4.000000     3.620000         2.430000         1.00000  \n",
       "max     35.000000     7.080000         4.700000         1.00000  \n",
       "\n",
       "[8 rows x 21 columns]"
      ]
     },
     "execution_count": 5,
     "metadata": {},
     "output_type": "execute_result"
    }
   ],
   "source": [
    "data.describe()"
   ]
  },
  {
   "cell_type": "markdown",
   "metadata": {},
   "source": [
    "\n",
    "It will be noted that certain values could be badly noted in the database. For example the maximum size is 150,000 or it should have been 1.50."
   ]
  },
  {
   "cell_type": "markdown",
   "metadata": {},
   "source": [
    "### I.2 Quick study of our variable of interest \"Fibrinogène rdb\""
   ]
  },
  {
   "cell_type": "code",
   "execution_count": 6,
   "metadata": {},
   "outputs": [
    {
     "data": {
      "text/plain": [
       "[<matplotlib.lines.Line2D at 0x7fc777d96d90>]"
      ]
     },
     "execution_count": 6,
     "metadata": {},
     "output_type": "execute_result"
    },
    {
     "data": {
      "image/png": "[encoded data removed]",
      "text/plain": [
       "<Figure size 432x288 with 1 Axes>"
      ]
     },
     "metadata": {
      "needs_background": "light"
     },
     "output_type": "display_data"
    }
   ],
   "source": [
    "plt.plot(data[\"Fibrinogène rdb\"])"
   ]
  },
  {
   "cell_type": "code",
   "execution_count": 7,
   "metadata": {},
   "outputs": [
    {
     "data": {
      "text/plain": [
       "<matplotlib.collections.PathCollection at 0x7fc777c2d850>"
      ]
     },
     "execution_count": 7,
     "metadata": {},
     "output_type": "execute_result"
    },
    {
     "data": {
      "image/png": "[encoded data removed]",
      "text/plain": [
       "<Figure size 432x288 with 1 Axes>"
      ]
     },
     "metadata": {
      "needs_background": "light"
     },
     "output_type": "display_data"
    }
   ],
   "source": [
    "plt.scatter(data[\"fibrinogene\"], data[\"transfusion CG\"])"
   ]
  },
  {
   "cell_type": "markdown",
   "metadata": {},
   "source": [
    "## II. Spline pre processing on the fibirnogen level"
   ]
  },
  {
   "cell_type": "markdown",
   "metadata": {},
   "source": [
    "In this part, we are going to transform by interpolation splines the variable of interest \"Fibrinogen rdb\" in order to avoid a step by categorization and to obtain a more general model."
   ]
  },
  {
   "cell_type": "markdown",
   "metadata": {},
   "source": [
    "### II.1 Spline Type"
   ]
  },
  {
   "cell_type": "markdown",
   "metadata": {},
   "source": [
    "#### II.1.1  B-Splines "
   ]
  },
  {
   "cell_type": "code",
   "execution_count": 8,
   "metadata": {},
   "outputs": [
    {
     "data": {
      "image/png": "[encoded data removed]",
      "text/plain": [
       "<Figure size 1440x720 with 1 Axes>"
      ]
     },
     "metadata": {
      "needs_background": "light"
     },
     "output_type": "display_data"
    }
   ],
   "source": [
    "x = data[\"Fibrinogène rdb\"] \n",
    "y = data[\"transfusion CG\"]\n",
    "\n",
    "# Generating cubic spline with 3 knots\n",
    "transformed_x = dmatrix(\"bs(train, knots=(1.49, 1.67, 1.91, 2.18, 2.516), degree=3, include_intercept=False)\", {\"train\": x},return_type='dataframe')\n",
    "\n",
    "# Fitting Generalised linear model on transformed dataset\n",
    "fit1 = sm.Logit(y, transformed_x).fit(disp = False)\n",
    "\n",
    "# Predictions on both splines\n",
    "pred1 = fit1.predict(dmatrix(\"bs(valid, knots=(1.49, 1.67, 1.91, 2.18, 2.516), include_intercept=False)\", {\"valid\": x}, return_type='dataframe'))\n",
    "\n",
    "# Calculating RMSE values\n",
    "rms1 = sqrt(mean_squared_error(y, pred1))\n",
    "#print(rms1)\n",
    "\n",
    "# We will plot the graph \n",
    "xp = np.linspace(x.min(),x.max(),453)\n",
    "\n",
    "# Make some predictions\n",
    "pred1 = fit1.predict(dmatrix(\"bs(xp, knots=(1.49, 1.67, 1.91, 2.18, 2.516), include_intercept=False)\", {\"xp\": xp}, return_type='dataframe'))\n",
    "\n",
    "# Plot the splines and error bands\n",
    "plt.figure(figsize=(20,10))\n",
    "plt.scatter(x, y, facecolor='None', edgecolor='k', alpha=0.1)\n",
    "plt.plot(xp, pred1, label='Specifying degree =3 with 5 knots quantile division')\n",
    "#plt.plot(xp, pred2, color='r', label='Specifying degree =3 with 4 knots function division')\n",
    "plt.legend(prop={'size': 14})\n",
    "plt.xlabel('Fibrinogène rdb')\n",
    "plt.ylabel('transfusion CG')\n",
    "plt.show()"
   ]
  },
  {
   "cell_type": "markdown",
   "metadata": {},
   "source": [
    "#### II.1.2 Natural Cubic Splines "
   ]
  },
  {
   "cell_type": "code",
   "execution_count": 9,
   "metadata": {},
   "outputs": [
    {
     "data": {
      "image/png": "[encoded data removed]",
      "text/plain": [
       "<Figure size 1440x720 with 1 Axes>"
      ]
     },
     "metadata": {
      "needs_background": "light"
     },
     "output_type": "display_data"
    }
   ],
   "source": [
    "x = data[\"Fibrinogène rdb\"] \n",
    "y = data[\"transfusion CG\"]\n",
    "\n",
    "# Generating natural cubic spline\n",
    "transformed_x3 = dmatrix(\"cr(train, knots=(1.49, 1.67, 1.91, 2.18, 2.516))\", {\"train\": x}, return_type='dataframe')\n",
    "fit3 = sm.Logit(y, transformed_x3 ).fit(disp = False)\n",
    "\n",
    "# Prediction \n",
    "pred3 = fit3.predict(dmatrix(\"cr(train, knots=(1.49, 1.67, 1.91, 2.18, 2.516))\", {\"train\": x}, return_type='dataframe'))\n",
    "# Calculating RMSE value\n",
    "rms = sqrt(mean_squared_error(y, pred3))\n",
    "#print(rms)\n",
    "\n",
    "# We will plot the graph for 300 observations \n",
    "xp = np.linspace(x.min(),x.max(),453)\n",
    "pred3 = fit3.predict(dmatrix(\"cr(xp, knots=(1.49, 1.67, 1.91, 2.18, 2.516))\", {\"xp\": xp}, return_type='dataframe'))\n",
    "\n",
    "# Plot the spline\n",
    "plt.figure(figsize=(20,10))\n",
    "plt.scatter(x, y, facecolor='None', edgecolor='k', alpha=0.1)\n",
    "plt.plot(xp, pred3, color='g', label='Natural spline')\n",
    "plt.legend(prop={'size': 14})\n",
    "plt.xlabel('Fibrinogène rdb')\n",
    "plt.ylabel('transfusion CG')\n",
    "plt.show()"
   ]
  },
  {
   "cell_type": "markdown",
   "metadata": {},
   "source": [
    "### II.2 Number and positions of knots evaluated by accuracy "
   ]
  },
  {
   "cell_type": "code",
   "execution_count": 10,
   "metadata": {},
   "outputs": [],
   "source": [
    "### Creatoion of the results table\n",
    "Res_Acc = pd.DataFrame(0, index = ['3 knots','4 knots','5 knots', 'Quantile 1, 3 knots', 'Quantile 2, 3 knots', 'Quantile 5 knots', 'Cut 3 knots', 'Cut 4 knots', 'Cut 5 knots', 'Fractile 3 knots', 'Fractile 5 knots'], columns = ['Accuracy BSpline'])\n"
   ]
  },
  {
   "cell_type": "markdown",
   "metadata": {},
   "source": [
    "##### II.2.1. B Splines"
   ]
  },
  {
   "cell_type": "code",
   "execution_count": 11,
   "metadata": {},
   "outputs": [],
   "source": [
    "x = data[\"Fibrinogène rdb\"] \n",
    "y = data[\"transfusion CG\"]\n",
    "\n",
    "# Generating cubic spline \n",
    "transformed_x = dmatrix(\"bs(train, df = 3, degree=3, include_intercept=False)\", {\"train\": x},return_type='dataframe')\n",
    "# Fitting Generalised linear model on transformed dataset\n",
    "fit1 = sm.Logit(y, transformed_x).fit(disp = False)\n",
    "# Predictions\n",
    "pred1 = fit1.predict(dmatrix(\"bs(valid, df = 3, include_intercept=False)\", {\"valid\": x}, return_type='dataframe'))\n",
    "prediction = list(map(round, pred1)) \n",
    "Res_Acc.loc['3 knots'] = accuracy_score(y, prediction)\n",
    "\n",
    "\n",
    "# Generating cubic spline \n",
    "transformed_x = dmatrix(\"bs(train, df = 4, degree=3, include_intercept=False)\", {\"train\": x},return_type='dataframe')\n",
    "# Fitting Generalised linear model on transformed dataset\n",
    "fit1 = sm.Logit(y, transformed_x).fit(disp = False)\n",
    "# Predictions\n",
    "pred1 = fit1.predict(dmatrix(\"bs(valid, df = 4, include_intercept=False)\", {\"valid\": x}, return_type='dataframe'))\n",
    "prediction = list(map(round, pred1)) \n",
    "Res_Acc.loc['4 knots'] = accuracy_score(y, prediction)\n",
    "\n",
    "# Generating cubic spline \n",
    "transformed_x = dmatrix(\"bs(train, df = 5, degree=3, include_intercept=False)\", {\"train\": x},return_type='dataframe')\n",
    "# Fitting Generalised linear model on transformed dataset\n",
    "fit1 = sm.Logit(y, transformed_x).fit(disp = False)\n",
    "# Predictions\n",
    "pred1 = fit1.predict(dmatrix(\"bs(valid, df = 5, include_intercept=False)\", {\"valid\": x}, return_type='dataframe'))\n",
    "prediction = list(map(round, pred1)) \n",
    "Res_Acc.loc['5 knots'] = accuracy_score(y, prediction)"
   ]
  },
  {
   "cell_type": "code",
   "execution_count": 12,
   "metadata": {},
   "outputs": [],
   "source": [
    "x = data[\"Fibrinogène rdb\"] \n",
    "y = data[\"transfusion CG\"]\n",
    "\n",
    "####### Quantiles \n",
    "k2 = data.quantile(0.25)[\"Fibrinogène rdb\"] \n",
    "k3 = data.quantile(0.50)[\"Fibrinogène rdb\"] \n",
    "k4 = data.quantile(0.75)[\"Fibrinogène rdb\"] \n",
    "#print(\"knot 1 : \" +  str(k2))\n",
    "#print(\"knot 2 : \" +  str(k3))\n",
    "#print(\"knot 3 : \" +  str(k4))\n",
    "\n",
    "# Generating cubic spline \n",
    "transformed_x = dmatrix(\"bs(train, knots=(1.74, 2.03, 2.43), degree=3, include_intercept=False)\", {\"train\": x},return_type='dataframe')\n",
    "# Fitting Generalised linear model on transformed dataset\n",
    "fit1 = sm.Logit(y, transformed_x).fit(disp = False)\n",
    "# Predictions\n",
    "pred1 = fit1.predict(dmatrix(\"bs(valid, knots=(1.74, 2.03, 2.43), include_intercept=False)\", {\"valid\": x}, return_type='dataframe'))\n",
    "prediction = list(map(round, pred1)) \n",
    "Res_Acc.loc['Quantile 1, 3 knots'] = accuracy_score(y, prediction)\n",
    "\n",
    "x = data[\"Fibrinogène rdb\"] \n",
    "y = data[\"transfusion CG\"]\n",
    "\n",
    "####### Quantiles 2 \n",
    "\n",
    "# Divide by quantiles \n",
    "k2 = data.quantile(0.05)[\"Fibrinogène rdb\"] \n",
    "k3 = data.quantile(0.50)[\"Fibrinogène rdb\"] \n",
    "k4 = data.quantile(0.95)[\"Fibrinogène rdb\"] \n",
    "#print(\"knot 1 : \" +  str(k2))\n",
    "#print(\"knot 2 : \" +  str(k3))\n",
    "#print(\"knot 3 : \" +  str(k4))\n",
    "\n",
    "# Generating cubic spline \n",
    "transformed_x = dmatrix(\"bs(train, knots=(1.287, 2.03, 3.23), degree=3, include_intercept=False)\", {\"train\": x},return_type='dataframe')\n",
    "# Fitting Generalised linear model on transformed dataset\n",
    "fit1 = sm.Logit(y, transformed_x).fit(disp = False)\n",
    "# Predictions\n",
    "pred1 = fit1.predict(dmatrix(\"bs(valid, knots=(1.287, 2.03, 3.23), include_intercept=False)\", {\"valid\": x}, return_type='dataframe'))\n",
    "prediction = list(map(round, pred1)) \n",
    "Res_Acc.loc['Quantile 2, 3 knots'] = accuracy_score(y, prediction)\n",
    "\n",
    "x = data[\"Fibrinogène rdb\"] \n",
    "y = data[\"transfusion CG\"]\n",
    "\n",
    "####### Quantiles 3\n",
    "\n",
    "# Divide by quantiles \n",
    "k1 = data.quantile(0.05)[\"Fibrinogène rdb\"] \n",
    "k2 = data.quantile(0.25)[\"Fibrinogène rdb\"] \n",
    "k3 = data.quantile(0.50)[\"Fibrinogène rdb\"] \n",
    "k4 = data.quantile(0.75)[\"Fibrinogène rdb\"] \n",
    "k5 = data.quantile(0.95)[\"Fibrinogène rdb\"] \n",
    "#print(\"knot 1 : \" +  str(k1))\n",
    "#print(\"knot 2 : \" +  str(k2))\n",
    "#print(\"knot 3 : \" +  str(k3))\n",
    "#print(\"knot 4 : \" +  str(k4))\n",
    "#print(\"knot 3 : \" +  str(k5))\n",
    "\n",
    "# Generating cubic spline \n",
    "transformed_x = dmatrix(\"bs(train, knots=(1.287, 1.74, 2.03, 2.43, 3.23), degree=3, include_intercept=False)\", {\"train\": x},return_type='dataframe')\n",
    "# Fitting Generalised linear model on transformed dataset\n",
    "fit1 = sm.Logit(y, transformed_x).fit(disp = False)\n",
    "# Predictions\n",
    "pred1 = fit1.predict(dmatrix(\"bs(valid, knots=(1.287, 1.74, 2.03, 2.43, 3.23), include_intercept=False)\", {\"valid\": x}, return_type='dataframe'))\n",
    "prediction = list(map(round, pred1)) \n",
    "Res_Acc.loc['Quantile 5 knots'] = accuracy_score(y, prediction)\n"
   ]
  },
  {
   "cell_type": "code",
   "execution_count": 13,
   "metadata": {},
   "outputs": [],
   "source": [
    "x = data[\"Fibrinogène rdb\"] \n",
    "y = data[\"transfusion CG\"]\n",
    "\n",
    "####### Divide with pd.cut function\n",
    "\n",
    "\n",
    "# Divide by function\n",
    "# Dividing the data into 4 bins to have 3 knots\n",
    "df_cut, bins = pd.cut(x, 4, retbins=True, right=True)\n",
    "#print(df_cut.value_counts(sort=False))\n",
    "\n",
    "# Generating cubic spline \n",
    "transformed_x = dmatrix(\"bs(train, knots=(1.812, 2.775, 3.7385), degree=3, include_intercept=False)\", {\"train\": x},return_type='dataframe')\n",
    "# Fitting Generalised linear model on transformed dataset\n",
    "fit1 = sm.Logit(y, transformed_x).fit(disp = False)\n",
    "# Predictions\n",
    "pred1 = fit1.predict(dmatrix(\"bs(valid, knots=(1.812, 2.775, 3.7385), include_intercept=False)\", {\"valid\": x}, return_type='dataframe'))\n",
    "prediction = list(map(round, pred1)) \n",
    "Res_Acc.loc['Cut 3 knots'] = accuracy_score(y, prediction)\n",
    "\n",
    "# Divide by function\n",
    "# Dividing the data into 5 bins to have 4 knots\n",
    "df_cut, bins = pd.cut(x, 5, retbins=True, right=True)\n",
    "#print(df_cut.value_counts(sort=False))\n",
    "\n",
    "# Generating cubic spline \n",
    "transformed_x = dmatrix(\"bs(train, knots=(1.62, 2.39, 3.16, 3.93), degree=3, include_intercept=False)\", {\"train\": x},return_type='dataframe')\n",
    "# Fitting Generalised linear model on transformed dataset\n",
    "fit1 = sm.Logit(y, transformed_x).fit(disp = False)\n",
    "# Predictions\n",
    "pred1 = fit1.predict(dmatrix(\"bs(valid, knots=(1.62, 2.39, 3.16, 3.93), degree=3, include_intercept=False)\", {\"valid\": x}, return_type='dataframe'))\n",
    "prediction = list(map(round, pred1)) \n",
    "Res_Acc.loc['Cut 4 knots'] = accuracy_score(y, prediction)\n",
    "\n",
    "# Divide by function\n",
    "# Dividing the data into 6 bins to have 5 knots\n",
    "df_cut, bins = pd.cut(x, 6, retbins=True, right=True)\n",
    "#print(df_cut.value_counts(sort=False))\n",
    "\n",
    "# Generating cubic spline \n",
    "transformed_x = dmatrix(\"bs(train, knots=(1.492, 2.133, 2.775, 3.417, 4.058), degree=3, include_intercept=False)\", {\"train\": x},return_type='dataframe')\n",
    "# Fitting Generalised linear model on transformed dataset\n",
    "fit1 = sm.Logit(y, transformed_x).fit(disp = False)\n",
    "# Predictions\n",
    "pred1 = fit1.predict(dmatrix(\"bs(valid, knots=(1.492, 2.133, 2.775, 3.417, 4.058), include_intercept=False)\", {\"valid\": x}, return_type='dataframe'))\n",
    "prediction = list(map(round, pred1)) \n",
    "Res_Acc.loc['Cut 5 knots'] = accuracy_score(y, prediction)"
   ]
  },
  {
   "cell_type": "code",
   "execution_count": 14,
   "metadata": {},
   "outputs": [],
   "source": [
    "x = data[\"Fibrinogène rdb\"] \n",
    "y = data[\"transfusion CG\"]\n",
    "\n",
    "####### Percentil 3 knots\n",
    "k2 = np.percentile(data['Fibrinogène rdb'],20)\n",
    "k3 = np.percentile(data['Fibrinogène rdb'],40)\n",
    "k4 = np.percentile(data['Fibrinogène rdb'],60)\n",
    "#print(\"knot 1 : \" +  str(k2))\n",
    "#print(\"knot 2 : \" +  str(k3))\n",
    "#print(\"knot 3 : \" +  str(k4))\n",
    "\n",
    "# Generating cubic spline \n",
    "transformed_x = dmatrix(\"bs(train, knots=(1.67, 1.91, 2.18), degree=3, include_intercept=False)\", {\"train\": x},return_type='dataframe')\n",
    "# Fitting Generalised linear model on transformed dataset\n",
    "fit1 = sm.Logit(y, transformed_x).fit(disp = False)\n",
    "# Predictions\n",
    "pred1 = fit1.predict(dmatrix(\"bs(valid, knots=(1.67, 1.91, 2.183), include_intercept=False)\", {\"valid\": x}, return_type='dataframe'))\n",
    "prediction = list(map(round, pred1)) \n",
    "Res_Acc.loc['Fractile 3 knots'] = accuracy_score(y, prediction)\n",
    "\n",
    "\n",
    "####### Percentil 5 knots\n",
    "\n",
    "k1 = np.percentile(data['Fibrinogène rdb'],10)\n",
    "k2 = np.percentile(data['Fibrinogène rdb'],20)\n",
    "k3 = np.percentile(data['Fibrinogène rdb'],40)\n",
    "k4 = np.percentile(data['Fibrinogène rdb'],60)\n",
    "k5 = np.percentile(data['Fibrinogène rdb'],80)\n",
    "#print(\"knot 1 : \" +  str(k1))\n",
    "#print(\"knot 2 : \" +  str(k2))\n",
    "#print(\"knot 3 : \" +  str(k3))\n",
    "#print(\"knot 4 : \" +  str(k4))\n",
    "#print(\"knot 3 : \" +  str(k5))\n",
    "\n",
    "# Generating cubic spline \n",
    "transformed_x = dmatrix(\"bs(train, knots=(1.49, 1.67, 1.91, 2.18, 2.516), degree=3, include_intercept=False)\", {\"train\": x},return_type='dataframe')\n",
    "# Fitting Generalised linear model on transformed dataset\n",
    "fit1 = sm.Logit(y, transformed_x).fit(disp = False)\n",
    "# Predictions\n",
    "pred1 = fit1.predict(dmatrix(\"bs(valid, knots=(1.49, 1.67, 1.91, 2.18, 2.516), include_intercept=False)\", {\"valid\": x}, return_type='dataframe'))\n",
    "prediction = list(map(round, pred1)) \n",
    "Res_Acc.loc['Fractile 5 knots'] = accuracy_score(y, prediction)"
   ]
  },
  {
   "cell_type": "code",
   "execution_count": 15,
   "metadata": {},
   "outputs": [
    {
     "data": {
      "text/html": [
       "<div>\n",
       "<style scoped>\n",
       "    .dataframe tbody tr th:only-of-type {\n",
       "        vertical-align: middle;\n",
       "    }\n",
       "\n",
       "    .dataframe tbody tr th {\n",
       "        vertical-align: top;\n",
       "    }\n",
       "\n",
       "    .dataframe thead th {\n",
       "        text-align: right;\n",
       "    }\n",
       "</style>\n",
       "<table border=\"1\" class=\"dataframe\">\n",
       "  <thead>\n",
       "    <tr style=\"text-align: right;\">\n",
       "      <th></th>\n",
       "      <th>Accuracy BSpline</th>\n",
       "    </tr>\n",
       "  </thead>\n",
       "  <tbody>\n",
       "    <tr>\n",
       "      <th>3 knots</th>\n",
       "      <td>0.657471</td>\n",
       "    </tr>\n",
       "    <tr>\n",
       "      <th>4 knots</th>\n",
       "      <td>0.659770</td>\n",
       "    </tr>\n",
       "    <tr>\n",
       "      <th>5 knots</th>\n",
       "      <td>0.659770</td>\n",
       "    </tr>\n",
       "    <tr>\n",
       "      <th>Quantile 1, 3 knots</th>\n",
       "      <td>0.657471</td>\n",
       "    </tr>\n",
       "    <tr>\n",
       "      <th>Quantile 2, 3 knots</th>\n",
       "      <td>0.666667</td>\n",
       "    </tr>\n",
       "    <tr>\n",
       "      <th>Quantile 5 knots</th>\n",
       "      <td>0.671264</td>\n",
       "    </tr>\n",
       "    <tr>\n",
       "      <th>Cut 3 knots</th>\n",
       "      <td>0.659770</td>\n",
       "    </tr>\n",
       "    <tr>\n",
       "      <th>Cut 4 knots</th>\n",
       "      <td>0.657471</td>\n",
       "    </tr>\n",
       "    <tr>\n",
       "      <th>Cut 5 knots</th>\n",
       "      <td>0.671264</td>\n",
       "    </tr>\n",
       "    <tr>\n",
       "      <th>Fractile 3 knots</th>\n",
       "      <td>0.659770</td>\n",
       "    </tr>\n",
       "    <tr>\n",
       "      <th>Fractile 5 knots</th>\n",
       "      <td>0.673563</td>\n",
       "    </tr>\n",
       "  </tbody>\n",
       "</table>\n",
       "</div>"
      ],
      "text/plain": [
       "                     Accuracy BSpline\n",
       "3 knots                      0.657471\n",
       "4 knots                      0.659770\n",
       "5 knots                      0.659770\n",
       "Quantile 1, 3 knots          0.657471\n",
       "Quantile 2, 3 knots          0.666667\n",
       "Quantile 5 knots             0.671264\n",
       "Cut 3 knots                  0.659770\n",
       "Cut 4 knots                  0.657471\n",
       "Cut 5 knots                  0.671264\n",
       "Fractile 3 knots             0.659770\n",
       "Fractile 5 knots             0.673563"
      ]
     },
     "execution_count": 15,
     "metadata": {},
     "output_type": "execute_result"
    }
   ],
   "source": [
    "Res_Acc"
   ]
  },
  {
   "cell_type": "markdown",
   "metadata": {},
   "source": [
    "##### II.2.1. Natural Cubic Splines"
   ]
  },
  {
   "cell_type": "code",
   "execution_count": 16,
   "metadata": {},
   "outputs": [
    {
     "name": "stdout",
     "output_type": "stream",
     "text": [
      "Accuracy 3 knots : 0.6597701149425287\n",
      "Accuracy 4 knots : 0.6597701149425287\n",
      "Accuracy 5 knots : 0.6574712643678161\n",
      "Accuracy fractile 3 knots : 0.6597701149425287\n",
      "Accuracy fractile 5 knots : 0.6620689655172414\n"
     ]
    }
   ],
   "source": [
    "x = data[\"Fibrinogène rdb\"] \n",
    "y = data[\"transfusion CG\"]\n",
    "\n",
    "# Generating cubic spline \n",
    "transformed_x = dmatrix(\"cr(train, knots=(1.287, 1.74, 2.03, 2.43, 3.23))\", {\"train\": x},return_type='dataframe')\n",
    "# Fitting Generalised linear model on transformed dataset\n",
    "fit1 = sm.Logit(y, transformed_x).fit(disp = False)\n",
    "# Predictions\n",
    "pred1 = fit1.predict(dmatrix(\"cr(valid, knots=(1.287, 1.74, 2.03, 2.43, 3.23))\", {\"valid\": x}, return_type='dataframe'))\n",
    "prediction = list(map(round, pred1)) \n",
    "print(\"Accuracy 3 knots : \" + str(accuracy_score(y, prediction)))\n",
    "\n",
    "# Generating cubic spline \n",
    "transformed_x = dmatrix(\"cr(train, df = 4)\", {\"train\": x},return_type='dataframe')\n",
    "# Fitting Generalised linear model on transformed dataset\n",
    "fit1 = sm.Logit(y, transformed_x).fit(disp = False)\n",
    "# Predictions\n",
    "pred1 = fit1.predict(dmatrix(\"cr(valid, df = 4)\", {\"valid\": x}, return_type='dataframe'))\n",
    "prediction = list(map(round, pred1)) \n",
    "print(\"Accuracy 4 knots : \" + str(accuracy_score(y, prediction)))\n",
    "\n",
    "# Generating cubic spline \n",
    "transformed_x = dmatrix(\"cr(train, df = 5)\", {\"train\": x},return_type='dataframe')\n",
    "# Fitting Generalised linear model on transformed dataset\n",
    "fit1 = sm.Logit(y, transformed_x).fit(disp = False)\n",
    "# Predictions\n",
    "pred1 = fit1.predict(dmatrix(\"cr(valid, df = 5)\", {\"valid\": x}, return_type='dataframe'))\n",
    "prediction = list(map(round, pred1)) \n",
    "print(\"Accuracy 5 knots : \" + str(accuracy_score(y, prediction)))\n",
    "####### Percentil 3 knots\n",
    "k2 = np.percentile(data['Fibrinogène rdb'],20)\n",
    "k3 = np.percentile(data['Fibrinogène rdb'],40)\n",
    "k4 = np.percentile(data['Fibrinogène rdb'],60)\n",
    "#print(\"Noeud 1 : \" +  str(k2))\n",
    "#print(\"Noeud 2 : \" +  str(k3))\n",
    "#print(\"Noeud 3 : \" +  str(k4))\n",
    "\n",
    "# Generating cubic spline \n",
    "transformed_x = dmatrix(\"cr(train, knots=(1.67, 1.91, 2.18))\", {\"train\": x},return_type='dataframe')\n",
    "# Fitting Generalised linear model on transformed dataset\n",
    "fit1 = sm.Logit(y, transformed_x).fit(disp = False)\n",
    "# Predictions\n",
    "pred1 = fit1.predict(dmatrix(\"cr(valid, knots=(1.67, 1.91, 2.183))\", {\"valid\": x}, return_type='dataframe'))\n",
    "prediction = list(map(round, pred1)) \n",
    "print(\"Accuracy fractile 3 knots : \" + str(accuracy_score(y, prediction)))\n",
    "\n",
    "\n",
    "####### Percentil 5 knots\n",
    "\n",
    "# Divide by quantiles \n",
    "k1 = np.percentile(data['Fibrinogène rdb'],10)\n",
    "k2 = np.percentile(data['Fibrinogène rdb'],20)\n",
    "k3 = np.percentile(data['Fibrinogène rdb'],40)\n",
    "k4 = np.percentile(data['Fibrinogène rdb'],60)\n",
    "k5 = np.percentile(data['Fibrinogène rdb'],80)\n",
    "#print(\"Noeud 1 : \" +  str(k1))\n",
    "#print(\"Noeud 2 : \" +  str(k2))\n",
    "#print(\"Noeud 3 : \" +  str(k3))\n",
    "#print(\"Noeud 4 : \" +  str(k4))\n",
    "#print(\"Noeud 3 : \" +  str(k5))\n",
    "\n",
    "# Generating cubic spline \n",
    "transformed_x = dmatrix(\"cr(train, knots=(1.49, 1.67, 1.91, 2.18, 2.516))\", {\"train\": x},return_type='dataframe')\n",
    "# Fitting Generalised linear model on transformed dataset\n",
    "fit1 = sm.Logit(y, transformed_x).fit(disp = False)\n",
    "# Predictions\n",
    "pred1 = fit1.predict(dmatrix(\"cr(valid, knots=(1.49, 1.67, 1.91, 2.18, 2.516))\", {\"valid\": x}, return_type='dataframe'))\n",
    "prediction = list(map(round, pred1)) \n",
    "print(\"Accuracy fractile 5 knots : \" + str(accuracy_score(y, prediction)))"
   ]
  },
  {
   "cell_type": "markdown",
   "metadata": {},
   "source": [
    "## III. Regression Logistic models before variable slection"
   ]
  },
  {
   "cell_type": "markdown",
   "metadata": {},
   "source": [
    "### III.1. Regression Logistic with Categorization preprocessing "
   ]
  },
  {
   "cell_type": "markdown",
   "metadata": {},
   "source": [
    "Here, we will categorize our X variable \"Fibrinogène rdb\" with the same classes as the article \"Preoperative plasma fibrinogen level and transfusion in cardiac surgery: a biphasic correlation\" from Hélène Charbonneaua, Marie Pasquieb and Nicolas Mayeur. "
   ]
  },
  {
   "cell_type": "code",
   "execution_count": 17,
   "metadata": {},
   "outputs": [],
   "source": [
    "Facteurs_Confusion = data.copy()\n",
    "# Categorization\n",
    "Facteurs_Confusion['Fibri Cat 1'] = (data[\"Fibrinogène rdb\"] < 1.5)*1\n",
    "Facteurs_Confusion['Fibri Cat 2'] = (data[\"Fibrinogène rdb\"] >= 1.5)*(data[\"Fibrinogène rdb\"] < 2)*1\n",
    "Facteurs_Confusion['Fibri Cat 3'] = (data[\"Fibrinogène rdb\"] >= 2)*(data[\"Fibrinogène rdb\"] < 2.5)*1\n",
    "Facteurs_Confusion['Fibri Cat 4'] = (data[\"Fibrinogène rdb\"] >= 2.5)*(data[\"Fibrinogène rdb\"] < 3)*1\n",
    "Facteurs_Confusion['Fibri Cat 5'] = (data[\"Fibrinogène rdb\"] > 3)*1\n",
    "# Confounding Factors cleaning\n",
    "del Facteurs_Confusion['fibrinogene']\n",
    "del Facteurs_Confusion['transfusion CG']\n",
    "del Facteurs_Confusion['Fibrinogène rdb']\n",
    "X_C = Facteurs_Confusion\n",
    "y = data[\"transfusion CG\"]\n",
    "## Model \n",
    "from sklearn.linear_model import LogisticRegression\n",
    "logitC = LogisticRegression().fit(X_C,y)"
   ]
  },
  {
   "cell_type": "code",
   "execution_count": 18,
   "metadata": {},
   "outputs": [],
   "source": [
    "#X_C.to_csv(\"Facteurs_Confusion_Categorization.csv\")"
   ]
  },
  {
   "cell_type": "markdown",
   "metadata": {},
   "source": [
    "### III.2  Regression Logistic with B Splines preprocessing "
   ]
  },
  {
   "cell_type": "code",
   "execution_count": 19,
   "metadata": {},
   "outputs": [],
   "source": [
    "## Spline\n",
    "## Cubic spline (B_Spline) process on fibrinogene rdb\n",
    "transformed_fibriB = dmatrix(\"bs(train, knots=(1.49, 1.67, 1.91, 2.18, 2.516), degree=3, include_intercept=False)\", {\"train\": data['Fibrinogène rdb']},return_type='dataframe')\n",
    "Facteurs_Confusion_Spline = pd.concat([data.copy(),transformed_fibriB], axis = 1)\n",
    "\n",
    "## Supp no-needed columns\n",
    "del Facteurs_Confusion_Spline['fibrinogene']\n",
    "del Facteurs_Confusion_Spline['transfusion CG']\n",
    "del Facteurs_Confusion_Spline['Fibrinogène rdb']\n",
    "del Facteurs_Confusion_Spline['Intercept']\n",
    "X = Facteurs_Confusion_Spline\n",
    "y = data[\"transfusion CG\"]\n",
    "## Model \n",
    "from sklearn.linear_model import LogisticRegression\n",
    "logitS = LogisticRegression().fit(X,y)"
   ]
  },
  {
   "cell_type": "code",
   "execution_count": 20,
   "metadata": {},
   "outputs": [],
   "source": [
    "#X.to_csv(\"Facteurs_Confusion_BSpline.csv\")"
   ]
  },
  {
   "cell_type": "markdown",
   "metadata": {},
   "source": [
    "### III.3  Regression Logistic with Natural Cubic Splines preprocessing "
   ]
  },
  {
   "cell_type": "code",
   "execution_count": 21,
   "metadata": {},
   "outputs": [],
   "source": [
    "## Spline\n",
    "## Natural Cubic spline process on fibrinogene rdb\n",
    "transformed_fibriN = dmatrix(\"cr(train,  knots=(1.49, 1.67, 1.91, 2.18, 2.516))\", {\"train\": x}, return_type='dataframe')\n",
    "Facteurs_Confusion_SplineN = pd.concat([data.copy(),transformed_fibriN], axis = 1)\n",
    "\n",
    "## Supp no-needed columns\n",
    "del Facteurs_Confusion_SplineN['fibrinogene']\n",
    "del Facteurs_Confusion_SplineN['transfusion CG']\n",
    "del Facteurs_Confusion_SplineN['Fibrinogène rdb']\n",
    "del Facteurs_Confusion_SplineN['Intercept']\n",
    "X_N = Facteurs_Confusion_SplineN\n",
    "y = data[\"transfusion CG\"]\n",
    "## Model \n",
    "from sklearn.linear_model import LogisticRegression\n",
    "logitN = LogisticRegression().fit(X_N,y)"
   ]
  },
  {
   "cell_type": "code",
   "execution_count": 22,
   "metadata": {},
   "outputs": [],
   "source": [
    "#X_N.to_csv(\"Facteurs_Confusion_Natural.csv\")"
   ]
  },
  {
   "cell_type": "code",
   "execution_count": 23,
   "metadata": {},
   "outputs": [],
   "source": [
    "#y.to_csv(\"Variable_Reponse.csv\")"
   ]
  },
  {
   "cell_type": "markdown",
   "metadata": {},
   "source": [
    "## IV. Variables Selection"
   ]
  },
  {
   "cell_type": "markdown",
   "metadata": {},
   "source": [
    "### IV.1 AIC & BIC on R"
   ]
  },
  {
   "cell_type": "markdown",
   "metadata": {},
   "source": [
    "Rajouter texte sur les résultats obtenus sur R "
   ]
  },
  {
   "cell_type": "markdown",
   "metadata": {},
   "source": [
    "### IV.2. Variables selection by LASSO criterion"
   ]
  },
  {
   "cell_type": "markdown",
   "metadata": {},
   "source": [
    "\"L1-based feature selection Linear models penalized with the L1 norm have sparse solutions: many of their estimated coefficients are zero. When the goal is to reduce the dimensionality of the data to use with another classifier, they can be used along with feature_selection.SelectFromModel to select the non-zero coefficients. In particular, sparse estimators useful for this purpose are the linear_model.Lasso for regression, and of linear_model.LogisticRegression and svm.LinearSVC for classification.\"\n",
    "\n",
    "source : \"https://scikit-learn.org/stable/modules/feature_selection.html\""
   ]
  },
  {
   "cell_type": "markdown",
   "metadata": {},
   "source": [
    "#### IV.2.1 B Splines "
   ]
  },
  {
   "cell_type": "code",
   "execution_count": 24,
   "metadata": {},
   "outputs": [
    {
     "name": "stdout",
     "output_type": "stream",
     "text": [
      "Variables selected by LASSO criterion: ['taille' 'redux' 'hta' 'diabete' 'aod' 'kardegic' 'betabloquant' 'hb'\n",
      " 'type intervention' 'duree rea'\n",
      " 'bs(train, knots=(1.49, 1.67, 1.91, 2.18, 2.516), degree=3, include_intercept=False)[0]'\n",
      " 'bs(train, knots=(1.49, 1.67, 1.91, 2.18, 2.516), degree=3, include_intercept=False)[1]'\n",
      " 'bs(train, knots=(1.49, 1.67, 1.91, 2.18, 2.516), degree=3, include_intercept=False)[3]'\n",
      " 'bs(train, knots=(1.49, 1.67, 1.91, 2.18, 2.516), degree=3, include_intercept=False)[4]']\n"
     ]
    }
   ],
   "source": [
    "model = SelectFromModel(logitS, prefit=True)\n",
    "X_new = model.transform(X)\n",
    "feature_names = np.array(X.columns)\n",
    "print(\"Variables selected by LASSO criterion: \"\n",
    "      f\"{feature_names[model.get_support()]}\")"
   ]
  },
  {
   "cell_type": "markdown",
   "metadata": {},
   "source": [
    "#### IV.2.2 Natural Cubic Splines "
   ]
  },
  {
   "cell_type": "code",
   "execution_count": 25,
   "metadata": {},
   "outputs": [
    {
     "name": "stdout",
     "output_type": "stream",
     "text": [
      "Variables selected by LASSO criterion: ['taille' 'redux' 'diabete' 'aod' 'kardegic' 'betabloquant' 'hb'\n",
      " 'type intervention' 'duree rea'\n",
      " 'cr(train, knots=(1.49, 1.67, 1.91, 2.18, 2.516))[1]'\n",
      " 'cr(train, knots=(1.49, 1.67, 1.91, 2.18, 2.516))[2]'\n",
      " 'cr(train, knots=(1.49, 1.67, 1.91, 2.18, 2.516))[3]']\n"
     ]
    }
   ],
   "source": [
    "model = SelectFromModel(logitN, prefit=True)\n",
    "X_new = model.transform(X_N)\n",
    "feature_names = np.array(X_N.columns)\n",
    "print(\"Variables selected by LASSO criterion: \"\n",
    "      f\"{feature_names[model.get_support()]}\")"
   ]
  },
  {
   "cell_type": "markdown",
   "metadata": {},
   "source": [
    "#### IV.2.3 Categorization "
   ]
  },
  {
   "cell_type": "code",
   "execution_count": 26,
   "metadata": {},
   "outputs": [
    {
     "name": "stdout",
     "output_type": "stream",
     "text": [
      "Variables selected by LASSO criterion: ['taille' 'redux' 'diabete' 'aod' 'kardegic' 'betabloquant' 'hb'\n",
      " 'type intervention' 'duree rea' 'Fibri Cat 1' 'Fibri Cat 3' 'Fibri Cat 4'\n",
      " 'Fibri Cat 5']\n"
     ]
    }
   ],
   "source": [
    "model = SelectFromModel(logitC, prefit=True)\n",
    "X_new = model.transform(X_C)\n",
    "feature_names = np.array(X_C.columns)\n",
    "print(\"Variables selected by LASSO criterion: \"\n",
    "      f\"{feature_names[model.get_support()]}\")"
   ]
  },
  {
   "cell_type": "markdown",
   "metadata": {},
   "source": [
    "### IV.3. Backward selection based on p_valeur"
   ]
  },
  {
   "cell_type": "markdown",
   "metadata": {},
   "source": [
    "#### IV.3.1 B Splines "
   ]
  },
  {
   "cell_type": "code",
   "execution_count": 27,
   "metadata": {},
   "outputs": [
    {
     "name": "stdout",
     "output_type": "stream",
     "text": [
      "const                                                                                     3.540328e-06\n",
      "age                                                                                       8.112835e-02\n",
      "poids                                                                                     4.950679e-04\n",
      "taille                                                                                    2.284538e-01\n",
      "imc                                                                                       4.548729e-02\n",
      "redux                                                                                     2.185229e-02\n",
      "hta                                                                                       6.482508e-01\n",
      "diabete                                                                                   2.103254e-01\n",
      "avk                                                                                       4.191220e-01\n",
      "aod                                                                                       7.588022e-02\n",
      "plavix                                                                                    7.710134e-01\n",
      "kardegic                                                                                  1.378622e-01\n",
      "autres aap                                                                                2.314364e-01\n",
      "betabloquant                                                                              9.798668e-01\n",
      "diuretiques                                                                               5.458272e-01\n",
      "hb                                                                                        1.807519e-07\n",
      "ferritinemie                                                                              8.706100e-01\n",
      "coeff de sat                                                                              6.205615e-01\n",
      "type intervention                                                                         3.219517e-05\n",
      "duree rea                                                                                 1.584030e-06\n",
      "bs(train, knots=(1.49, 1.67, 1.91, 2.18, 2.516), degree=3, include_intercept=False)[0]    3.256088e-01\n",
      "bs(train, knots=(1.49, 1.67, 1.91, 2.18, 2.516), degree=3, include_intercept=False)[1]    4.456785e-01\n",
      "bs(train, knots=(1.49, 1.67, 1.91, 2.18, 2.516), degree=3, include_intercept=False)[2]    3.609835e-02\n",
      "bs(train, knots=(1.49, 1.67, 1.91, 2.18, 2.516), degree=3, include_intercept=False)[3]    1.256645e-02\n",
      "bs(train, knots=(1.49, 1.67, 1.91, 2.18, 2.516), degree=3, include_intercept=False)[4]    8.105772e-02\n",
      "bs(train, knots=(1.49, 1.67, 1.91, 2.18, 2.516), degree=3, include_intercept=False)[5]    2.052149e-02\n",
      "bs(train, knots=(1.49, 1.67, 1.91, 2.18, 2.516), degree=3, include_intercept=False)[6]    4.103006e-01\n",
      "bs(train, knots=(1.49, 1.67, 1.91, 2.18, 2.516), degree=3, include_intercept=False)[7]    8.178813e-01\n",
      "dtype: float64\n",
      "Backward selection based on p_valeur : \n",
      "['poids', 'imc', 'kardegic', 'hb', 'type intervention', 'duree rea', 'bs(train, knots=(1.49, 1.67, 1.91, 2.18, 2.516), degree=3, include_intercept=False)[2]', 'bs(train, knots=(1.49, 1.67, 1.91, 2.18, 2.516), degree=3, include_intercept=False)[3]', 'bs(train, knots=(1.49, 1.67, 1.91, 2.18, 2.516), degree=3, include_intercept=False)[4]', 'bs(train, knots=(1.49, 1.67, 1.91, 2.18, 2.516), degree=3, include_intercept=False)[5]']\n"
     ]
    }
   ],
   "source": [
    "#Adding constant column of ones, mandatory for sm.OLS model\n",
    "X_1 = sm.add_constant(X)\n",
    "#Fitting sm.OLS model\n",
    "model = sm.OLS(y.astype(float),X_1.astype(float)).fit()\n",
    "print(model.pvalues)\n",
    "#Backward Elimination\n",
    "cols = list(X.columns)\n",
    "pmax = 1\n",
    "while (len(cols)>0):\n",
    "    p=[]\n",
    "    X_1 = X[cols]\n",
    "    X_1 = sm.add_constant(X_1)\n",
    "    model = sm.OLS(y.astype(float),X_1.astype(float)).fit()\n",
    "    p = pd.Series(model.pvalues.values[1:],index = cols)      \n",
    "    pmax = max(p)\n",
    "    feature_with_p_max = p.idxmax()\n",
    "    if(pmax>0.05):\n",
    "        cols.remove(feature_with_p_max)\n",
    "    else:\n",
    "        break\n",
    "selected_features_BE = cols\n",
    "print(\"Backward selection based on p_valeur : \")\n",
    "print(str(selected_features_BE))"
   ]
  },
  {
   "cell_type": "markdown",
   "metadata": {},
   "source": [
    "#### IV.3.2 Natural Cubic Splines "
   ]
  },
  {
   "cell_type": "code",
   "execution_count": 28,
   "metadata": {},
   "outputs": [
    {
     "name": "stdout",
     "output_type": "stream",
     "text": [
      "const                                                  5.262881e-06\n",
      "age                                                    8.231470e-02\n",
      "poids                                                  4.072358e-04\n",
      "taille                                                 2.255491e-01\n",
      "imc                                                    4.154015e-02\n",
      "redux                                                  2.164677e-02\n",
      "hta                                                    7.004626e-01\n",
      "diabete                                                2.056568e-01\n",
      "avk                                                    4.083749e-01\n",
      "aod                                                    6.551835e-02\n",
      "plavix                                                 7.583964e-01\n",
      "kardegic                                               1.431012e-01\n",
      "autres aap                                             2.186325e-01\n",
      "betabloquant                                           9.719973e-01\n",
      "diuretiques                                            5.388676e-01\n",
      "hb                                                     1.551357e-07\n",
      "ferritinemie                                           8.692356e-01\n",
      "coeff de sat                                           6.297094e-01\n",
      "type intervention                                      2.384003e-05\n",
      "duree rea                                              1.104483e-06\n",
      "cr(train, knots=(1.49, 1.67, 1.91, 2.18, 2.516))[0]    1.042169e-02\n",
      "cr(train, knots=(1.49, 1.67, 1.91, 2.18, 2.516))[1]    6.363267e-02\n",
      "cr(train, knots=(1.49, 1.67, 1.91, 2.18, 2.516))[2]    5.651107e-01\n",
      "cr(train, knots=(1.49, 1.67, 1.91, 2.18, 2.516))[3]    5.134425e-01\n",
      "cr(train, knots=(1.49, 1.67, 1.91, 2.18, 2.516))[4]    3.593673e-01\n",
      "cr(train, knots=(1.49, 1.67, 1.91, 2.18, 2.516))[5]    6.566319e-01\n",
      "cr(train, knots=(1.49, 1.67, 1.91, 2.18, 2.516))[6]    4.571338e-03\n",
      "dtype: float64\n",
      "Backward selection based on p_valeur : \n",
      "['poids', 'imc', 'kardegic', 'hb', 'type intervention', 'duree rea', 'bs(train, knots=(1.49, 1.67, 1.91, 2.18, 2.516), degree=3, include_intercept=False)[2]', 'bs(train, knots=(1.49, 1.67, 1.91, 2.18, 2.516), degree=3, include_intercept=False)[3]', 'bs(train, knots=(1.49, 1.67, 1.91, 2.18, 2.516), degree=3, include_intercept=False)[4]', 'bs(train, knots=(1.49, 1.67, 1.91, 2.18, 2.516), degree=3, include_intercept=False)[5]']\n"
     ]
    }
   ],
   "source": [
    "#Adding constant column of ones, mandatory for sm.OLS model\n",
    "X_1 = sm.add_constant(X_N)\n",
    "#Fitting sm.OLS model\n",
    "model = sm.OLS(y.astype(float),X_1.astype(float)).fit()\n",
    "print(model.pvalues)\n",
    "#Backward Elimination\n",
    "cols = list(X.columns)\n",
    "pmax = 1\n",
    "while (len(cols)>0):\n",
    "    p=[]\n",
    "    X_1 = X[cols]\n",
    "    X_1 = sm.add_constant(X_1)\n",
    "    model = sm.OLS(y.astype(float),X_1.astype(float)).fit()\n",
    "    p = pd.Series(model.pvalues.values[1:],index = cols)      \n",
    "    pmax = max(p)\n",
    "    feature_with_p_max = p.idxmax()\n",
    "    if(pmax>0.05):\n",
    "        cols.remove(feature_with_p_max)\n",
    "    else:\n",
    "        break\n",
    "selected_features_BE = cols\n",
    "print(\"Backward selection based on p_valeur : \")\n",
    "print(str(selected_features_BE))"
   ]
  },
  {
   "cell_type": "markdown",
   "metadata": {},
   "source": [
    "#### IV.3.3 Categorization "
   ]
  },
  {
   "cell_type": "code",
   "execution_count": 29,
   "metadata": {},
   "outputs": [
    {
     "name": "stdout",
     "output_type": "stream",
     "text": [
      "const                1.979986e-05\n",
      "age                  8.600487e-02\n",
      "poids                1.253994e-04\n",
      "taille               2.728369e-01\n",
      "imc                  2.031490e-02\n",
      "redux                1.402947e-02\n",
      "hta                  6.772523e-01\n",
      "diabete              3.135669e-01\n",
      "avk                  4.152660e-01\n",
      "aod                  8.916630e-02\n",
      "plavix               8.468300e-01\n",
      "kardegic             1.063571e-01\n",
      "autres aap           2.007101e-01\n",
      "betabloquant         8.793017e-01\n",
      "diuretiques          6.863897e-01\n",
      "hb                   5.453895e-08\n",
      "ferritinemie         7.288974e-01\n",
      "coeff de sat         5.850491e-01\n",
      "type intervention    7.787645e-05\n",
      "duree rea            2.634649e-06\n",
      "Fibri Cat 1          3.332621e-01\n",
      "Fibri Cat 2          8.715537e-02\n",
      "Fibri Cat 3          9.851931e-02\n",
      "Fibri Cat 4          5.639749e-02\n",
      "Fibri Cat 5          2.003073e-01\n",
      "dtype: float64\n",
      "Backward selection based on p_valeur : \n",
      "['poids', 'imc', 'kardegic', 'hb', 'type intervention', 'duree rea', 'bs(train, knots=(1.49, 1.67, 1.91, 2.18, 2.516), degree=3, include_intercept=False)[2]', 'bs(train, knots=(1.49, 1.67, 1.91, 2.18, 2.516), degree=3, include_intercept=False)[3]', 'bs(train, knots=(1.49, 1.67, 1.91, 2.18, 2.516), degree=3, include_intercept=False)[4]', 'bs(train, knots=(1.49, 1.67, 1.91, 2.18, 2.516), degree=3, include_intercept=False)[5]']\n"
     ]
    }
   ],
   "source": [
    "#Adding constant column of ones, mandatory for sm.OLS model\n",
    "X_1 = sm.add_constant(X_C)\n",
    "#Fitting sm.OLS model\n",
    "model = sm.OLS(y.astype(float),X_1.astype(float)).fit()\n",
    "print(model.pvalues)\n",
    "#Backward Elimination\n",
    "cols = list(X.columns)\n",
    "pmax = 1\n",
    "while (len(cols)>0):\n",
    "    p=[]\n",
    "    X_1 = X[cols]\n",
    "    X_1 = sm.add_constant(X_1)\n",
    "    model = sm.OLS(y.astype(float),X_1.astype(float)).fit()\n",
    "    p = pd.Series(model.pvalues.values[1:],index = cols)      \n",
    "    pmax = max(p)\n",
    "    feature_with_p_max = p.idxmax()\n",
    "    if(pmax>0.05):\n",
    "        cols.remove(feature_with_p_max)\n",
    "    else:\n",
    "        break\n",
    "selected_features_BE = cols\n",
    "print(\"Backward selection based on p_valeur : \")\n",
    "print(str(selected_features_BE))"
   ]
  },
  {
   "cell_type": "markdown",
   "metadata": {},
   "source": [
    "### IV.4. The final model\n",
    "\n",
    "#### IV.4.1 B Splines\n",
    "In order to select the variables of the model, we use a concatenation of the results of the 4 methods. \n",
    "\n",
    "Finally, we keep : \n",
    "\n",
    "- all coefficients of spline transformation \n",
    "- hb\n",
    "- aod\n",
    "- kardegic\n",
    "- poids\n",
    "- type intervention \n",
    "- duree rea "
   ]
  },
  {
   "cell_type": "code",
   "execution_count": 30,
   "metadata": {},
   "outputs": [
    {
     "data": {
      "text/html": [
       "<div>\n",
       "<style scoped>\n",
       "    .dataframe tbody tr th:only-of-type {\n",
       "        vertical-align: middle;\n",
       "    }\n",
       "\n",
       "    .dataframe tbody tr th {\n",
       "        vertical-align: top;\n",
       "    }\n",
       "\n",
       "    .dataframe thead th {\n",
       "        text-align: right;\n",
       "    }\n",
       "</style>\n",
       "<table border=\"1\" class=\"dataframe\">\n",
       "  <thead>\n",
       "    <tr style=\"text-align: right;\">\n",
       "      <th></th>\n",
       "      <th>hb</th>\n",
       "      <th>aod</th>\n",
       "      <th>kardegic</th>\n",
       "      <th>poids</th>\n",
       "      <th>type intervention</th>\n",
       "      <th>duree rea</th>\n",
       "      <th>bs(train, knots=(1.49, 1.67, 1.91, 2.18, 2.516), degree=3, include_intercept=False)[0]</th>\n",
       "      <th>bs(train, knots=(1.49, 1.67, 1.91, 2.18, 2.516), degree=3, include_intercept=False)[1]</th>\n",
       "      <th>bs(train, knots=(1.49, 1.67, 1.91, 2.18, 2.516), degree=3, include_intercept=False)[2]</th>\n",
       "      <th>bs(train, knots=(1.49, 1.67, 1.91, 2.18, 2.516), degree=3, include_intercept=False)[3]</th>\n",
       "      <th>bs(train, knots=(1.49, 1.67, 1.91, 2.18, 2.516), degree=3, include_intercept=False)[4]</th>\n",
       "      <th>bs(train, knots=(1.49, 1.67, 1.91, 2.18, 2.516), degree=3, include_intercept=False)[5]</th>\n",
       "      <th>bs(train, knots=(1.49, 1.67, 1.91, 2.18, 2.516), degree=3, include_intercept=False)[6]</th>\n",
       "      <th>bs(train, knots=(1.49, 1.67, 1.91, 2.18, 2.516), degree=3, include_intercept=False)[7]</th>\n",
       "    </tr>\n",
       "  </thead>\n",
       "  <tbody>\n",
       "    <tr>\n",
       "      <th>0</th>\n",
       "      <td>14.6</td>\n",
       "      <td>0.0</td>\n",
       "      <td>1.0</td>\n",
       "      <td>68.0</td>\n",
       "      <td>1</td>\n",
       "      <td>1.0</td>\n",
       "      <td>0.000000</td>\n",
       "      <td>0.000000</td>\n",
       "      <td>0.000000</td>\n",
       "      <td>0.086422</td>\n",
       "      <td>0.814563</td>\n",
       "      <td>0.098673</td>\n",
       "      <td>0.000342</td>\n",
       "      <td>0.000000</td>\n",
       "    </tr>\n",
       "    <tr>\n",
       "      <th>1</th>\n",
       "      <td>14.0</td>\n",
       "      <td>0.0</td>\n",
       "      <td>1.0</td>\n",
       "      <td>71.0</td>\n",
       "      <td>2</td>\n",
       "      <td>2.0</td>\n",
       "      <td>0.299313</td>\n",
       "      <td>0.510713</td>\n",
       "      <td>0.163809</td>\n",
       "      <td>0.000000</td>\n",
       "      <td>0.000000</td>\n",
       "      <td>0.000000</td>\n",
       "      <td>0.000000</td>\n",
       "      <td>0.000000</td>\n",
       "    </tr>\n",
       "    <tr>\n",
       "      <th>2</th>\n",
       "      <td>12.9</td>\n",
       "      <td>0.0</td>\n",
       "      <td>1.0</td>\n",
       "      <td>79.0</td>\n",
       "      <td>5</td>\n",
       "      <td>2.0</td>\n",
       "      <td>0.000000</td>\n",
       "      <td>0.000000</td>\n",
       "      <td>0.000000</td>\n",
       "      <td>0.003692</td>\n",
       "      <td>0.756641</td>\n",
       "      <td>0.232344</td>\n",
       "      <td>0.007323</td>\n",
       "      <td>0.000000</td>\n",
       "    </tr>\n",
       "    <tr>\n",
       "      <th>3</th>\n",
       "      <td>14.6</td>\n",
       "      <td>0.0</td>\n",
       "      <td>1.0</td>\n",
       "      <td>69.0</td>\n",
       "      <td>1</td>\n",
       "      <td>1.0</td>\n",
       "      <td>0.000000</td>\n",
       "      <td>0.020562</td>\n",
       "      <td>0.572306</td>\n",
       "      <td>0.394279</td>\n",
       "      <td>0.012854</td>\n",
       "      <td>0.000000</td>\n",
       "      <td>0.000000</td>\n",
       "      <td>0.000000</td>\n",
       "    </tr>\n",
       "    <tr>\n",
       "      <th>4</th>\n",
       "      <td>11.6</td>\n",
       "      <td>0.0</td>\n",
       "      <td>0.0</td>\n",
       "      <td>80.0</td>\n",
       "      <td>5</td>\n",
       "      <td>2.0</td>\n",
       "      <td>0.000000</td>\n",
       "      <td>0.000000</td>\n",
       "      <td>0.000000</td>\n",
       "      <td>0.000000</td>\n",
       "      <td>0.206869</td>\n",
       "      <td>0.477714</td>\n",
       "      <td>0.280476</td>\n",
       "      <td>0.034941</td>\n",
       "    </tr>\n",
       "  </tbody>\n",
       "</table>\n",
       "</div>"
      ],
      "text/plain": [
       "     hb  aod  kardegic  poids type intervention  duree rea  \\\n",
       "0  14.6  0.0       1.0   68.0                 1        1.0   \n",
       "1  14.0  0.0       1.0   71.0                 2        2.0   \n",
       "2  12.9  0.0       1.0   79.0                 5        2.0   \n",
       "3  14.6  0.0       1.0   69.0                 1        1.0   \n",
       "4  11.6  0.0       0.0   80.0                 5        2.0   \n",
       "\n",
       "   bs(train, knots=(1.49, 1.67, 1.91, 2.18, 2.516), degree=3, include_intercept=False)[0]  \\\n",
       "0                                           0.000000                                        \n",
       "1                                           0.299313                                        \n",
       "2                                           0.000000                                        \n",
       "3                                           0.000000                                        \n",
       "4                                           0.000000                                        \n",
       "\n",
       "   bs(train, knots=(1.49, 1.67, 1.91, 2.18, 2.516), degree=3, include_intercept=False)[1]  \\\n",
       "0                                           0.000000                                        \n",
       "1                                           0.510713                                        \n",
       "2                                           0.000000                                        \n",
       "3                                           0.020562                                        \n",
       "4                                           0.000000                                        \n",
       "\n",
       "   bs(train, knots=(1.49, 1.67, 1.91, 2.18, 2.516), degree=3, include_intercept=False)[2]  \\\n",
       "0                                           0.000000                                        \n",
       "1                                           0.163809                                        \n",
       "2                                           0.000000                                        \n",
       "3                                           0.572306                                        \n",
       "4                                           0.000000                                        \n",
       "\n",
       "   bs(train, knots=(1.49, 1.67, 1.91, 2.18, 2.516), degree=3, include_intercept=False)[3]  \\\n",
       "0                                           0.086422                                        \n",
       "1                                           0.000000                                        \n",
       "2                                           0.003692                                        \n",
       "3                                           0.394279                                        \n",
       "4                                           0.000000                                        \n",
       "\n",
       "   bs(train, knots=(1.49, 1.67, 1.91, 2.18, 2.516), degree=3, include_intercept=False)[4]  \\\n",
       "0                                           0.814563                                        \n",
       "1                                           0.000000                                        \n",
       "2                                           0.756641                                        \n",
       "3                                           0.012854                                        \n",
       "4                                           0.206869                                        \n",
       "\n",
       "   bs(train, knots=(1.49, 1.67, 1.91, 2.18, 2.516), degree=3, include_intercept=False)[5]  \\\n",
       "0                                           0.098673                                        \n",
       "1                                           0.000000                                        \n",
       "2                                           0.232344                                        \n",
       "3                                           0.000000                                        \n",
       "4                                           0.477714                                        \n",
       "\n",
       "   bs(train, knots=(1.49, 1.67, 1.91, 2.18, 2.516), degree=3, include_intercept=False)[6]  \\\n",
       "0                                           0.000342                                        \n",
       "1                                           0.000000                                        \n",
       "2                                           0.007323                                        \n",
       "3                                           0.000000                                        \n",
       "4                                           0.280476                                        \n",
       "\n",
       "   bs(train, knots=(1.49, 1.67, 1.91, 2.18, 2.516), degree=3, include_intercept=False)[7]  \n",
       "0                                           0.000000                                       \n",
       "1                                           0.000000                                       \n",
       "2                                           0.000000                                       \n",
       "3                                           0.000000                                       \n",
       "4                                           0.034941                                       "
      ]
     },
     "execution_count": 30,
     "metadata": {},
     "output_type": "execute_result"
    }
   ],
   "source": [
    "X_Select = X[['hb','aod','kardegic','poids','type intervention', 'duree rea']]\n",
    "X_Select = pd.concat([X_Select, X[[X.columns[19:][i] for i in range(transformed_fibriB.shape[1]-1)]]], axis = 1)\n",
    "X_Select.head()"
   ]
  },
  {
   "cell_type": "markdown",
   "metadata": {},
   "source": [
    "#### IV.4.2 Natural Cubic Splines\n",
    "In order to select the variables of the model, we use a concatenation of the results of the 4 methods. \n",
    "\n",
    "Finally, we keep : \n",
    "\n",
    "- all coefficients of spline transformation \n",
    "- \n",
    "- \n",
    "- \n",
    "- \n",
    "- \n",
    "- "
   ]
  },
  {
   "cell_type": "code",
   "execution_count": 31,
   "metadata": {},
   "outputs": [
    {
     "data": {
      "text/html": [
       "<div>\n",
       "<style scoped>\n",
       "    .dataframe tbody tr th:only-of-type {\n",
       "        vertical-align: middle;\n",
       "    }\n",
       "\n",
       "    .dataframe tbody tr th {\n",
       "        vertical-align: top;\n",
       "    }\n",
       "\n",
       "    .dataframe thead th {\n",
       "        text-align: right;\n",
       "    }\n",
       "</style>\n",
       "<table border=\"1\" class=\"dataframe\">\n",
       "  <thead>\n",
       "    <tr style=\"text-align: right;\">\n",
       "      <th></th>\n",
       "      <th>hb</th>\n",
       "      <th>aod</th>\n",
       "      <th>kardegic</th>\n",
       "      <th>poids</th>\n",
       "      <th>type intervention</th>\n",
       "      <th>duree rea</th>\n",
       "      <th>cr(train, knots=(1.49, 1.67, 1.91, 2.18, 2.516))[0]</th>\n",
       "      <th>cr(train, knots=(1.49, 1.67, 1.91, 2.18, 2.516))[1]</th>\n",
       "      <th>cr(train, knots=(1.49, 1.67, 1.91, 2.18, 2.516))[2]</th>\n",
       "      <th>cr(train, knots=(1.49, 1.67, 1.91, 2.18, 2.516))[3]</th>\n",
       "      <th>cr(train, knots=(1.49, 1.67, 1.91, 2.18, 2.516))[4]</th>\n",
       "      <th>cr(train, knots=(1.49, 1.67, 1.91, 2.18, 2.516))[5]</th>\n",
       "      <th>cr(train, knots=(1.49, 1.67, 1.91, 2.18, 2.516))[6]</th>\n",
       "    </tr>\n",
       "  </thead>\n",
       "  <tbody>\n",
       "    <tr>\n",
       "      <th>0</th>\n",
       "      <td>14.6</td>\n",
       "      <td>0.0</td>\n",
       "      <td>1.0</td>\n",
       "      <td>68.0</td>\n",
       "      <td>1</td>\n",
       "      <td>1.0</td>\n",
       "      <td>0.000468</td>\n",
       "      <td>-0.017277</td>\n",
       "      <td>0.066997</td>\n",
       "      <td>-0.206105</td>\n",
       "      <td>0.975546</td>\n",
       "      <td>0.181921</td>\n",
       "      <td>-0.001550</td>\n",
       "    </tr>\n",
       "    <tr>\n",
       "      <th>1</th>\n",
       "      <td>14.0</td>\n",
       "      <td>0.0</td>\n",
       "      <td>1.0</td>\n",
       "      <td>71.0</td>\n",
       "      <td>2</td>\n",
       "      <td>2.0</td>\n",
       "      <td>0.154533</td>\n",
       "      <td>1.468375</td>\n",
       "      <td>-0.732442</td>\n",
       "      <td>0.133452</td>\n",
       "      <td>-0.027710</td>\n",
       "      <td>0.003829</td>\n",
       "      <td>-0.000036</td>\n",
       "    </tr>\n",
       "    <tr>\n",
       "      <th>2</th>\n",
       "      <td>12.9</td>\n",
       "      <td>0.0</td>\n",
       "      <td>1.0</td>\n",
       "      <td>79.0</td>\n",
       "      <td>5</td>\n",
       "      <td>2.0</td>\n",
       "      <td>0.000314</td>\n",
       "      <td>-0.011606</td>\n",
       "      <td>0.045003</td>\n",
       "      <td>-0.138445</td>\n",
       "      <td>0.408443</td>\n",
       "      <td>0.699025</td>\n",
       "      <td>-0.002734</td>\n",
       "    </tr>\n",
       "    <tr>\n",
       "      <th>3</th>\n",
       "      <td>14.6</td>\n",
       "      <td>0.0</td>\n",
       "      <td>1.0</td>\n",
       "      <td>69.0</td>\n",
       "      <td>1</td>\n",
       "      <td>1.0</td>\n",
       "      <td>0.003796</td>\n",
       "      <td>-0.140258</td>\n",
       "      <td>0.702806</td>\n",
       "      <td>0.507325</td>\n",
       "      <td>-0.085350</td>\n",
       "      <td>0.011793</td>\n",
       "      <td>-0.000112</td>\n",
       "    </tr>\n",
       "    <tr>\n",
       "      <th>4</th>\n",
       "      <td>11.6</td>\n",
       "      <td>0.0</td>\n",
       "      <td>0.0</td>\n",
       "      <td>80.0</td>\n",
       "      <td>5</td>\n",
       "      <td>2.0</td>\n",
       "      <td>-0.001501</td>\n",
       "      <td>0.055448</td>\n",
       "      <td>-0.215012</td>\n",
       "      <td>0.661445</td>\n",
       "      <td>-1.871300</td>\n",
       "      <td>2.206740</td>\n",
       "      <td>0.164180</td>\n",
       "    </tr>\n",
       "  </tbody>\n",
       "</table>\n",
       "</div>"
      ],
      "text/plain": [
       "     hb  aod  kardegic  poids type intervention  duree rea  \\\n",
       "0  14.6  0.0       1.0   68.0                 1        1.0   \n",
       "1  14.0  0.0       1.0   71.0                 2        2.0   \n",
       "2  12.9  0.0       1.0   79.0                 5        2.0   \n",
       "3  14.6  0.0       1.0   69.0                 1        1.0   \n",
       "4  11.6  0.0       0.0   80.0                 5        2.0   \n",
       "\n",
       "   cr(train, knots=(1.49, 1.67, 1.91, 2.18, 2.516))[0]  \\\n",
       "0                                           0.000468     \n",
       "1                                           0.154533     \n",
       "2                                           0.000314     \n",
       "3                                           0.003796     \n",
       "4                                          -0.001501     \n",
       "\n",
       "   cr(train, knots=(1.49, 1.67, 1.91, 2.18, 2.516))[1]  \\\n",
       "0                                          -0.017277     \n",
       "1                                           1.468375     \n",
       "2                                          -0.011606     \n",
       "3                                          -0.140258     \n",
       "4                                           0.055448     \n",
       "\n",
       "   cr(train, knots=(1.49, 1.67, 1.91, 2.18, 2.516))[2]  \\\n",
       "0                                           0.066997     \n",
       "1                                          -0.732442     \n",
       "2                                           0.045003     \n",
       "3                                           0.702806     \n",
       "4                                          -0.215012     \n",
       "\n",
       "   cr(train, knots=(1.49, 1.67, 1.91, 2.18, 2.516))[3]  \\\n",
       "0                                          -0.206105     \n",
       "1                                           0.133452     \n",
       "2                                          -0.138445     \n",
       "3                                           0.507325     \n",
       "4                                           0.661445     \n",
       "\n",
       "   cr(train, knots=(1.49, 1.67, 1.91, 2.18, 2.516))[4]  \\\n",
       "0                                           0.975546     \n",
       "1                                          -0.027710     \n",
       "2                                           0.408443     \n",
       "3                                          -0.085350     \n",
       "4                                          -1.871300     \n",
       "\n",
       "   cr(train, knots=(1.49, 1.67, 1.91, 2.18, 2.516))[5]  \\\n",
       "0                                           0.181921     \n",
       "1                                           0.003829     \n",
       "2                                           0.699025     \n",
       "3                                           0.011793     \n",
       "4                                           2.206740     \n",
       "\n",
       "   cr(train, knots=(1.49, 1.67, 1.91, 2.18, 2.516))[6]  \n",
       "0                                          -0.001550    \n",
       "1                                          -0.000036    \n",
       "2                                          -0.002734    \n",
       "3                                          -0.000112    \n",
       "4                                           0.164180    "
      ]
     },
     "execution_count": 31,
     "metadata": {},
     "output_type": "execute_result"
    }
   ],
   "source": [
    "X_SelectN = X_N[['hb','aod','kardegic','poids','type intervention', 'duree rea']]\n",
    "X_SelectN = pd.concat([X_SelectN, X_N[[X_N.columns[19:][i] for i in range(transformed_fibriN.shape[1]-1)]]], axis = 1)\n",
    "X_SelectN.head()"
   ]
  },
  {
   "cell_type": "markdown",
   "metadata": {},
   "source": [
    "#### IV.4.3 Categorization\n",
    "In order to select the variables of the model, we use a concatenation of the results of the 4 methods. \n",
    "\n",
    "Finally, we keep : \n",
    "\n",
    "-  all fibronogen categories\n",
    "- \n",
    "- \n",
    "- \n",
    "- \n",
    "- \n",
    "- "
   ]
  },
  {
   "cell_type": "code",
   "execution_count": null,
   "metadata": {},
   "outputs": [],
   "source": []
  },
  {
   "cell_type": "code",
   "execution_count": 32,
   "metadata": {},
   "outputs": [
    {
     "data": {
      "text/html": [
       "<div>\n",
       "<style scoped>\n",
       "    .dataframe tbody tr th:only-of-type {\n",
       "        vertical-align: middle;\n",
       "    }\n",
       "\n",
       "    .dataframe tbody tr th {\n",
       "        vertical-align: top;\n",
       "    }\n",
       "\n",
       "    .dataframe thead th {\n",
       "        text-align: right;\n",
       "    }\n",
       "</style>\n",
       "<table border=\"1\" class=\"dataframe\">\n",
       "  <thead>\n",
       "    <tr style=\"text-align: right;\">\n",
       "      <th></th>\n",
       "      <th>Fibri Cat 1</th>\n",
       "      <th>Fibri Cat 2</th>\n",
       "      <th>Fibri Cat 3</th>\n",
       "      <th>Fibri Cat 4</th>\n",
       "      <th>Fibri Cat 5</th>\n",
       "      <th>hb</th>\n",
       "      <th>aod</th>\n",
       "      <th>kardegic</th>\n",
       "      <th>poids</th>\n",
       "      <th>type intervention</th>\n",
       "      <th>duree rea</th>\n",
       "    </tr>\n",
       "  </thead>\n",
       "  <tbody>\n",
       "    <tr>\n",
       "      <th>0</th>\n",
       "      <td>0</td>\n",
       "      <td>0</td>\n",
       "      <td>1</td>\n",
       "      <td>0</td>\n",
       "      <td>0</td>\n",
       "      <td>14.6</td>\n",
       "      <td>0.0</td>\n",
       "      <td>1.0</td>\n",
       "      <td>68.0</td>\n",
       "      <td>1</td>\n",
       "      <td>1.0</td>\n",
       "    </tr>\n",
       "    <tr>\n",
       "      <th>1</th>\n",
       "      <td>1</td>\n",
       "      <td>0</td>\n",
       "      <td>0</td>\n",
       "      <td>0</td>\n",
       "      <td>0</td>\n",
       "      <td>14.0</td>\n",
       "      <td>0.0</td>\n",
       "      <td>1.0</td>\n",
       "      <td>71.0</td>\n",
       "      <td>2</td>\n",
       "      <td>2.0</td>\n",
       "    </tr>\n",
       "    <tr>\n",
       "      <th>2</th>\n",
       "      <td>0</td>\n",
       "      <td>0</td>\n",
       "      <td>1</td>\n",
       "      <td>0</td>\n",
       "      <td>0</td>\n",
       "      <td>12.9</td>\n",
       "      <td>0.0</td>\n",
       "      <td>1.0</td>\n",
       "      <td>79.0</td>\n",
       "      <td>5</td>\n",
       "      <td>2.0</td>\n",
       "    </tr>\n",
       "    <tr>\n",
       "      <th>3</th>\n",
       "      <td>0</td>\n",
       "      <td>1</td>\n",
       "      <td>0</td>\n",
       "      <td>0</td>\n",
       "      <td>0</td>\n",
       "      <td>14.6</td>\n",
       "      <td>0.0</td>\n",
       "      <td>1.0</td>\n",
       "      <td>69.0</td>\n",
       "      <td>1</td>\n",
       "      <td>1.0</td>\n",
       "    </tr>\n",
       "    <tr>\n",
       "      <th>4</th>\n",
       "      <td>0</td>\n",
       "      <td>0</td>\n",
       "      <td>0</td>\n",
       "      <td>0</td>\n",
       "      <td>1</td>\n",
       "      <td>11.6</td>\n",
       "      <td>0.0</td>\n",
       "      <td>0.0</td>\n",
       "      <td>80.0</td>\n",
       "      <td>5</td>\n",
       "      <td>2.0</td>\n",
       "    </tr>\n",
       "  </tbody>\n",
       "</table>\n",
       "</div>"
      ],
      "text/plain": [
       "   Fibri Cat 1  Fibri Cat 2  Fibri Cat 3  Fibri Cat 4  Fibri Cat 5    hb  aod  \\\n",
       "0            0            0            1            0            0  14.6  0.0   \n",
       "1            1            0            0            0            0  14.0  0.0   \n",
       "2            0            0            1            0            0  12.9  0.0   \n",
       "3            0            1            0            0            0  14.6  0.0   \n",
       "4            0            0            0            0            1  11.6  0.0   \n",
       "\n",
       "   kardegic  poids type intervention  duree rea  \n",
       "0       1.0   68.0                 1        1.0  \n",
       "1       1.0   71.0                 2        2.0  \n",
       "2       1.0   79.0                 5        2.0  \n",
       "3       1.0   69.0                 1        1.0  \n",
       "4       0.0   80.0                 5        2.0  "
      ]
     },
     "execution_count": 32,
     "metadata": {},
     "output_type": "execute_result"
    }
   ],
   "source": [
    "X_SelectC = X_C[['Fibri Cat 1', 'Fibri Cat 2', 'Fibri Cat 3', 'Fibri Cat 4', 'Fibri Cat 5','hb','aod','kardegic','poids','type intervention', 'duree rea']]\n",
    "X_SelectC.head()"
   ]
  },
  {
   "cell_type": "markdown",
   "metadata": {},
   "source": [
    "## V. Interpretation of results"
   ]
  },
  {
   "cell_type": "markdown",
   "metadata": {},
   "source": [
    "### V.1 Test d'association entre la variable d'intérêt \"Fibrinogène rdb\" et la variable réponse \"transfusion CG\""
   ]
  },
  {
   "cell_type": "markdown",
   "metadata": {},
   "source": [
    "Rajouter text à partir des résultats obtenus sur R. "
   ]
  },
  {
   "cell_type": "markdown",
   "metadata": {},
   "source": [
    "### V.2 Choices of classes for odd ratio. \n",
    "\n",
    "Here, once again, we will choose the same classes as the article \"Preoperative plasma fibrinogen level and transfusion in cardiac surgery: a biphasic correlation\" from Hélène Charbonneaua, Marie Pasquieb and Nicolas Mayeur. \n",
    "The classes are :\n",
    "- \"< 1.5\"\n",
    "- \"between 1.5 and 2\" \n",
    "- \"between 2 and 2.5\"\n",
    "- \"between 2.5 and 3\"\n",
    "- \"> 3\" \n",
    "\n",
    "The middle of each classe are : \n",
    "- 1.18 ( (min + 1.5)/2 ) \n",
    "- 1.75\n",
    "- 2.25\n",
    "- 2.75\n",
    "- 3.85 ( (max + 3)/2 )\n",
    "\n",
    "And we will compute our odd at this points.\n",
    "\n",
    "We need to predict for each point the spline decompostion, as following : \n",
    "\n"
   ]
  },
  {
   "cell_type": "code",
   "execution_count": 33,
   "metadata": {},
   "outputs": [],
   "source": [
    "middle_classes = pd.DataFrame([1.18 , 1.75 , 2.25, 2.75, 3.85], columns = ['mid'])\n",
    "new_data = {\"train\": middle_classes['mid'] }\n",
    "### Bspline processing for middle classes \n",
    "build = build_design_matrices([transformed_fibriB.design_info], new_data)[0]\n",
    "bspline_val = np.asarray(build)"
   ]
  },
  {
   "cell_type": "code",
   "execution_count": 34,
   "metadata": {},
   "outputs": [],
   "source": [
    "### Natural Cubic Spline processing for middle classes \n",
    "build = build_design_matrices([transformed_fibriN.design_info], new_data)[0]\n",
    "Nspline_val = np.asarray(build)"
   ]
  },
  {
   "cell_type": "markdown",
   "metadata": {},
   "source": [
    "### V.3 Odd Ratios"
   ]
  },
  {
   "cell_type": "code",
   "execution_count": 35,
   "metadata": {},
   "outputs": [],
   "source": [
    "nb_classes = 5\n",
    "### Creation of results table \n",
    "Res = pd.DataFrame(index = range(nb_classes), columns = ['Categorization Adjusted', 'Categorization Non_Adjusted','BSpline Ajusted','Bspline Non_Adjusted', 'Natural Cubic Adjusted', 'Natural Cubic Non_Adjusted' ])"
   ]
  },
  {
   "cell_type": "markdown",
   "metadata": {},
   "source": [
    "###### V3.1. B Spline Pre processing & Adjusted Model "
   ]
  },
  {
   "cell_type": "code",
   "execution_count": 36,
   "metadata": {},
   "outputs": [
    {
     "name": "stdout",
     "output_type": "stream",
     "text": [
      "Coeffients : [-0.56177687 -0.48516908  0.50688286 -0.02693498  0.19918585  0.33917934\n",
      "  1.02450294  1.03837145 -0.11057612 -0.50757469  0.07468924 -1.13950862\n",
      "  0.85098202  1.69101711]\n",
      "Intercept  : 7.372786414925851\n",
      "Importance of coefficients : ['bs(train, knots=(1.49, 1.67, 1.91, 2.18, 2.516), degree=3, include_intercept=False)[5]', 'hb', 'bs(train, knots=(1.49, 1.67, 1.91, 2.18, 2.516), degree=3, include_intercept=False)[3]', 'aod', 'bs(train, knots=(1.49, 1.67, 1.91, 2.18, 2.516), degree=3, include_intercept=False)[2]', 'poids', 'bs(train, knots=(1.49, 1.67, 1.91, 2.18, 2.516), degree=3, include_intercept=False)[4]', 'type intervention', 'duree rea', 'kardegic', 'bs(train, knots=(1.49, 1.67, 1.91, 2.18, 2.516), degree=3, include_intercept=False)[6]', 'bs(train, knots=(1.49, 1.67, 1.91, 2.18, 2.516), degree=3, include_intercept=False)[0]', 'bs(train, knots=(1.49, 1.67, 1.91, 2.18, 2.516), degree=3, include_intercept=False)[1]', 'bs(train, knots=(1.49, 1.67, 1.91, 2.18, 2.516), degree=3, include_intercept=False)[7]']\n"
     ]
    }
   ],
   "source": [
    "#### Adjusted Model \n",
    "n_var = 6\n",
    "MBSA = LogisticRegression().fit(X_Select,y)\n",
    "liste_coef = np.concatenate([MBSA.intercept_,MBSA.coef_[0][n_var:]])\n",
    "\n",
    "### Coeff\n",
    "print(\"Coeffients : \" + str(MBSA.coef_[0]))\n",
    "print(\"Intercept  : \" + str(MBSA.intercept_[0]))\n",
    "print(\"Importance of coefficients : \" + str([X_Select.columns[np.argsort(MBSA.coef_[0])][i] for i in range(len(MBSA.coef_[0]))]))"
   ]
  },
  {
   "cell_type": "code",
   "execution_count": 37,
   "metadata": {
    "scrolled": true
   },
   "outputs": [
    {
     "name": "stdout",
     "output_type": "stream",
     "text": [
      "3687.223046300108\n",
      "1318.9564789713866\n",
      "1453.1054314384785\n",
      "1072.2126506010816\n",
      "2616.7390818674385\n"
     ]
    }
   ],
   "source": [
    "# Probability of each classes\n",
    "odd_class1 = np.exp(np.sum(liste_coef*bspline_val[0]))\n",
    "print(odd_class1)\n",
    "odd_class2 = np.exp(np.sum(liste_coef*bspline_val[1]))\n",
    "print(odd_class2)\n",
    "odd_class3 = np.exp(np.sum(liste_coef*bspline_val[2]))\n",
    "print(odd_class3)\n",
    "odd_class4 = np.exp(np.sum(liste_coef*bspline_val[3]))\n",
    "print(odd_class4)\n",
    "odd_class5 = np.exp(np.sum(liste_coef*bspline_val[4]))\n",
    "print(odd_class5)"
   ]
  },
  {
   "cell_type": "markdown",
   "metadata": {},
   "source": [
    "The class with the lowest probability of success is class 3, so it will be our reference class. "
   ]
  },
  {
   "cell_type": "code",
   "execution_count": 38,
   "metadata": {},
   "outputs": [],
   "source": [
    "column = 'BSpline Ajusted'\n",
    "Res[column][0] = odd_class1/odd_class3\n",
    "Res[column][1] = odd_class2/odd_class3\n",
    "Res[column][2] = odd_class3/odd_class3\n",
    "Res[column][3] = odd_class4/odd_class3\n",
    "Res[column][4] = odd_class5/odd_class3"
   ]
  },
  {
   "cell_type": "markdown",
   "metadata": {},
   "source": [
    "###### V3.2. B Spline Pre processing & Non Adjusted Model \n"
   ]
  },
  {
   "cell_type": "code",
   "execution_count": 39,
   "metadata": {},
   "outputs": [
    {
     "name": "stdout",
     "output_type": "stream",
     "text": [
      "Coefficients : [ 0.13198862  0.56138726 -0.6980025  -1.10537929 -0.68106458 -0.99805712\n",
      "  0.40270404  0.85313086]\n",
      "Intercept : 0.028504307998672568\n",
      "Importance of coefficients : ['bs(train, knots=(1.49, 1.67, 1.91, 2.18, 2.516), degree=3, include_intercept=False)[3]', 'bs(train, knots=(1.49, 1.67, 1.91, 2.18, 2.516), degree=3, include_intercept=False)[5]', 'bs(train, knots=(1.49, 1.67, 1.91, 2.18, 2.516), degree=3, include_intercept=False)[2]', 'bs(train, knots=(1.49, 1.67, 1.91, 2.18, 2.516), degree=3, include_intercept=False)[4]', 'bs(train, knots=(1.49, 1.67, 1.91, 2.18, 2.516), degree=3, include_intercept=False)[0]', 'bs(train, knots=(1.49, 1.67, 1.91, 2.18, 2.516), degree=3, include_intercept=False)[6]', 'bs(train, knots=(1.49, 1.67, 1.91, 2.18, 2.516), degree=3, include_intercept=False)[1]', 'bs(train, knots=(1.49, 1.67, 1.91, 2.18, 2.516), degree=3, include_intercept=False)[7]']\n"
     ]
    }
   ],
   "source": [
    "#### Non Adjusted Model : the variables keeped are only B Spline transformation\n",
    "X_Bspline = transformed_fibriB[transformed_fibriB.columns[1:]]\n",
    "MBS = LogisticRegression().fit(X_Bspline,y)\n",
    "liste_coef = np.concatenate([MBS.intercept_,MBS.coef_[0]])\n",
    "\n",
    "### Récupération des coeff \n",
    "print(\"Coefficients : \" + str(MBS.coef_[0]))\n",
    "print(\"Intercept : \" + str(MBS.intercept_[0]))\n",
    "print(\"Importance of coefficients : \" + str([X_Bspline.columns[np.argsort(MBS.coef_[0])][i] for i in range(len(MBS.coef_[0]))]))"
   ]
  },
  {
   "cell_type": "code",
   "execution_count": 40,
   "metadata": {},
   "outputs": [
    {
     "name": "stdout",
     "output_type": "stream",
     "text": [
      "1.283566648350896\n",
      "0.4738259820525477\n",
      "0.4840762247142896\n",
      "0.49383715793731864\n",
      "1.1370812128729408\n"
     ]
    }
   ],
   "source": [
    "# Probability of each classes\n",
    "odd_class1 = np.exp(np.sum(liste_coef*bspline_val[0]))\n",
    "print(odd_class1)\n",
    "odd_class2 = np.exp(np.sum(liste_coef*bspline_val[1]))\n",
    "print(odd_class2)\n",
    "odd_class3 = np.exp(np.sum(liste_coef*bspline_val[2]))\n",
    "print(odd_class3)\n",
    "odd_class4 = np.exp(np.sum(liste_coef*bspline_val[3]))\n",
    "print(odd_class4)\n",
    "odd_class5 = np.exp(np.sum(liste_coef*bspline_val[4]))\n",
    "print(odd_class5)"
   ]
  },
  {
   "cell_type": "code",
   "execution_count": 41,
   "metadata": {},
   "outputs": [],
   "source": [
    "column = 'Bspline Non_Adjusted'\n",
    "Res[column][0] = odd_class1/odd_class3\n",
    "Res[column][1] = odd_class2/odd_class3\n",
    "Res[column][2] = odd_class3/odd_class3\n",
    "Res[column][3] = odd_class4/odd_class3\n",
    "Res[column][4] = odd_class5/odd_class3"
   ]
  },
  {
   "cell_type": "markdown",
   "metadata": {},
   "source": [
    "###### V3.3. Natural Cubic Spline Pre processing & Adjusted Model "
   ]
  },
  {
   "cell_type": "code",
   "execution_count": 42,
   "metadata": {},
   "outputs": [
    {
     "name": "stdout",
     "output_type": "stream",
     "text": [
      "Coefficients : [-0.46821734 -1.17163762  0.04593943 -0.01875027  0.21104609  0.39759557\n",
      "  1.52578108  0.85906103  0.12251407 -0.35200613  0.08801208 -0.03615589\n",
      "  2.3232921 ]\n",
      "Intercept  : 5.325896469470427\n",
      "Importance of coefficients : ['aod', 'hb', 'cr(train, knots=(1.49, 1.67, 1.91, 2.18, 2.516))[3]', 'cr(train, knots=(1.49, 1.67, 1.91, 2.18, 2.516))[5]', 'poids', 'kardegic', 'cr(train, knots=(1.49, 1.67, 1.91, 2.18, 2.516))[4]', 'cr(train, knots=(1.49, 1.67, 1.91, 2.18, 2.516))[2]', 'type intervention', 'duree rea', 'cr(train, knots=(1.49, 1.67, 1.91, 2.18, 2.516))[1]', 'cr(train, knots=(1.49, 1.67, 1.91, 2.18, 2.516))[0]', 'cr(train, knots=(1.49, 1.67, 1.91, 2.18, 2.516))[6]']\n"
     ]
    }
   ],
   "source": [
    "#### Adjusted Model \n",
    "n_var = 6\n",
    "MNA = LogisticRegression().fit(X_SelectN,y)\n",
    "liste_coef = np.concatenate([MNA.intercept_,MNA.coef_[0][n_var:]])\n",
    "\n",
    "### Coefficients\n",
    "print(\"Coefficients : \" + str(MNA.coef_[0]))\n",
    "print(\"Intercept  : \" + str(MNA.intercept_[0]))\n",
    "print(\"Importance of coefficients : \" + str([X_SelectN.columns[np.argsort(MNA.coef_[0])][i] for i in range(len(MNA.coef_[0]))]))"
   ]
  },
  {
   "cell_type": "code",
   "execution_count": 43,
   "metadata": {},
   "outputs": [
    {
     "name": "stdout",
     "output_type": "stream",
     "text": [
      "923.5516156770184\n",
      "178.66668930617053\n",
      "236.2986052799754\n",
      "171.248135053076\n",
      "404.41721689660494\n"
     ]
    }
   ],
   "source": [
    "# Probability of each classes\n",
    "odd_class1 = np.exp(np.sum(liste_coef*Nspline_val[0]))\n",
    "print(odd_class1)\n",
    "odd_class2 = np.exp(np.sum(liste_coef*Nspline_val[1]))\n",
    "print(odd_class2)\n",
    "odd_class3 = np.exp(np.sum(liste_coef*Nspline_val[2]))\n",
    "print(odd_class3)\n",
    "odd_class4 = np.exp(np.sum(liste_coef*Nspline_val[3]))\n",
    "print(odd_class4)\n",
    "odd_class5 = np.exp(np.sum(liste_coef*Nspline_val[4]))\n",
    "print(odd_class5)"
   ]
  },
  {
   "cell_type": "code",
   "execution_count": 44,
   "metadata": {},
   "outputs": [],
   "source": [
    "column = 'Natural Cubic Adjusted'\n",
    "Res[column][0] = odd_class1/odd_class3\n",
    "Res[column][1] = odd_class2/odd_class3\n",
    "Res[column][2] = odd_class3/odd_class3\n",
    "Res[column][3] = odd_class4/odd_class3\n",
    "Res[column][4] = odd_class5/odd_class3"
   ]
  },
  {
   "cell_type": "markdown",
   "metadata": {},
   "source": [
    "###### V3.4. Natural Cubic Spline Pre processing & Non Adjusted Model "
   ]
  },
  {
   "cell_type": "code",
   "execution_count": 45,
   "metadata": {},
   "outputs": [
    {
     "name": "stdout",
     "output_type": "stream",
     "text": [
      "Coefficients : [ 0.76294101  0.15463363 -0.37294307 -0.78673437 -0.53636032 -0.52325982\n",
      "  1.30621591]\n",
      "Intercept  : -0.19317174907736132\n",
      "Importance of coefficients : ['cr(train, knots=(1.49, 1.67, 1.91, 2.18, 2.516))[3]', 'cr(train, knots=(1.49, 1.67, 1.91, 2.18, 2.516))[4]', 'cr(train, knots=(1.49, 1.67, 1.91, 2.18, 2.516))[5]', 'cr(train, knots=(1.49, 1.67, 1.91, 2.18, 2.516))[2]', 'cr(train, knots=(1.49, 1.67, 1.91, 2.18, 2.516))[1]', 'cr(train, knots=(1.49, 1.67, 1.91, 2.18, 2.516))[0]', 'cr(train, knots=(1.49, 1.67, 1.91, 2.18, 2.516))[6]']\n"
     ]
    }
   ],
   "source": [
    "#### Non Adjusted Model : the variables keeped are only B Spline transformation\n",
    "X_Nspline = transformed_fibriN[transformed_fibriN.columns[1:]]\n",
    "MN = LogisticRegression().fit(X_Nspline,y)\n",
    "liste_coef = np.concatenate([MN.intercept_,MN.coef_[0]])\n",
    "\n",
    "### Récupération des coeff \n",
    "print(\"Coefficients : \" + str(MN.coef_[0]))\n",
    "print(\"Intercept  : \" + str(MN.intercept_[0]))\n",
    "print(\"Importance of coefficients : \" + str([X_Nspline.columns[np.argsort(MN.coef_[0])][i] for i in range(len(MN.coef_[0]))]))"
   ]
  },
  {
   "cell_type": "code",
   "execution_count": 46,
   "metadata": {},
   "outputs": [
    {
     "name": "stdout",
     "output_type": "stream",
     "text": [
      "1.5827719170354544\n",
      "0.4625888809005085\n",
      "0.503977887802874\n",
      "0.47765024165506215\n",
      "1.002605754467907\n"
     ]
    }
   ],
   "source": [
    "# Probability of each classes\n",
    "odd_class1 = np.exp(np.sum(liste_coef*Nspline_val[0]))\n",
    "print(odd_class1)\n",
    "odd_class2 = np.exp(np.sum(liste_coef*Nspline_val[1]))\n",
    "print(odd_class2)\n",
    "odd_class3 = np.exp(np.sum(liste_coef*Nspline_val[2]))\n",
    "print(odd_class3)\n",
    "odd_class4 = np.exp(np.sum(liste_coef*Nspline_val[3]))\n",
    "print(odd_class4)\n",
    "odd_class5 = np.exp(np.sum(liste_coef*Nspline_val[4]))\n",
    "print(odd_class5)"
   ]
  },
  {
   "cell_type": "code",
   "execution_count": 47,
   "metadata": {},
   "outputs": [],
   "source": [
    "column = 'Natural Cubic Non_Adjusted'\n",
    "Res[column][0] = odd_class1/odd_class3\n",
    "Res[column][1] = odd_class2/odd_class3\n",
    "Res[column][2] = odd_class3/odd_class3\n",
    "Res[column][3] = odd_class4/odd_class3\n",
    "Res[column][4] = odd_class5/odd_class3"
   ]
  },
  {
   "cell_type": "markdown",
   "metadata": {},
   "source": [
    "###### V3.5. Categorization Pre processing  & Adjusted Model "
   ]
  },
  {
   "cell_type": "code",
   "execution_count": 48,
   "metadata": {},
   "outputs": [
    {
     "name": "stdout",
     "output_type": "stream",
     "text": [
      "Coefficients : [ 1.34382957  0.68845626  0.73884064 -0.24147402  1.35055846 -0.55748881\n",
      " -1.06838185  0.0561189  -0.0209015   0.2121616   0.38975499]\n",
      "Intercept : 6.166654246676692\n",
      "Importance of coefficients : ['aod', 'hb', 'Fibri Cat 4', 'poids', 'kardegic', 'type intervention', 'duree rea', 'Fibri Cat 2', 'Fibri Cat 3', 'Fibri Cat 1', 'Fibri Cat 5']\n"
     ]
    }
   ],
   "source": [
    "#### Adjusted Model \n",
    "n_var = 6\n",
    "MCA = LogisticRegression().fit(X_SelectC,y)\n",
    "\n",
    "### Coefficients\n",
    "print(\"Coefficients : \" + str(MCA.coef_[0]))\n",
    "print(\"Intercept : \" + str(MCA.intercept_[0]))\n",
    "print(\"Importance of coefficients : \" + str([X_SelectC.columns[np.argsort(MCA.coef_[0])][i] for i in range(len(MCA.coef_[0]))]))"
   ]
  },
  {
   "cell_type": "code",
   "execution_count": 49,
   "metadata": {},
   "outputs": [
    {
     "name": "stdout",
     "output_type": "stream",
     "text": [
      "3.8336968536619227\n",
      "1.9906401271334753\n",
      "2.0935069784028864\n",
      "0.7854692090396044\n",
      "3.8595803377817326\n"
     ]
    }
   ],
   "source": [
    "# Probability of each classes\n",
    "odd_class1 = np.exp(np.sum(MCA.coef_[0][0]))\n",
    "print(odd_class1)\n",
    "odd_class2 = np.exp(np.sum(MCA.coef_[0][1]))\n",
    "print(odd_class2)\n",
    "odd_class3 = np.exp(np.sum(MCA.coef_[0][2]))\n",
    "print(odd_class3)\n",
    "odd_class4 = np.exp(np.sum(MCA.coef_[0][3]))\n",
    "print(odd_class4)\n",
    "odd_class5 = np.exp(np.sum(MCA.coef_[0][4]))\n",
    "print(odd_class5)"
   ]
  },
  {
   "cell_type": "code",
   "execution_count": 50,
   "metadata": {},
   "outputs": [],
   "source": [
    "column = 'Categorization Adjusted'\n",
    "Res[column][0] = odd_class1/odd_class3\n",
    "Res[column][1] = odd_class2/odd_class3\n",
    "Res[column][2] = odd_class3/odd_class3\n",
    "Res[column][3] = odd_class4/odd_class3\n",
    "Res[column][4] = odd_class5/odd_class3"
   ]
  },
  {
   "cell_type": "markdown",
   "metadata": {},
   "source": [
    "##### V3.6. Categorization Pre processing  & Non Adjusted Model "
   ]
  },
  {
   "cell_type": "code",
   "execution_count": 51,
   "metadata": {},
   "outputs": [
    {
     "name": "stdout",
     "output_type": "stream",
     "text": [
      "Coefficient : [ 0.45098924 -0.43335191 -0.52389235 -0.81417164  0.20670961]\n",
      "Intercept : -0.2284306228215878\n",
      "Importance of coefficients : ['Fibri Cat 4', 'Fibri Cat 3', 'Fibri Cat 2', 'Fibri Cat 5', 'Fibri Cat 1']\n"
     ]
    }
   ],
   "source": [
    "#### Non Adjusted Model : the variables keeped are only B Spline transformation\n",
    "X_Cate = X_C[['Fibri Cat 1', 'Fibri Cat 2', 'Fibri Cat 3', 'Fibri Cat 4', 'Fibri Cat 5']]\n",
    "MCNA = LogisticRegression().fit(X_Cate,y)\n",
    "\n",
    "### Récupération des coeff \n",
    "print(\"Coefficient : \" + str(MCNA.coef_[0]))\n",
    "print(\"Intercept : \" + str(MCNA.intercept_[0]))\n",
    "print(\"Importance of coefficients : \" + str([X_Cate.columns[np.argsort(MCNA.coef_[0])][i] for i in range(len(MCNA.coef_[0]))]))"
   ]
  },
  {
   "cell_type": "code",
   "execution_count": 52,
   "metadata": {},
   "outputs": [
    {
     "name": "stdout",
     "output_type": "stream",
     "text": [
      "1.5698643906658025\n",
      "0.648332296007896\n",
      "0.5922109651011117\n",
      "0.4430061448372167\n",
      "1.2296254467434495\n"
     ]
    }
   ],
   "source": [
    "# Probability of each classes\n",
    "odd_class1 = np.exp(np.sum(MCNA.coef_[0][0]))\n",
    "print(odd_class1)\n",
    "odd_class2 = np.exp(np.sum(MCNA.coef_[0][1]))\n",
    "print(odd_class2)\n",
    "odd_class3 = np.exp(np.sum(MCNA.coef_[0][2]))\n",
    "print(odd_class3)\n",
    "odd_class4 = np.exp(np.sum(MCNA.coef_[0][3]))\n",
    "print(odd_class4)\n",
    "odd_class5 = np.exp(np.sum(MCNA.coef_[0][4]))\n",
    "print(odd_class5)"
   ]
  },
  {
   "cell_type": "code",
   "execution_count": 53,
   "metadata": {},
   "outputs": [],
   "source": [
    "column = 'Categorization Non_Adjusted'\n",
    "Res[column][0] = odd_class1/odd_class3\n",
    "Res[column][1] = odd_class2/odd_class3\n",
    "Res[column][2] = odd_class3/odd_class3\n",
    "Res[column][3] = odd_class4/odd_class3\n",
    "Res[column][4] = odd_class5/odd_class3"
   ]
  },
  {
   "cell_type": "markdown",
   "metadata": {},
   "source": [
    "##### V3.7. Table of Results"
   ]
  },
  {
   "cell_type": "code",
   "execution_count": 54,
   "metadata": {},
   "outputs": [
    {
     "data": {
      "text/html": [
       "<div>\n",
       "<style scoped>\n",
       "    .dataframe tbody tr th:only-of-type {\n",
       "        vertical-align: middle;\n",
       "    }\n",
       "\n",
       "    .dataframe tbody tr th {\n",
       "        vertical-align: top;\n",
       "    }\n",
       "\n",
       "    .dataframe thead th {\n",
       "        text-align: right;\n",
       "    }\n",
       "</style>\n",
       "<table border=\"1\" class=\"dataframe\">\n",
       "  <thead>\n",
       "    <tr style=\"text-align: right;\">\n",
       "      <th></th>\n",
       "      <th>Categorization Adjusted</th>\n",
       "      <th>Categorization Non_Adjusted</th>\n",
       "      <th>BSpline Ajusted</th>\n",
       "      <th>Bspline Non_Adjusted</th>\n",
       "      <th>Natural Cubic Adjusted</th>\n",
       "      <th>Natural Cubic Non_Adjusted</th>\n",
       "    </tr>\n",
       "  </thead>\n",
       "  <tbody>\n",
       "    <tr>\n",
       "      <th>0</th>\n",
       "      <td>1.83123</td>\n",
       "      <td>2.65085</td>\n",
       "      <td>2.53748</td>\n",
       "      <td>2.65158</td>\n",
       "      <td>3.90841</td>\n",
       "      <td>3.14056</td>\n",
       "    </tr>\n",
       "    <tr>\n",
       "      <th>1</th>\n",
       "      <td>0.950864</td>\n",
       "      <td>1.09477</td>\n",
       "      <td>0.907681</td>\n",
       "      <td>0.978825</td>\n",
       "      <td>0.756106</td>\n",
       "      <td>0.917875</td>\n",
       "    </tr>\n",
       "    <tr>\n",
       "      <th>2</th>\n",
       "      <td>1</td>\n",
       "      <td>1</td>\n",
       "      <td>1</td>\n",
       "      <td>1</td>\n",
       "      <td>1</td>\n",
       "      <td>1</td>\n",
       "    </tr>\n",
       "    <tr>\n",
       "      <th>3</th>\n",
       "      <td>0.375193</td>\n",
       "      <td>0.748055</td>\n",
       "      <td>0.737877</td>\n",
       "      <td>1.02016</td>\n",
       "      <td>0.724711</td>\n",
       "      <td>0.94776</td>\n",
       "    </tr>\n",
       "    <tr>\n",
       "      <th>4</th>\n",
       "      <td>1.8436</td>\n",
       "      <td>2.07633</td>\n",
       "      <td>1.80079</td>\n",
       "      <td>2.34897</td>\n",
       "      <td>1.71147</td>\n",
       "      <td>1.98938</td>\n",
       "    </tr>\n",
       "  </tbody>\n",
       "</table>\n",
       "</div>"
      ],
      "text/plain": [
       "  Categorization Adjusted Categorization Non_Adjusted BSpline Ajusted  \\\n",
       "0                 1.83123                     2.65085         2.53748   \n",
       "1                0.950864                     1.09477        0.907681   \n",
       "2                       1                           1               1   \n",
       "3                0.375193                    0.748055        0.737877   \n",
       "4                  1.8436                     2.07633         1.80079   \n",
       "\n",
       "  Bspline Non_Adjusted Natural Cubic Adjusted Natural Cubic Non_Adjusted  \n",
       "0              2.65158                3.90841                    3.14056  \n",
       "1             0.978825               0.756106                   0.917875  \n",
       "2                    1                      1                          1  \n",
       "3              1.02016               0.724711                    0.94776  \n",
       "4              2.34897                1.71147                    1.98938  "
      ]
     },
     "execution_count": 54,
     "metadata": {},
     "output_type": "execute_result"
    }
   ],
   "source": [
    "Res"
   ]
  },
  {
   "cell_type": "code",
   "execution_count": null,
   "metadata": {},
   "outputs": [],
   "source": []
  },
  {
   "cell_type": "code",
   "execution_count": null,
   "metadata": {},
   "outputs": [],
   "source": []
  }
 ],
 "metadata": {
  "kernelspec": {
   "display_name": "Python 3",
   "language": "python",
   "name": "python3"
  },
  "language_info": {
   "codemirror_mode": {
    "name": "ipython",
    "version": 3
   },
   "file_extension": ".py",
   "mimetype": "text/x-python",
   "name": "python",
   "nbconvert_exporter": "python",
   "pygments_lexer": "ipython3",
   "version": "3.8.3"
  }
 },
 "nbformat": 4,
 "nbformat_minor": 4
}
